{
 "cells": [
  {
   "cell_type": "markdown",
   "metadata": {},
   "source": [
    "# Intro to cheminformatics with RDkit\n",
    "\n",
    "\n",
    "<div class=\"alert alert-block alert-info\">\n",
    "<h2>Objectives:</h2>\n",
    "\n",
    "* Import packages/libraries\n",
    "\n",
    "* SMILES strings\n",
    "\n",
    "* RDKit library\n",
    "\n",
    "* Run functions\n",
    "    * `Chem.MolFromSmiles()`\n",
    "    * `Chem.Draw.MolToImage()`\n",
    "    * `Descriptors.ExactMolWt()`\n",
    "    \n",
    "\n",
    "\n",
    "</div>\n",
    "\n",
    "There are Python libraries that are made for working just with chemical data. One commonly used library in Python for data science (or cheminformatics) is called [RDKit](https://en.wikipedia.org/wiki/RDKit).\n",
    "\n",
    "RDKit provides a molecule object that allows you to manipulate chemical structures. It has capabilities for reading and writing molecular file formats, calculating molecular properties, and performing substructure searches. In addition, it offers a wide range of cheminformatics algorithms such as molecular fingerprint generation, similarity metrics calculation, and molecular descriptor computation. This notebook will only introduce a few RDKit basics and a common molecular format called SMILES. "
   ]
  },
  {
   "cell_type": "markdown",
   "metadata": {},
   "source": [
    "## Simplified Molecular-Input Line-entry System: SMILES \n",
    "\n",
    "SMILES stands for \"Simplified Molecular-Input Line-Entry System\" and is a way to represent molecules as a string of characters. SMILES is basically the cheminformatics version of the condensed formula we learned in gen chem.\n",
    "\n",
    "You can read more about the SMILES syntax at [this tutorial](https://chemicbook.com/2021/02/13/smiles-strings-explained-for-beginners-part-1.html)\n",
    "\n",
    "### SMILES examples\n",
    "\n",
    "| Name              | SMILES      | Rule concepts                                 | Structure                                          |\n",
    "| ----------------- | ----------- | --------------------------------------------- | -------------------------------------------------- |\n",
    "| Ethanol           | CCO         | Atoms: `C` carbon, `O` oxygen<br>             | ![ethanol](images/ethanol.png)                     |\n",
    "| Propargyl bromide | C#CCBr      | Atoms: `Br` bromine<br>Bonds: `#` triple      | ![Propargyl_bromide](images/propargyl_bromide.png) |\n",
    "| 2-Propanone       | CC(=O)C     | Bonds: `=` double<br>Branches: `()`           | ![isopropanone](images/isopropanone.png)           |\n",
    "| Phenol            | c1(O)ccccc1 | Aromatics: `c` lower case<br>Rings: `1.....1` | ![phenol](images/phenol.png)                       |\n",
    "\n",
    "\n",
    "### Look up SMILES:\n",
    "\n",
    "Most of the time, you will not need to write a SMILES string by hand.\n",
    "You will be able to look up a molecule's SMILES string from a web database like:\n",
    "* [PubChem](https://pubchem.ncbi.nlm.nih.gov/compound/Eugenol#section=SMILES) - names and identifiers section\n",
    "\n",
    "    ![pubchem_eugenol](images/pubchem_eugenol.png)\n",
    "    \n",
    "* [Wikipedia](https://en.wikipedia.org/wiki/eugenol) - chemical identifiers panel\n",
    "\n",
    "    ![wiki_eugenol](images/wikipedia_eugenol.png)\n",
    "\n",
    "### SMILES and Chemdraw\n",
    "\n",
    "#### Copy SMILES\n",
    "\n",
    "You can copy a Chemdraw molecule as a SMILES string by:\n",
    "1. Selecting the molecule\n",
    "2. Open the Edit tab\n",
    "3. Copy As > SMILES\n",
    "\n",
    "#### Paste SMILES\n",
    "\n",
    "You can [paste a SMILES structure into ChemDraw](https://people.stfx.ca/blynch/CS%20ChemOffice%202004/CS%20ChemDraw/CS%20ChemDraw%20Help/CD8ch11a5.html) to visualize a structure by:\n",
    "\n",
    "1. Right-clicking\n",
    "2. Special Paste > SMILES\n",
    "\n",
    "![chemdraw_eugenol](images/chemdraw_eugenol.png)"
   ]
  },
  {
   "cell_type": "markdown",
   "metadata": {},
   "source": [
    "<div class=\"alert alert-block alert-warning\">\n",
    "<h3>Exercise</h3>\n",
    "\n",
    "<p> Use online resources to look up the SMILES string for the following structures:\n",
    "<p>\n",
    "    <ul>\n",
    "        <li> What is the SMILES for ethyl acetate?</li>\n",
    "        <li> What is the SMILES for vanillin?</li>\n",
    "        <li> What is the SMILES for amoxicillin?</li>\n",
    "    </ul>\n",
    "</p>\n",
    "\n",
    "</div>"
   ]
  },
  {
   "cell_type": "code",
   "execution_count": 6,
   "metadata": {},
   "outputs": [],
   "source": [
    "# Fill in your answers here as strings (remember to use quotation marks):\n",
    "ethyl_acetate_smiles = 'O=C(OCC)C'\n",
    "vanillin_smiles = 'c1(C=O)cc(OC)c(O)cc1'\n",
    "amoxicillin_smiles = 'O=C(O)[C@@H]2N3C(=O)[C@@H](NC(=O)[C@@H](c1ccc(O)cc1)N)[C@H]3SC2(C)C'"
   ]
  },
  {
   "cell_type": "markdown",
   "metadata": {},
   "source": [
    "## Importing Packages\n",
    "In Python, we use **packages** (or libraries) to add extra functionality to our programs without having to reinvent the wheel ourselves. For example, RDKit is a library of tools specifically designed for cheminformatics.\n",
    "\n",
    "To import a package, we use the `import` statement. Below, we'll import `rdkit` and `py3Dmol`. We will also directly import some `rdkit` modules (`AllChem`, `rdMolDescriptors`, `Descriptors3D`) that we will be using later in the notebook.\n"
   ]
  },
  {
   "cell_type": "code",
   "execution_count": 173,
   "metadata": {},
   "outputs": [],
   "source": [
    "import rdkit\n",
    "import py3Dmol\n",
    "from rdkit.Chem import AllChem, rdMolDescriptors, Descriptors3D"
   ]
  },
  {
   "cell_type": "markdown",
   "metadata": {},
   "source": [
    "## Creating Molecules with RDKit\n",
    "\n",
    "Throughout this tutorial, it will be helpful to have access to the [RDKit documentation](https://www.rdkit.org/docs/index.html). \n",
    "\n",
    "To get information about molecules in RDKit, we have to first create objects representing molecules. We will use SMILES strings to load our structures into RDkit, although RDKit accepts many other file formats.\n",
    "\n",
    "### Creating molecules using SMILES\n",
    "\n",
    "We can create a representation of ibuprofen using RDKit by using the `MolFromSmiles` function in `rdkit.Chem`."
   ]
  },
  {
   "cell_type": "code",
   "execution_count": 2,
   "metadata": {},
   "outputs": [],
   "source": [
    "ibuprofen_smiles = 'CC(Cc1ccc(cc1)C(C(=O)O)C)C'\n",
    "ibuprofen = rdkit.Chem.MolFromSmiles(ibuprofen_smiles)"
   ]
  },
  {
   "cell_type": "markdown",
   "metadata": {},
   "source": [
    "Let's explore the output of the `Chem.MolFromSmiles()` function using the `print()` and `type()` functions."
   ]
  },
  {
   "cell_type": "code",
   "execution_count": 22,
   "metadata": {},
   "outputs": [
    {
     "name": "stdout",
     "output_type": "stream",
     "text": [
      "<rdkit.Chem.rdchem.Mol object at 0x7efb7ff0f3e0>\n"
     ]
    },
    {
     "data": {
      "text/plain": [
       "rdkit.Chem.rdchem.Mol"
      ]
     },
     "execution_count": 22,
     "metadata": {},
     "output_type": "execute_result"
    }
   ],
   "source": [
    "print(ibuprofen)\n",
    "type(ibuprofen)"
   ]
  },
  {
   "cell_type": "markdown",
   "metadata": {},
   "source": [
    "The `print()` function doesn't known how to represent this object. Instead it informed us that the variable `ibuprofen` is an RDkit `mol` object..\n",
    "\n",
    "<div class=\"alert alert-block alert-success\"> \n",
    "<strong>Python Skills: Python Objects</strong>\n",
    "\n",
    "Most of this functionality is achieved through the RDKit `mol` object. In Python, we use the word \"object\" to refer to a variable type with associated data and methods. \n",
    "One example of an object we have seen in notebooks is a list - we could also call it a \"list object\". An object has `attributes` (data) and `methods`. \n",
    "You access information about objects with the syntax\n",
    "```python\n",
    "object.data\n",
    "```\n",
    "where data is the attribute name.\n",
    "\n",
    "You acceess object methods with the syntax\n",
    "```python\n",
    "object.method(arguments)\n",
    "```\n",
    "\n",
    "For example, for a list \"`append` is a method that was covered in the introductory lesson.\n",
    "\n",
    "```\n",
    "my_list = []\n",
    "my_list.append(1) # \"append\" is a method\n",
    "```\n",
    "</div>   \n",
    "\n",
    "## Draw molecules\n",
    "\n",
    "To interact with our `ibuprofen` molecule object we need to use Rdkit methods associates with an `RDkit.mol` object.\n",
    "\n",
    "We can draw the molecule using the `Chem.Draw.MolToImage()` method."
   ]
  },
  {
   "cell_type": "code",
   "execution_count": 159,
   "metadata": {},
   "outputs": [
    {
     "data": {
      "image/jpeg": "[encoded data removed]",
      "image/png": "[encoded data removed]",
      "text/plain": [
       "<PIL.PngImagePlugin.PngImageFile image mode=RGB size=300x300>"
      ]
     },
     "execution_count": 159,
     "metadata": {},
     "output_type": "execute_result"
    }
   ],
   "source": [
    "rdkit.Chem.Draw.MolToImage(ibuprofen, legend='ibuprofen')"
   ]
  },
  {
   "cell_type": "markdown",
   "metadata": {},
   "source": [
    "Luckily, Jupyter is smart! Jupyter will automatically draw an RDkit `mol` object if it is in the last line of a code cell like this:"
   ]
  },
  {
   "cell_type": "code",
   "execution_count": 24,
   "metadata": {},
   "outputs": [
    {
     "data": {
      "image/png": "[encoded data removed]",
      "text/plain": [
       "<rdkit.Chem.rdchem.Mol at 0x7efb7ff0f680>"
      ]
     },
     "execution_count": 24,
     "metadata": {},
     "output_type": "execute_result"
    }
   ],
   "source": [
    "lysine = rdkit.Chem.MolFromSmiles(\"C(CCN)C[C@@H](C(=O)O)N\")\n",
    "lysine"
   ]
  },
  {
   "cell_type": "markdown",
   "metadata": {},
   "source": [
    "<div class=\"alert alert-block alert-warning\"> \n",
    "<h3>Challenge</h3>\n",
    "\n",
    "Use your smiles strings to create RDkit molecule objects (named: `ethyl_acetate`, `vanillin`, `amoxicillin`). Then, draw each structure in its own code cell.\n",
    "- `ethyl_acetate_smiles`\n",
    "- `vanillin_smiles`\n",
    "- `amoxicillin_smiles`\n",
    "\n",
    "You can look up the SMILES strings on <a href=\"https://pubchem.ncbi.nlm.nih.gov/\">PubChem</a> or <a href=\"https://en.wikipedia.org/wiki/Main_Page\">Wikipedia</a>\n",
    "</div>"
   ]
  },
  {
   "cell_type": "code",
   "execution_count": 146,
   "metadata": {},
   "outputs": [],
   "source": [
    "ethyl_acetate = rdkit.Chem.MolFromSmiles(ethyl_acetate_smiles)\n",
    "vanillin = rdkit.Chem.MolFromSmiles(vanillin_smiles)\n",
    "amoxicillin = rdkit.Chem.MolFromSmiles(amoxicillin_smiles)"
   ]
  },
  {
   "cell_type": "code",
   "execution_count": 161,
   "metadata": {},
   "outputs": [
    {
     "data": {
      "image/jpeg": "[encoded data removed]",
      "image/png": "[encoded data removed]",
      "text/plain": [
       "<PIL.PngImagePlugin.PngImageFile image mode=RGB size=200x200>"
      ]
     },
     "execution_count": 161,
     "metadata": {},
     "output_type": "execute_result"
    }
   ],
   "source": [
    "rdkit.Chem.Draw.MolToImage(ethyl_acetate, legend='ethyl acetate', size=(200,200))"
   ]
  },
  {
   "cell_type": "code",
   "execution_count": 154,
   "metadata": {},
   "outputs": [
    {
     "data": {
      "image/jpeg": "[encoded data removed]",
      "image/png": "[encoded data removed]",
      "text/plain": [
       "<PIL.PngImagePlugin.PngImageFile image mode=RGB size=300x300>"
      ]
     },
     "execution_count": 154,
     "metadata": {},
     "output_type": "execute_result"
    }
   ],
   "source": [
    "rdkit.Chem.Draw.MolToImage(vanillin, legend=\"vanillin\")"
   ]
  },
  {
   "cell_type": "code",
   "execution_count": 152,
   "metadata": {},
   "outputs": [
    {
     "data": {
      "image/png": "[encoded data removed]",
      "text/plain": [
       "<rdkit.Chem.rdchem.Mol at 0x7fc2760ca650>"
      ]
     },
     "execution_count": 152,
     "metadata": {},
     "output_type": "execute_result"
    }
   ],
   "source": [
    "amoxicillin"
   ]
  },
  {
   "cell_type": "markdown",
   "metadata": {},
   "source": [
    "## Working with 3D Molecules\n",
    "\n",
    "Visualizing molecules in 3D requires:\n",
    "* Adding hygrogens for proper geometry\n",
    "* Creating a geomertrically accuate conformation\n",
    "* Using energy force fields to minimize the energy of the molecular conformation"
   ]
  },
  {
   "cell_type": "code",
   "execution_count": 164,
   "metadata": {},
   "outputs": [
    {
     "data": {
      "image/png": "[encoded data removed]",
      "text/plain": [
       "<rdkit.Chem.rdchem.Mol at 0x7fc275e73d10>"
      ]
     },
     "execution_count": 164,
     "metadata": {},
     "output_type": "execute_result"
    }
   ],
   "source": [
    "# Add Hydrogen atoms to molecule\n",
    "amoxicillin = AllChem.AddHs(amoxicillin)\n",
    "\n",
    "# Create a 3D molecule\n",
    "AllChem.EmbedMolecule(amoxicillin)\n",
    "\n",
    "# Minimize energy of molecular conformation\n",
    "AllChem.MMFFOptimizeMolecule(amoxicillin)\n",
    "\n",
    "amoxicillin"
   ]
  },
  {
   "cell_type": "markdown",
   "metadata": {},
   "source": [
    "## Interactive molecules\n",
    "\n",
    "A package called py3Dmol can even let us interact with our 3D molecule.\n",
    "\n",
    "|  Action   |       Control       |\n",
    "| :-------: | :-----------------: |\n",
    "|  rotate   |  left click + drag  |\n",
    "| translate | center click + drag |\n",
    "|   zoom    | right click + drag  |"
   ]
  },
  {
   "cell_type": "code",
   "execution_count": 165,
   "metadata": {},
   "outputs": [
    {
     "data": {
      "application/3dmoljs_load.v0": "<div id=\"3dmolviewer_17331721363140824\"  style=\"position: relative; width: 640px; height: 480px;\">\n        <p id=\"3dmolwarning_17331721363140824\" style=\"background-color:#ffcccc;color:black\">3Dmol.js failed to load for some reason.  Please check your browser console for error messages.<br></p>\n        </div>\n<script>\n\nvar loadScriptAsync = function(uri){\n  return new Promise((resolve, reject) => {\n    //this is to ignore the existence of requirejs amd\n    var savedexports, savedmodule;\n    if (typeof exports !== 'undefined') savedexports = exports;\n    else exports = {}\n    if (typeof module !== 'undefined') savedmodule = module;\n    else module = {}\n\n    var tag = document.createElement('script');\n    tag.src = uri;\n    tag.async = true;\n    tag.onload = () => {\n        exports = savedexports;\n        module = savedmodule;\n        resolve();\n    };\n  var firstScriptTag = document.getElementsByTagName('script')[0];\n  firstScriptTag.parentNode.insertBefore(tag, firstScriptTag);\n});\n};\n\nif(typeof $3Dmolpromise === 'undefined') {\n$3Dmolpromise = null;\n  $3Dmolpromise = loadScriptAsync('https://cdnjs.cloudflare.com/ajax/libs/3Dmol/2.4.2/3Dmol-min.js');\n}\n\nvar viewer_17331721363140824 = null;\nvar warn = document.getElementById(\"3dmolwarning_17331721363140824\");\nif(warn) {\n    warn.parentNode.removeChild(warn);\n}\n$3Dmolpromise.then(function() {\nviewer_17331721363140824 = $3Dmol.createViewer(document.getElementById(\"3dmolviewer_17331721363140824\"),{backgroundColor:\"white\"});\nviewer_17331721363140824.addModel(\"\\n     RDKit          3D\\n\\n 44 46  0  0  0  0  0  0  0  0999 V2000\\n   -5.3036    1.1837   -0.6957 O   0  0  0  0  0  0  0  0  0  0  0  0\\n   -4.5861    0.5552    0.0687 C   0  0  0  0  0  0  0  0  0  0  0  0\\n   -4.9539    0.4231    1.3594 O   0  0  0  0  0  0  0  0  0  0  0  0\\n   -3.2478   -0.0936   -0.3009 C   0  0  2  0  0  0  0  0  0  0  0  0\\n   -2.7766   -0.9499    0.7841 N   0  0  0  0  0  0  0  0  0  0  0  0\\n   -1.9721   -2.0244    0.5452 C   0  0  0  0  0  0  0  0  0  0  0  0\\n   -1.9618   -2.8239   -0.3622 O   0  0  0  0  0  0  0  0  0  0  0  0\\n   -1.0533   -1.6739    1.7384 C   0  0  1  0  0  0  0  0  0  0  0  0\\n    0.3978   -1.5982    1.4233 N   0  0  0  0  0  0  0  0  0  0  0  0\\n    1.3158   -1.1713    2.3594 C   0  0  0  0  0  0  0  0  0  0  0  0\\n    0.9820   -0.8850    3.5095 O   0  0  0  0  0  0  0  0  0  0  0  0\\n    2.7940   -1.1583    1.8786 C   0  0  1  0  0  0  0  0  0  0  0  0\\n    2.9852   -0.4307    0.5595 C   0  0  0  0  0  0  0  0  0  0  0  0\\n    2.5595    0.8978    0.3894 C   0  0  0  0  0  0  0  0  0  0  0  0\\n    2.7047    1.5380   -0.8429 C   0  0  0  0  0  0  0  0  0  0  0  0\\n    3.2810    0.8592   -1.9086 C   0  0  0  0  0  0  0  0  0  0  0  0\\n    3.3844    1.5151   -3.0984 O   0  0  0  0  0  0  0  0  0  0  0  0\\n    3.7312   -0.4473   -1.7587 C   0  0  0  0  0  0  0  0  0  0  0  0\\n    3.5882   -1.0879   -0.5258 C   0  0  0  0  0  0  0  0  0  0  0  0\\n    3.6680   -0.5944    2.9261 N   0  0  0  0  0  0  0  0  0  0  0  0\\n   -1.8700   -0.3549    1.7778 C   0  0  1  0  0  0  0  0  0  0  0  0\\n   -1.1550    1.1232    0.9618 S   0  0  0  0  0  0  0  0  0  0  0  0\\n   -2.1153    0.9183   -0.6092 C   0  0  0  0  0  0  0  0  0  0  0  0\\n   -2.5777    2.3093   -1.0595 C   0  0  0  0  0  0  0  0  0  0  0  0\\n   -1.1508    0.3654   -1.6743 C   0  0  0  0  0  0  0  0  0  0  0  0\\n   -5.8143    0.8893    1.4167 H   0  0  0  0  0  0  0  0  0  0  0  0\\n   -3.4538   -0.7319   -1.1695 H   0  0  0  0  0  0  0  0  0  0  0  0\\n   -1.2332   -2.3364    2.5950 H   0  0  0  0  0  0  0  0  0  0  0  0\\n    0.7078   -1.7177    0.4632 H   0  0  0  0  0  0  0  0  0  0  0  0\\n    3.0729   -2.2130    1.7583 H   0  0  0  0  0  0  0  0  0  0  0  0\\n    2.1001    1.4439    1.2112 H   0  0  0  0  0  0  0  0  0  0  0  0\\n    2.3619    2.5616   -0.9696 H   0  0  0  0  0  0  0  0  0  0  0  0\\n    3.7925    0.9190   -3.7466 H   0  0  0  0  0  0  0  0  0  0  0  0\\n    4.1928   -0.9809   -2.5837 H   0  0  0  0  0  0  0  0  0  0  0  0\\n    3.9537   -2.1071   -0.4165 H   0  0  0  0  0  0  0  0  0  0  0  0\\n    3.4128   -1.0499    3.8059 H   0  0  0  0  0  0  0  0  0  0  0  0\\n    3.3977    0.3780    3.0737 H   0  0  0  0  0  0  0  0  0  0  0  0\\n   -2.3646   -0.1510    2.7321 H   0  0  0  0  0  0  0  0  0  0  0  0\\n   -1.7261    2.9661   -1.2761 H   0  0  0  0  0  0  0  0  0  0  0  0\\n   -3.1687    2.2419   -1.9796 H   0  0  0  0  0  0  0  0  0  0  0  0\\n   -3.1878    2.8140   -0.3023 H   0  0  0  0  0  0  0  0  0  0  0  0\\n   -0.3335    1.0662   -1.8816 H   0  0  0  0  0  0  0  0  0  0  0  0\\n   -1.6801    0.2001   -2.6186 H   0  0  0  0  0  0  0  0  0  0  0  0\\n   -0.6978   -0.5872   -1.3862 H   0  0  0  0  0  0  0  0  0  0  0  0\\n  1  2  2  0\\n  2  3  1  0\\n  2  4  1  0\\n  4  5  1  0\\n  5  6  1  0\\n  6  7  2  0\\n  6  8  1  0\\n  8  9  1  0\\n  9 10  1  0\\n 10 11  2  0\\n 10 12  1  0\\n 12 13  1  0\\n 13 14  2  0\\n 14 15  1  0\\n 15 16  2  0\\n 16 17  1  0\\n 16 18  1  0\\n 18 19  2  0\\n 12 20  1  0\\n  8 21  1  0\\n 21 22  1  0\\n 22 23  1  0\\n 23 24  1  0\\n 23 25  1  0\\n 19 13  1  0\\n 23  4  1  0\\n 21  5  1  0\\n  3 26  1  0\\n  4 27  1  6\\n  8 28  1  1\\n  9 29  1  0\\n 12 30  1  6\\n 14 31  1  0\\n 15 32  1  0\\n 17 33  1  0\\n 18 34  1  0\\n 19 35  1  0\\n 20 36  1  0\\n 20 37  1  0\\n 21 38  1  1\\n 24 39  1  0\\n 24 40  1  0\\n 24 41  1  0\\n 25 42  1  0\\n 25 43  1  0\\n 25 44  1  0\\nM  END\\n\");\nviewer_17331721363140824.setStyle({\"stick\": {}, \"sphere\": {\"scale\": 0.3}});\nviewer_17331721363140824.zoomTo();\nviewer_17331721363140824.render();\n});\n</script>",
      "text/html": [
       "<div id=\"3dmolviewer_17331721363140824\"  style=\"position: relative; width: 640px; height: 480px;\">\n",
       "        <p id=\"3dmolwarning_17331721363140824\" style=\"background-color:#ffcccc;color:black\">3Dmol.js failed to load for some reason.  Please check your browser console for error messages.<br></p>\n",
       "        </div>\n",
       "<script>\n",
       "\n",
       "var loadScriptAsync = function(uri){\n",
       "  return new Promise((resolve, reject) => {\n",
       "    //this is to ignore the existence of requirejs amd\n",
       "    var savedexports, savedmodule;\n",
       "    if (typeof exports !== 'undefined') savedexports = exports;\n",
       "    else exports = {}\n",
       "    if (typeof module !== 'undefined') savedmodule = module;\n",
       "    else module = {}\n",
       "\n",
       "    var tag = document.createElement('script');\n",
       "    tag.src = uri;\n",
       "    tag.async = true;\n",
       "    tag.onload = () => {\n",
       "        exports = savedexports;\n",
       "        module = savedmodule;\n",
       "        resolve();\n",
       "    };\n",
       "  var firstScriptTag = document.getElementsByTagName('script')[0];\n",
       "  firstScriptTag.parentNode.insertBefore(tag, firstScriptTag);\n",
       "});\n",
       "};\n",
       "\n",
       "if(typeof $3Dmolpromise === 'undefined') {\n",
       "$3Dmolpromise = null;\n",
       "  $3Dmolpromise = loadScriptAsync('https://cdnjs.cloudflare.com/ajax/libs/3Dmol/2.4.2/3Dmol-min.js');\n",
       "}\n",
       "\n",
       "var viewer_17331721363140824 = null;\n",
       "var warn = document.getElementById(\"3dmolwarning_17331721363140824\");\n",
       "if(warn) {\n",
       "    warn.parentNode.removeChild(warn);\n",
       "}\n",
       "$3Dmolpromise.then(function() {\n",
       "viewer_17331721363140824 = $3Dmol.createViewer(document.getElementById(\"3dmolviewer_17331721363140824\"),{backgroundColor:\"white\"});\n",
       "viewer_17331721363140824.addModel(\"\\n     RDKit          3D\\n\\n 44 46  0  0  0  0  0  0  0  0999 V2000\\n   -5.3036    1.1837   -0.6957 O   0  0  0  0  0  0  0  0  0  0  0  0\\n   -4.5861    0.5552    0.0687 C   0  0  0  0  0  0  0  0  0  0  0  0\\n   -4.9539    0.4231    1.3594 O   0  0  0  0  0  0  0  0  0  0  0  0\\n   -3.2478   -0.0936   -0.3009 C   0  0  2  0  0  0  0  0  0  0  0  0\\n   -2.7766   -0.9499    0.7841 N   0  0  0  0  0  0  0  0  0  0  0  0\\n   -1.9721   -2.0244    0.5452 C   0  0  0  0  0  0  0  0  0  0  0  0\\n   -1.9618   -2.8239   -0.3622 O   0  0  0  0  0  0  0  0  0  0  0  0\\n   -1.0533   -1.6739    1.7384 C   0  0  1  0  0  0  0  0  0  0  0  0\\n    0.3978   -1.5982    1.4233 N   0  0  0  0  0  0  0  0  0  0  0  0\\n    1.3158   -1.1713    2.3594 C   0  0  0  0  0  0  0  0  0  0  0  0\\n    0.9820   -0.8850    3.5095 O   0  0  0  0  0  0  0  0  0  0  0  0\\n    2.7940   -1.1583    1.8786 C   0  0  1  0  0  0  0  0  0  0  0  0\\n    2.9852   -0.4307    0.5595 C   0  0  0  0  0  0  0  0  0  0  0  0\\n    2.5595    0.8978    0.3894 C   0  0  0  0  0  0  0  0  0  0  0  0\\n    2.7047    1.5380   -0.8429 C   0  0  0  0  0  0  0  0  0  0  0  0\\n    3.2810    0.8592   -1.9086 C   0  0  0  0  0  0  0  0  0  0  0  0\\n    3.3844    1.5151   -3.0984 O   0  0  0  0  0  0  0  0  0  0  0  0\\n    3.7312   -0.4473   -1.7587 C   0  0  0  0  0  0  0  0  0  0  0  0\\n    3.5882   -1.0879   -0.5258 C   0  0  0  0  0  0  0  0  0  0  0  0\\n    3.6680   -0.5944    2.9261 N   0  0  0  0  0  0  0  0  0  0  0  0\\n   -1.8700   -0.3549    1.7778 C   0  0  1  0  0  0  0  0  0  0  0  0\\n   -1.1550    1.1232    0.9618 S   0  0  0  0  0  0  0  0  0  0  0  0\\n   -2.1153    0.9183   -0.6092 C   0  0  0  0  0  0  0  0  0  0  0  0\\n   -2.5777    2.3093   -1.0595 C   0  0  0  0  0  0  0  0  0  0  0  0\\n   -1.1508    0.3654   -1.6743 C   0  0  0  0  0  0  0  0  0  0  0  0\\n   -5.8143    0.8893    1.4167 H   0  0  0  0  0  0  0  0  0  0  0  0\\n   -3.4538   -0.7319   -1.1695 H   0  0  0  0  0  0  0  0  0  0  0  0\\n   -1.2332   -2.3364    2.5950 H   0  0  0  0  0  0  0  0  0  0  0  0\\n    0.7078   -1.7177    0.4632 H   0  0  0  0  0  0  0  0  0  0  0  0\\n    3.0729   -2.2130    1.7583 H   0  0  0  0  0  0  0  0  0  0  0  0\\n    2.1001    1.4439    1.2112 H   0  0  0  0  0  0  0  0  0  0  0  0\\n    2.3619    2.5616   -0.9696 H   0  0  0  0  0  0  0  0  0  0  0  0\\n    3.7925    0.9190   -3.7466 H   0  0  0  0  0  0  0  0  0  0  0  0\\n    4.1928   -0.9809   -2.5837 H   0  0  0  0  0  0  0  0  0  0  0  0\\n    3.9537   -2.1071   -0.4165 H   0  0  0  0  0  0  0  0  0  0  0  0\\n    3.4128   -1.0499    3.8059 H   0  0  0  0  0  0  0  0  0  0  0  0\\n    3.3977    0.3780    3.0737 H   0  0  0  0  0  0  0  0  0  0  0  0\\n   -2.3646   -0.1510    2.7321 H   0  0  0  0  0  0  0  0  0  0  0  0\\n   -1.7261    2.9661   -1.2761 H   0  0  0  0  0  0  0  0  0  0  0  0\\n   -3.1687    2.2419   -1.9796 H   0  0  0  0  0  0  0  0  0  0  0  0\\n   -3.1878    2.8140   -0.3023 H   0  0  0  0  0  0  0  0  0  0  0  0\\n   -0.3335    1.0662   -1.8816 H   0  0  0  0  0  0  0  0  0  0  0  0\\n   -1.6801    0.2001   -2.6186 H   0  0  0  0  0  0  0  0  0  0  0  0\\n   -0.6978   -0.5872   -1.3862 H   0  0  0  0  0  0  0  0  0  0  0  0\\n  1  2  2  0\\n  2  3  1  0\\n  2  4  1  0\\n  4  5  1  0\\n  5  6  1  0\\n  6  7  2  0\\n  6  8  1  0\\n  8  9  1  0\\n  9 10  1  0\\n 10 11  2  0\\n 10 12  1  0\\n 12 13  1  0\\n 13 14  2  0\\n 14 15  1  0\\n 15 16  2  0\\n 16 17  1  0\\n 16 18  1  0\\n 18 19  2  0\\n 12 20  1  0\\n  8 21  1  0\\n 21 22  1  0\\n 22 23  1  0\\n 23 24  1  0\\n 23 25  1  0\\n 19 13  1  0\\n 23  4  1  0\\n 21  5  1  0\\n  3 26  1  0\\n  4 27  1  6\\n  8 28  1  1\\n  9 29  1  0\\n 12 30  1  6\\n 14 31  1  0\\n 15 32  1  0\\n 17 33  1  0\\n 18 34  1  0\\n 19 35  1  0\\n 20 36  1  0\\n 20 37  1  0\\n 21 38  1  1\\n 24 39  1  0\\n 24 40  1  0\\n 24 41  1  0\\n 25 42  1  0\\n 25 43  1  0\\n 25 44  1  0\\nM  END\\n\");\n",
       "viewer_17331721363140824.setStyle({\"stick\": {}, \"sphere\": {\"scale\": 0.3}});\n",
       "viewer_17331721363140824.zoomTo();\n",
       "viewer_17331721363140824.render();\n",
       "});\n",
       "</script>"
      ]
     },
     "metadata": {},
     "output_type": "display_data"
    },
    {
     "data": {
      "text/plain": [
       "<py3Dmol.view at 0x7fc2773663c0>"
      ]
     },
     "execution_count": 165,
     "metadata": {},
     "output_type": "execute_result"
    }
   ],
   "source": [
    "# Open RDKit molecule in an interactive py3Dmol window\n",
    "interactive_window = py3Dmol.view(\n",
    "    data=rdkit.Chem.MolToMolBlock(amoxicillin),\n",
    "    style={\"stick\": {}, \"sphere\": {\"scale\": 0.3}}\n",
    ")\n",
    "interactive_window"
   ]
  },
  {
   "cell_type": "markdown",
   "metadata": {},
   "source": [
    "## Working with RDKit Molecules\n",
    "\n",
    "RDKit molecule objects have a number of methods we can use to get more information about the molecule.\n",
    "In the next few cells, we'll look at some methods that can tell us some things about the molecules we've created.\n",
    "\n",
    "<div class=\"alert alert-block alert-success\"> \n",
    "<strong>Jupyter Skills: The Tab Key</strong>\n",
    "\n",
    "When working with Python objects in the Jupyter notebook, you can type a variable or object name to see the methods available on that object.\n",
    "\n",
    "In the cell below, type `ethyl_acetate.` (include a (`.`) at the end), then press the `tab` key. \n",
    "A list of possible methods and attributes will come up.\n",
    "\n",
    "Look through the methods until you find one that gives you the number of atoms in the molecule.\n",
    "\n",
    "</div>\n",
    "\n",
    "**NOTE:** Methods are functions so they require parentheses at the end.\n",
    "\n",
    "```python\n",
    "object.method()\n",
    "```"
   ]
  },
  {
   "cell_type": "code",
   "execution_count": 168,
   "metadata": {},
   "outputs": [
    {
     "data": {
      "text/plain": [
       "6"
      ]
     },
     "execution_count": 168,
     "metadata": {},
     "output_type": "execute_result"
    }
   ],
   "source": [
    "# Pick a method that will determine the number of atom in ibuprofen.\n",
    "\n",
    "ethyl_acetate.GetNumAtoms()"
   ]
  },
  {
   "cell_type": "markdown",
   "metadata": {},
   "source": [
    "<div class=\"alert alert-block alert-success\"> \n",
    "<strong>Python Skills: Getting Help</strong>\n",
    "\n",
    "Is this the number of atoms you expected for a acetic_acid molecule (including hydrogens)? \n",
    "\n",
    "We can use the `help()` function on the method you found in the previous step to find a method argument to figure out a method argument to get the number of atoms we expect.\n",
    "\n",
    "</div>"
   ]
  },
  {
   "cell_type": "code",
   "execution_count": 30,
   "metadata": {},
   "outputs": [
    {
     "name": "stdout",
     "output_type": "stream",
     "text": [
      "Help on method GetNumAtoms:\n",
      "\n",
      "GetNumAtoms(...) method of rdkit.Chem.rdchem.Mol instance\n",
      "    GetNumAtoms( (Mol)self [, (int)onlyHeavy=-1 [, (bool)onlyExplicit=True]]) -> int :\n",
      "        Returns the number of atoms in the molecule.\n",
      "\n",
      "          ARGUMENTS:\n",
      "            - onlyExplicit: (optional) include only explicit atoms (atoms in the molecular graph)\n",
      "                            defaults to 1.\n",
      "          NOTE: the onlyHeavy argument is deprecated\n",
      "\n",
      "\n",
      "        C++ signature :\n",
      "            int GetNumAtoms(RDKit::ROMol [,int=-1 [,bool=True]])\n",
      "\n"
     ]
    }
   ],
   "source": [
    "help(ethyl_acetate.GetNumAtoms)"
   ]
  },
  {
   "cell_type": "markdown",
   "metadata": {},
   "source": [
    "<div class=\"alert alert-block alert-warning\"> \n",
    "<h3>Challenge</h3>\n",
    "\n",
    "Use the **onlyExplicit** argument for the `GetNumAtoms()` function to determine the total number of atoms in acetic_acid (including hydrogens).\n",
    "\n",
    "**Tip:** Some function arguments, like **onlyExplicit**, are either on or off. On: True or 1. Off: False or 0.\n",
    "</div>"
   ]
  },
  {
   "cell_type": "code",
   "execution_count": 32,
   "metadata": {},
   "outputs": [
    {
     "data": {
      "text/plain": [
       "14"
      ]
     },
     "execution_count": 32,
     "metadata": {},
     "output_type": "execute_result"
    }
   ],
   "source": [
    "ethyl_acetate.GetNumAtoms(onlyExplicit=False)"
   ]
  },
  {
   "cell_type": "markdown",
   "metadata": {},
   "source": [
    "## Molecular Descriptors\n",
    "\n",
    "A molecular descriptor is a numerical value that represents some property of a molecule (molecular weight, hydrogen bond donors/acceptors, polar surface area, ect...)\n",
    "\n",
    "RDKit supports the calculation of many molecular descriptors using the `rdMolDescriptors` module. You can see a [full list of RDKit descriptors](https://www.rdkit.org/docs/GettingStartedInPython.html#list-of-available-descriptors) or [see the module documentation](https://www.rdkit.org/docs/source/rdkit.Chem.rdMolDescriptors.html).\n",
    "\n",
    "We previously imported the `rdMolDescriptors` module so we can calculate our descriptors like this:\n",
    "\n",
    "```python\n",
    "rdMolDescriptors.descriptor_method_name(molecule_name)\n",
    "\n",
    "```\n",
    "\n",
    "For example, we can calculate the molecular weight of our ibuprofen molecule like this:"
   ]
  },
  {
   "cell_type": "code",
   "execution_count": null,
   "metadata": {},
   "outputs": [
    {
     "name": "stdout",
     "output_type": "stream",
     "text": [
      "206.130679816\n"
     ]
    }
   ],
   "source": [
    "ibuprofen_mw = rdMolDescriptors.CalcExactMolWt(ibuprofen)\n",
    "print(ibuprofen_mw)"
   ]
  },
  {
   "cell_type": "markdown",
   "metadata": {},
   "source": [
    "Here are some examples of other descriptors that RDkit can calculate.\n",
    "____\n",
    "\n",
    "`rdMolDescriptors.CalcExactMolWt((Mol)mol[, (bool)onlyHeavy=False]) → float :`\n",
    "\n",
    "returns the molecule’s exact molecular weight\n",
    "\n",
    "`rdMolDescriptors.CalcNumAtoms((Mol)mol) → int :`\n",
    "\n",
    "returns the total number of atoms for a molecule\n",
    "\n",
    "`rdMolDescriptors.CalcFractionCSP3((Mol)mol) → float :`\n",
    "\n",
    "returns the fraction of C atoms that are SP3 hybridized\n",
    "\n",
    "`rdMolDescriptors.CalcMolFormula((Mol)mol) → str :`\n",
    "\n",
    "returns the molecule’s formula\n",
    "\n",
    "`rdMolDescriptors.CalcNumAliphaticCarbocycles((Mol)mol) → int :`\n",
    "\n",
    "returns the number of aliphatic (containing at least one non-aromatic bond) carbocycles for a molecule\n",
    "\n",
    "`rdMolDescriptors.CalcNumAliphaticHeterocycles((Mol)mol) → int :`\n",
    "\n",
    "returns the number of aliphatic (containing at least one non-aromatic bond) heterocycles for a molecule\n",
    "\n",
    "`rdMolDescriptors.CalcNumAromaticRings((Mol)mol) → int :`\n",
    "\n",
    "returns the number of aromatic rings for a molecule\n",
    "\n",
    "`rdMolDescriptors.CalcNumAtomStereoCenters((Mol)mol) → int :`\n",
    "\n",
    "Returns the total number of atomic stereocenters (specified and unspecified)\n",
    "\n",
    "`rdMolDescriptors.CalcNumHBA((Mol)mol) → int :`\n",
    "\n",
    "returns the number of H-bond acceptors for a molecule\n",
    "\n",
    "`rdMolDescriptors.CalcNumHBD((Mol)mol) → int :`\n",
    "\n",
    "returns the number of H-bond donors for a molecule\n",
    "```"
   ]
  },
  {
   "cell_type": "markdown",
   "metadata": {},
   "source": [
    "<div class=\"alert alert-block alert-warning\"> \n",
    "<h3>Challenge</h3>\n",
    "\n",
    "Uses methods from the `rdMolDescritors` module to calculate 3 properties for amoxicillin.\n",
    "\n",
    "Print all three properties.\n",
    "\n",
    "</div>"
   ]
  },
  {
   "cell_type": "code",
   "execution_count": 38,
   "metadata": {},
   "outputs": [
    {
     "name": "stdout",
     "output_type": "stream",
     "text": [
      "Amoxicillin MW: 365.104541708, HBD: 4, HBA: 6, ALogP: 0.02370000000000072\n"
     ]
    }
   ],
   "source": [
    "MW = rdMolDescriptors.CalcExactMolWt(amoxicillin)\n",
    "HBD = rdMolDescriptors.CalcNumHBD(amoxicillin)\n",
    "HBA = rdMolDescriptors.CalcNumHBA(amoxicillin)\n",
    "ALOGP = rdMolDescriptors.CalcCrippenDescriptors(amoxicillin)[0]\n",
    "print(f'Amoxicillin MW: {MW}, HBD: {HBD}, HBA: {HBA}, ALogP: {ALOGP}')"
   ]
  },
  {
   "cell_type": "markdown",
   "metadata": {},
   "source": [
    "## 3D Extras\n",
    "\n"
   ]
  },
  {
   "cell_type": "code",
   "execution_count": 174,
   "metadata": {},
   "outputs": [
    {
     "data": {
      "text/plain": [
       "{'PMI1': 1562.6385567899492,\n",
       " 'PMI2': 3472.8373034045367,\n",
       " 'PMI3': 4239.182482228693,\n",
       " 'NPR1': 0.3686179029425535,\n",
       " 'NPR2': 0.8192233568531685,\n",
       " 'RadiusOfGyration': 3.562403869309397,\n",
       " 'InertialShapeFactor': 0.0005242564592390823,\n",
       " 'Eccentricity': 0.9295810032645,\n",
       " 'Asphericity': 0.26505756832458544,\n",
       " 'SpherocityIndex': 0.29570458122974197,\n",
       " 'PBF': 0.9854998828119282}"
      ]
     },
     "execution_count": 174,
     "metadata": {},
     "output_type": "execute_result"
    }
   ],
   "source": [
    "Descriptors3D.CalcMolDescriptors3D(amoxicillin)"
   ]
  },
  {
   "cell_type": "code",
   "execution_count": 176,
   "metadata": {},
   "outputs": [
    {
     "data": {
      "text/plain": [
       "11"
      ]
     },
     "execution_count": 176,
     "metadata": {},
     "output_type": "execute_result"
    }
   ],
   "source": [
    "def get_num_hydrogen_symmetry_classes(m):\n",
    "    mh = rdkit.Chem.AddHs(m)\n",
    "    orders = rdkit.Chem.CanonicalRankAtoms(mh, breakTies=False)\n",
    "    h_classes = set()\n",
    "    for atom, sym_class in zip(mh.GetAtoms(), orders):\n",
    "        if atom.GetAtomicNum() == 1:\n",
    "           h_classes.add(sym_class)\n",
    "    return len(h_classes)\n",
    "\n",
    "get_num_hydrogen_symmetry_classes(amoxicillin)"
   ]
  }
 ],
 "metadata": {
  "kernelspec": {
   "display_name": "nmr",
   "language": "python",
   "name": "python3"
  },
  "language_info": {
   "codemirror_mode": {
    "name": "ipython",
    "version": 3
   },
   "file_extension": ".py",
   "mimetype": "text/x-python",
   "name": "python",
   "nbconvert_exporter": "python",
   "pygments_lexer": "ipython3",
   "version": "3.12.5"
  }
 },
 "nbformat": 4,
 "nbformat_minor": 2
}
