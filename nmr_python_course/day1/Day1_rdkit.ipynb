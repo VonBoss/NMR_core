{
 "cells": [
  {
   "cell_type": "markdown",
   "metadata": {},
   "source": [
    "# Intro to cheminformatics with RDkit\n",
    "\n",
    "\n",
    "<div class=\"alert alert-block alert-info\">\n",
    "<h2>Objectives:</h2>\n",
    "\n",
    "* Import packages/libraries\n",
    "\n",
    "* Review basic data types\n",
    "    * string (str): text characters\n",
    "    * integer (int): whole number\n",
    "    * floating point number (float): number with a decimal\n",
    "\n",
    "* New data types:\n",
    "    * dictionary\n",
    "\n",
    "* SMILES strings\n",
    "\n",
    "* RDKit library\n",
    "\n",
    "* Run and define functions\n",
    "    * `Chem.MolFromSmiles()`\n",
    "    * `Chem.Draw.MolToImage()`\n",
    "    * `Descriptors.ExactMolWt()`\n",
    "    \n",
    "\n",
    "\n",
    "</div>\n",
    "\n",
    "There are Python libraries that are made for working just with chemical data. One commonly used library in Python for data science (or cheminformatics) is called [RDKit](https://en.wikipedia.org/wiki/RDKit).\n",
    "\n",
    "RDKit provides a molecule object that allows you to manipulate chemical structures. It has capabilities for reading and writing molecular file formats, calculating molecular properties, and performing substructure searches. In addition, it offers a wide range of cheminformatics algorithms such as molecular fingerprint generation, similarity metrics calculation, and molecular descriptor computation. This notebook will only introduce a few RDKit basics and a common molecular format called SMILES. "
   ]
  },
  {
   "cell_type": "markdown",
   "metadata": {},
   "source": [
    "## Simplified Molecular-Input Line-entry System: SMILES \n",
    "\n",
    "SMILES stands for \"Simplified Molecular-Input Line-Entry System\" and is a way to represent molecules as a string of characters.\n",
    "\n",
    "Consider the molecule ethanol. The image below shows a representation that we are used to seeing in chemistry:\n",
    "\n",
    "![ethanol](images/ethanol.png)\n",
    "\n",
    "However, the SMILES representation of this molecule would be \"CCO\".\n",
    "\n",
    "You can read more about SMILES at [this tutorial](https://archive.epa.gov/med/med_archive_03/web/html/smiles.html), but rules for atoms and bonds are also repeated below.\n",
    "\n",
    "### Atoms\n",
    "SMILES supports all elements in the periodic table. An atom is represented using its respective atomic symbol. Upper case letters refer to non-aromatic atoms; lower case letters refer to aromatic atoms. If the atomic symbol has more than one letter the second letter must be lower case.\n",
    "\n",
    "### Bonds\n",
    "```\n",
    "-\tSingle bond\n",
    "=\tDouble bond\n",
    "#\tTriple bond\n",
    "*\tAromatic bond\n",
    ".\tDisconnected structures\n",
    "```\n",
    "Single bonds are the default and therefore need not be entered. For example, 'CC' would mean that there is a non-aromatic carbon attached to another non-aromatic carbon by a single bond, and the computer would identify the structure as the chemical ethane. It is also assumed that the bond between two lower case atom symbols is aromatic. A blank terminates the SMILES string.\n",
    "\n",
    "### Branches\n",
    "\n",
    "A branch from a chain is specified by placing the SMILES symbol(s) for the branch between parenthesis. Some examples:\n",
    "\n",
    "```\n",
    "\n",
    "CC(O)C\t2-Propanol\n",
    "CC(=O)C\t2-Propanone\n",
    "```\n",
    "\n",
    "### Rings\n",
    "\n",
    "A ring is specified by placing a number directly after the SMILES symbol where the ring closure occurs. This number acts as a marker, indicating that the atoms with the same number are connected, thus forming a ring. For instance:\n",
    "\n",
    "```\n",
    "C1CCCC1 cyclopentane\n",
    "n1ccccc1\tPyridine\n",
    "```\n",
    "\n",
    "### SMILES Examples\n",
    "\n",
    "<div style=\"text-align:center;\">\n",
    "  <img src=\"images/smiles_example_1.png\" style=\"display: block; margin: 0 auto; max-height:300px;\">\n",
    "</div>\n",
    "\n",
    "<div style=\"text-align:center;\">\n",
    "  <img src=\"images/smiles_example_2.png\" style=\"display: block; margin: 0 auto; max-height:300px;\">\n",
    "</div>\n",
    "\n",
    "### Using Online Resources\n",
    "Most of the time, you will not need to write a SMILES string by hand. You will be able to look up a molecule's SMILES string from a web database like [PubChem](https://pubchem.ncbi.nlm.nih.gov/).\n",
    "\n",
    "You can also use tools like this [molecule sketcher from the Protein Data Bank](https://www.rcsb.org/chemical-sketch)\n",
    "to draw molecules and get their SMILES strings."
   ]
  },
  {
   "cell_type": "markdown",
   "metadata": {},
   "source": [
    "<div class=\"alert alert-block alert-warning\">\n",
    "<h3>Exercise</h3>\n",
    "\n",
    "<p> Based on what you've learned about SMILES strings, answer the following questions:\n",
    "<p>\n",
    "    <ul>\n",
    "        <li> What is the SMILES for propanol?</li>\n",
    "        <li> What is the SMILES for cyclohexanone?</li>\n",
    "        <li> What is the SMILES for benzene?</li>\n",
    "        <li> What is the SMILES for acetic acid?</li>\n",
    "    </ul>\n",
    "</p>\n",
    "<p>Check your answers from this previous exercise using the PDB molecule sketcher. Notice that you can type in a SMILES string and have the sketcher draw the molecule for you.</p>\n",
    "\n",
    "</div>"
   ]
  },
  {
   "cell_type": "code",
   "execution_count": null,
   "metadata": {},
   "outputs": [],
   "source": [
    "# Fill in your answers here:\n",
    "propanol_smiles =\n",
    "cyclohexanone_smiles =\n",
    "benzene_smiles =\n",
    "acetic_acid_smiles =\n"
   ]
  },
  {
   "cell_type": "markdown",
   "metadata": {},
   "source": [
    "## Import Packages/Libraries\n",
    "\n",
    "In Python, a package or library is a collection of pre-written code that provides additional functionality for specific tasks, such as data analysis, mathematics, or data visualization. By importing packages, we can use functions and tools that make it easier to accomplish certain tasks without having to write all the code ourselves.\n",
    "\n",
    "In this lesson, we will use the `rdkit` library to interact with molecules. Let's import `rdkit` now."
   ]
  },
  {
   "cell_type": "code",
   "execution_count": 17,
   "metadata": {},
   "outputs": [],
   "source": [
    "import rdkit"
   ]
  },
  {
   "cell_type": "markdown",
   "metadata": {},
   "source": [
    "## Creating Molecules with RDKit\n",
    "\n",
    "Throughout this tutorial, it will be helpful to have access to the [RDKit documentation](https://www.rdkit.org/docs/index.html). \n",
    "\n",
    "To get information about molecules in RDKit, we have to first create objects representing molecules. We will use SMILES strings to create our `mol` objects, though RDKit also has methods for creating molecules from the file formats.\n",
    "\n",
    "### Creating molecules using SMILES\n",
    "\n",
    "We can create a representation of ibuprofen using RDKit by using the `MolFromSmiles` function in `rdkit.Chem`."
   ]
  },
  {
   "cell_type": "code",
   "execution_count": 2,
   "metadata": {},
   "outputs": [
    {
     "name": "stdout",
     "output_type": "stream",
     "text": [
      "CC(Cc1ccc(cc1)C(C(=O)O)C)C\n"
     ]
    },
    {
     "data": {
      "text/plain": [
       "str"
      ]
     },
     "execution_count": 2,
     "metadata": {},
     "output_type": "execute_result"
    }
   ],
   "source": [
    "ibuprofen_smiles = 'CC(Cc1ccc(cc1)C(C(=O)O)C)C'\n",
    "\n",
    "print(ibuprofen_smiles)\n",
    "type(ibuprofen_smiles)\n"
   ]
  },
  {
   "cell_type": "code",
   "execution_count": 4,
   "metadata": {},
   "outputs": [],
   "source": [
    "ibuprofen = rdkit.Chem.MolFromSmiles(ibuprofen_smiles)"
   ]
  },
  {
   "cell_type": "markdown",
   "metadata": {},
   "source": [
    "Let's explore the output of the `Chem.MolFromSmiles()` function using the `print()` and `type()` functions."
   ]
  },
  {
   "cell_type": "code",
   "execution_count": 5,
   "metadata": {},
   "outputs": [
    {
     "name": "stdout",
     "output_type": "stream",
     "text": [
      "<rdkit.Chem.rdchem.Mol object at 0x7fddf022eab0>\n"
     ]
    },
    {
     "data": {
      "text/plain": [
       "rdkit.Chem.rdchem.Mol"
      ]
     },
     "execution_count": 5,
     "metadata": {},
     "output_type": "execute_result"
    }
   ],
   "source": [
    "print(ibuprofen)\n",
    "type(ibuprofen)"
   ]
  },
  {
   "cell_type": "markdown",
   "metadata": {},
   "source": [
    "The `print()` function doesn't known how to represent this object. Instead it informed us that the variable `ibuprofen` is an RDkit `mol` object that is stored in our computers memory at a hexadecimal address.\n",
    "\n",
    "<div class=\"alert alert-block alert-success\"> \n",
    "<strong>Python Skills: Python Objects</strong>\n",
    "\n",
    "Most of this functionality is achieved through the RDKit `mol` object. In Python, we use the word \"object\" to refer to a variable type with associated data and methods. \n",
    "One example of an object we have seen in notebooks is a list - we could also call it a \"list object\". An object has `attributes` (data) and `methods`. \n",
    "You access information about objects with the syntax\n",
    "```python\n",
    "object.data\n",
    "```\n",
    "where data is the attribute name.\n",
    "\n",
    "You acceess object methods with the syntax\n",
    "```python\n",
    "object.method(arguments)\n",
    "```\n",
    "\n",
    "For example, for a list \"`append` is a method that was covered in the introductory lesson.\n",
    "\n",
    "```\n",
    "my_list = []\n",
    "my_list.append(1) # \"append\" is a method\n",
    "```\n",
    "</div>   \n",
    "\n",
    "To interact with our `ibuprofen` molecule object we need to use methods associates with an `RDkit.mol` object.\n",
    "\n",
    "We can visualize the molecule using the `Chem.Draw.MolToImage()` method."
   ]
  },
  {
   "cell_type": "code",
   "execution_count": 6,
   "metadata": {},
   "outputs": [
    {
     "data": {
      "image/jpeg": "[encoded data removed]",
      "image/png": "[encoded data removed]",
      "text/plain": [
       "<PIL.PngImagePlugin.PngImageFile image mode=RGB size=300x300>"
      ]
     },
     "execution_count": 6,
     "metadata": {},
     "output_type": "execute_result"
    }
   ],
   "source": [
    "rdkit.Chem.Draw.MolToImage(ibuprofen)"
   ]
  },
  {
   "cell_type": "markdown",
   "metadata": {},
   "source": [
    "Luckily, Jupyter is smart, so we can also display a `mol` object by putting it as the last thing in a cell like this:"
   ]
  },
  {
   "cell_type": "code",
   "execution_count": 13,
   "metadata": {},
   "outputs": [
    {
     "data": {
      "image/png": "[encoded data removed]",
      "text/plain": [
       "<rdkit.Chem.rdchem.Mol at 0x7fdd028de730>"
      ]
     },
     "execution_count": 13,
     "metadata": {},
     "output_type": "execute_result"
    }
   ],
   "source": [
    "lysine = rdkit.Chem.MolFromSmiles(\"C(CCN)C[C@@H](C(=O)O)N\")\n",
    "lysine"
   ]
  },
  {
   "cell_type": "markdown",
   "metadata": {},
   "source": [
    "<div class=\"alert alert-block alert-warning\"> \n",
    "<h3>Challenge</h3>\n",
    "\n",
    "Visualize your SMILES molecules in the cells below.\n",
    "- `propanol_smiles`\n",
    "- `cyclohexanone_smiles`\n",
    "- `benzene_smiles`\n",
    "- `acetic_acid_smiles`\n",
    "\n",
    "You can look up the SMILES strings on <a href=\"https://pubchem.ncbi.nlm.nih.gov/\">PubChem</a>\n",
    "</div>"
   ]
  },
  {
   "cell_type": "code",
   "execution_count": null,
   "metadata": {},
   "outputs": [],
   "source": []
  },
  {
   "cell_type": "code",
   "execution_count": null,
   "metadata": {},
   "outputs": [],
   "source": []
  },
  {
   "cell_type": "markdown",
   "metadata": {},
   "source": [
    "## Working with RDKit Molecules\n",
    "\n",
    "RDKit molecule objects have a number of methods we can use to get more information about the molecule.\n",
    "In the next few cells, we'll look at some methods that can tell us some things about the molecules we've created.\n",
    "\n",
    "<div class=\"alert alert-block alert-success\"> \n",
    "<strong>Jupyter Skills: The Tab Key</strong>\n",
    "\n",
    "When working with Python objects in the Jupyter notebook, you can type a variable or object name to see the methods available on that object.\n",
    "\n",
    "In the cell below, type `ibuprofen.` (include a (`.`) at the end), then press the `tab` key. \n",
    "A list of possible methods and attributes will come up.\n",
    "\n",
    "Look through the methods until you find one that gives you the number of atoms in the molecule.\n",
    "\n",
    "</div>\n",
    "\n",
    "**NOTE:** Methods are functions so they require parentheses at the end.\n",
    "\n",
    "```python\n",
    "object.method()\n",
    "```"
   ]
  },
  {
   "cell_type": "code",
   "execution_count": 8,
   "metadata": {},
   "outputs": [
    {
     "data": {
      "text/plain": [
       "4"
      ]
     },
     "execution_count": 8,
     "metadata": {},
     "output_type": "execute_result"
    }
   ],
   "source": [
    "# Pick a method that will determine the number of atom in ibuprofen.\n",
    "\n",
    "acetic_acid.GetNumAtoms()"
   ]
  },
  {
   "cell_type": "markdown",
   "metadata": {},
   "source": [
    "<div class=\"alert alert-block alert-success\"> \n",
    "<strong>Python Skills: Getting Help</strong>\n",
    "\n",
    "Is this the number of atoms you expected for a acetic_acid molecule? \n",
    "\n",
    "We can use the `help` function on the method you found in the previous step to find a method argument to figure out a method argument to get the number of atoms we expect.\n",
    "\n",
    "</div>"
   ]
  },
  {
   "cell_type": "code",
   "execution_count": 33,
   "metadata": {},
   "outputs": [
    {
     "name": "stdout",
     "output_type": "stream",
     "text": [
      "Help on method GetNumAtoms:\n",
      "\n",
      "GetNumAtoms(...) method of rdkit.Chem.rdchem.Mol instance\n",
      "    GetNumAtoms( (Mol)self [, (int)onlyHeavy=-1 [, (bool)onlyExplicit=True]]) -> int :\n",
      "        Returns the number of atoms in the molecule.\n",
      "\n",
      "          ARGUMENTS:\n",
      "            - onlyExplicit: (optional) include only explicit atoms (atoms in the molecular graph)\n",
      "                            defaults to 1.\n",
      "          NOTE: the onlyHeavy argument is deprecated\n",
      "\n",
      "\n",
      "        C++ signature :\n",
      "            int GetNumAtoms(RDKit::ROMol [,int=-1 [,bool=True]])\n",
      "\n"
     ]
    }
   ],
   "source": [
    "help(acetic_acid.GetNumAtoms)"
   ]
  },
  {
   "cell_type": "code",
   "execution_count": 34,
   "metadata": {},
   "outputs": [
    {
     "data": {
      "text/plain": [
       "8"
      ]
     },
     "execution_count": 34,
     "metadata": {},
     "output_type": "execute_result"
    }
   ],
   "source": [
    "# Add an argument to your function to get the number of \n",
    "# atoms that gives you the total number of atoms in acetic_acid\n",
    "# including hydrogens\n",
    "acetic_acid.GetNumAtoms(onlyExplicit=False)"
   ]
  },
  {
   "cell_type": "markdown",
   "metadata": {},
   "source": [
    "Each molecule is made up of RDKit atom objects and RDKit bond objects.\n",
    "If we want to get the atoms for a particular molecule, we can use the `GetAtoms` method."
   ]
  },
  {
   "cell_type": "markdown",
   "metadata": {},
   "source": [
    "## Molecular Descriptors\n",
    "\n",
    "A molecular descriptor is a numerical value that represents some property of a molecule.\n",
    "\n",
    "Descriptors can be 0 dimensional (molecular weight, number of heavy atoms, etc.), 1 dimensional (counts of atom types, hydrogen bond donors/acceptors), 2 dimensional (fingerprints, other graph representations), 3 dimensional (polar surface area).\n",
    "\n",
    "RDKit supports the calculation of many molecular descriptors. You can see a [full list of RDKit descriptors](https://www.rdkit.org/docs/GettingStartedInPython.html#list-of-available-descriptors) or [see the module documentation](https://www.rdkit.org/docs/source/rdkit.Chem.rdMolDescriptors.html).\n",
    "\n",
    "To get molecular descriptors from RDKit, we import the `rdMolDescriptors` module.\n",
    "\n",
    "```python\n",
    "from rdkit.Chem import rdMolDescriptors\n",
    "```\n",
    "\n",
    "To get a descriptor, you do:\n",
    "\n",
    "```python\n",
    "rdMolDescriptors.descriptor_name(molecule_variable)\n",
    "\n",
    "```\n",
    "\n",
    "For example, we can calculate the molecular weight of our ibuprofen molecule"
   ]
  },
  {
   "cell_type": "code",
   "execution_count": 16,
   "metadata": {},
   "outputs": [
    {
     "name": "stdout",
     "output_type": "stream",
     "text": [
      "206.130679816\n"
     ]
    }
   ],
   "source": [
    "from rdkit.Chem import rdMolDescriptors\n",
    "\n",
    "ibuprofen_mw = rdMolDescriptors.CalcExactMolWt(ibuprofen)\n",
    "print(ibuprofen_mw)"
   ]
  },
  {
   "cell_type": "markdown",
   "metadata": {},
   "source": [
    "Here are some examples of other descriptors that RDkit can calculate.\n",
    "____\n",
    "\n",
    "`rdMolDescriptors.CalcExactMolWt((Mol)mol[, (bool)onlyHeavy=False]) → float :`\n",
    "\n",
    "returns the molecule’s exact molecular weight\n",
    "\n",
    "`rdMolDescriptors.CalcNumAtoms((Mol)mol) → int :`\n",
    "\n",
    "returns the total number of atoms for a molecule\n",
    "\n",
    "`rdMolDescriptors.CalcFractionCSP3((Mol)mol) → float :`\n",
    "\n",
    "returns the fraction of C atoms that are SP3 hybridized\n",
    "\n",
    "`rdMolDescriptors.CalcMolFormula((Mol)mol) → str :`\n",
    "\n",
    "returns the molecule’s formula\n",
    "\n",
    "`rdMolDescriptors.CalcNumAliphaticCarbocycles((Mol)mol) → int :`\n",
    "\n",
    "returns the number of aliphatic (containing at least one non-aromatic bond) carbocycles for a molecule\n",
    "\n",
    "`rdMolDescriptors.CalcNumAliphaticHeterocycles((Mol)mol) → int :`\n",
    "\n",
    "returns the number of aliphatic (containing at least one non-aromatic bond) heterocycles for a molecule\n",
    "\n",
    "`rdMolDescriptors.CalcNumAromaticRings((Mol)mol) → int :`\n",
    "\n",
    "returns the number of aromatic rings for a molecule\n",
    "\n",
    "`rdMolDescriptors.CalcNumAtomStereoCenters((Mol)mol) → int :`\n",
    "\n",
    "Returns the total number of atomic stereocenters (specified and unspecified)\n",
    "\n",
    "`rdMolDescriptors.CalcNumHBA((Mol)mol) → int :`\n",
    "\n",
    "returns the number of H-bond acceptors for a molecule\n",
    "\n",
    "`rdMolDescriptors.CalcNumHBD((Mol)mol) → int :`\n",
    "\n",
    "returns the number of H-bond donors for a molecule\n",
    "```"
   ]
  },
  {
   "cell_type": "markdown",
   "metadata": {},
   "source": [
    "<div class=\"alert alert-block alert-warning\"> \n",
    "<h3>Challenge</h3>\n",
    "\n",
    "Write a function that uses methods from the `rdMolDescritors` module to calculate 3 properties for a molecule. The function should take `mol` as an argument and print the properties you calculate.\n",
    "\n",
    "Run your function on some of the molecules we have created.\n",
    "\n",
    "</div>"
   ]
  },
  {
   "cell_type": "code",
   "execution_count": 18,
   "metadata": {},
   "outputs": [],
   "source": [
    "def get_properties(mol : rdkit.Chem.rdchem.Mol):\n",
    "    MW = rdMolDescriptors.CalcExactMolWt(mol)\n",
    "    HBD = rdMolDescriptors.CalcNumHBD(mol)\n",
    "    HBA = rdMolDescriptors.CalcNumHBA(mol)\n",
    "    ALOGP = rdMolDescriptors.CalcCrippenDescriptors(mol)[0]\n",
    "    print(f'MW: {MW}, HBD: {HBD}, HBA: {HBA}, ALogP: {ALOGP}')"
   ]
  },
  {
   "cell_type": "code",
   "execution_count": 19,
   "metadata": {},
   "outputs": [
    {
     "name": "stdout",
     "output_type": "stream",
     "text": [
      "MW: 206.130679816, HBD: 1, HBA: 1, ALogP: 3.073200000000001\n"
     ]
    }
   ],
   "source": [
    "ibuprofen_properties = get_properties(ibuprofen)"
   ]
  },
  {
   "cell_type": "markdown",
   "metadata": {},
   "source": [
    "# Iterator module\n",
    "\n",
    "Can include if we have enough time"
   ]
  },
  {
   "cell_type": "markdown",
   "metadata": {},
   "source": [
    "<div class=\"alert alert-block alert-success\"> \n",
    "<strong>Python Skills: Iterators</strong>\n",
    "\n",
    "When we look at the results of the `GetAtoms` method, it tells us that we have a `GetAtomsIterator`.\n",
    "In Python, an iterator is an object that contains values that can be looped through and indexed in.\n",
    "\n",
    "Although we haven't used this terminology before, a Python list is an example of an iterator.\n",
    "\n",
    "</div>\n",
    "\n",
    "Like a list, we can also call `len` on the iterator."
   ]
  },
  {
   "cell_type": "code",
   "execution_count": null,
   "metadata": {},
   "outputs": [
    {
     "data": {
      "text/plain": [
       "4"
      ]
     },
     "metadata": {},
     "output_type": "display_data"
    }
   ],
   "source": [
    "len(acetic_acid_atoms)"
   ]
  },
  {
   "cell_type": "markdown",
   "metadata": {},
   "source": [
    "Because `acetic_acid_atoms` is an iterator, we can use indexing to get a particular atom.\n",
    "Atoms in RDKit molecules are represented by Atom objects."
   ]
  },
  {
   "cell_type": "code",
   "execution_count": null,
   "metadata": {},
   "outputs": [
    {
     "data": {
      "text/plain": [
       "<rdkit.Chem.rdchem.Atom at 0x7fd40224c660>"
      ]
     },
     "metadata": {},
     "output_type": "display_data"
    }
   ],
   "source": [
    "atom = acetic_acid_atoms[0]\n",
    "atom"
   ]
  },
  {
   "cell_type": "markdown",
   "metadata": {},
   "source": [
    "When we examine one atom, we see there that there are many methods associated with the atom. \n",
    "For example, we can print the atom element or atom hybridization."
   ]
  },
  {
   "cell_type": "code",
   "execution_count": null,
   "metadata": {},
   "outputs": [
    {
     "name": "stdout",
     "output_type": "stream",
     "text": [
      "O\n",
      "SP2\n"
     ]
    }
   ],
   "source": [
    "print(atom.GetSymbol())\n",
    "print(atom.GetHybridization())"
   ]
  },
  {
   "cell_type": "markdown",
   "metadata": {},
   "source": [
    "We can use a for loop to give information about each atom."
   ]
  },
  {
   "cell_type": "code",
   "execution_count": null,
   "metadata": {},
   "outputs": [
    {
     "name": "stdout",
     "output_type": "stream",
     "text": [
      "Atom C has hybridization SP3\n",
      "Atom C has hybridization SP2\n",
      "Atom O has hybridization SP2\n",
      "Atom O has hybridization SP2\n"
     ]
    }
   ],
   "source": [
    "for atom in acetic_acid_atoms:\n",
    "    print(f\"Atom {atom.GetSymbol()} has hybridization {atom.GetHybridization()}\")"
   ]
  },
  {
   "cell_type": "markdown",
   "metadata": {},
   "source": [
    "Bonds are also objects in RDKit, and we can iterate over them the same way we can iterate over atoms."
   ]
  },
  {
   "cell_type": "code",
   "execution_count": null,
   "metadata": {},
   "outputs": [
    {
     "data": {
      "text/plain": [
       "rdkit.Chem.rdchem.BondType.SINGLE"
      ]
     },
     "metadata": {},
     "output_type": "display_data"
    }
   ],
   "source": [
    "acetic_acid_bonds = acetic_acid.GetBonds()\n",
    "bond = acetic_acid_bonds[0]\n",
    "bond.GetBondType()"
   ]
  },
  {
   "cell_type": "markdown",
   "metadata": {},
   "source": [
    "<div class=\"alert alert-block alert-warning\"> \n",
    "<h3>Challenge</h3>\n",
    "\n",
    "Use a `for` loop to print information about each bond.\n",
    "For each bond, you should print the starting atom symbol, the ending atom symbol,\n",
    "and the bond type. \n",
    "\n",
    "Your output should look like the following:\n",
    "\n",
    "```\n",
    "Bond between C and C is a SINGLE bond.\n",
    "Bond between C and O is a DOUBLE bond.\n",
    "Bond between C and O is a SINGLE bond.\n",
    "```\n",
    "\n",
    "</div>"
   ]
  },
  {
   "cell_type": "code",
   "execution_count": null,
   "metadata": {},
   "outputs": [],
   "source": [
    "for bond in acetic_acid_bonds:\n",
    "    atom1 = bond.GetBeginAtom().GetSymbol()\n",
    "    atom2 = bond.GetEndAtom().GetSymbol()\n",
    "    print(f\"Bond between {atom1} and {atom2} is a {bond.GetBondType()} bond.\")"
   ]
  }
 ],
 "metadata": {
  "kernelspec": {
   "display_name": "nmr",
   "language": "python",
   "name": "python3"
  },
  "language_info": {
   "codemirror_mode": {
    "name": "ipython",
    "version": 3
   },
   "file_extension": ".py",
   "mimetype": "text/x-python",
   "name": "python",
   "nbconvert_exporter": "python",
   "pygments_lexer": "ipython3",
   "version": "3.12.5"
  }
 },
 "nbformat": 4,
 "nbformat_minor": 2
}
