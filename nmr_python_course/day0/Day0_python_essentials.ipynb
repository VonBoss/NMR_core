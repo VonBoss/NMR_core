{
 "cells": [
  {
   "cell_type": "markdown",
   "metadata": {},
   "source": [
    "# Python crashcourse for chemists\n",
    "\n",
    "<div class=\"alert alert-block alert-info\">\n",
    "<h2>Overview</h2>\n",
    "\n",
    "Questions:\n",
    "\n",
    "* What is the Python programming language, and what is it used for?\n",
    "\n",
    "* What are Jupyter notebooks, and how are they run?\n",
    "\n",
    "* What is the basic syntax of the Python programming language?\n",
    "    \n",
    "* What is a Python list?\n",
    "    \n",
    "* What is a `for` loop?\n",
    "\n",
    "* What are logic statements?\n",
    "\n",
    "Objectives:\n",
    "\n",
    "* Run a Jupyter notebook on Longleaf On Demand.\n",
    "\n",
    "* Assign values to variables.\n",
    "\n",
    "* Use the `print` function to check how the code is working.\n",
    "    \n",
    "* Use a `for` loop to perform the same action on all the items in a list.\n",
    "    \n",
    "* Use the append function to create new lists in `for` loops.\n",
    "\n",
    "</div>"
   ]
  },
  {
   "cell_type": "markdown",
   "metadata": {},
   "source": [
    "## What is Python and why use it?\n",
    "\n",
    "All of the software you use on a regular basis is created through the use of programming languages. \n",
    "Programming languages allow us to write instructions to a computer. \n",
    "There are many different programming languages, each with their own strengths, weaknesses, and uses. \n",
    "Some popular programming languages you might hear about are Javascript (used on the web - any website with interactive content likely uses javascript), Python (scientific programming and many other applications), C++ (high performance applications - much of computational chemistry, self-driving cars, etc), SQL (databases), and many more.\n",
    "\n",
    "Python is a computer programming language that has become ubiquitous in scientific programming. \n",
    "The Python programming language was first introduced in the year 1991, and has grown to be one of the most popular programming languages for both scientists and non-scientists. \n",
    "\n",
    "Compared to other programming languages, Python is considered more intuitive to start learning and is also extremely versatile. \n",
    "Python can be used to build web applications, interact with databases, and calculate and analyze data.\n",
    "Python also has many libraries focused on science and machine learning.\n",
    "\n",
    "In computational chemistry, we will see that we can use Python to calculate molecular properties, analyze results, and visualize data. \n",
    "We can also use some of Python's many libraries to fit data and predict properties.\n",
    "\n",
    "## Getting Started\n",
    "\n",
    "Our initial lessons will run python interactively through a Python interpreter. \n",
    "We will use an environment called a Jupyter notebook. \n",
    "The Jupyter notebook is an environment in your browser that can be used to write an execute Python code interactively.\n",
    "\n",
    "Follow the steps in the [longleaf access](../longleaf_access.md) document to open a Jupyter notebook hosted on Longleaf.\n",
    "\n",
    "\n",
    "## Refresher on running code in Jupyter Notebook\n",
    "\n",
    "You run a Jupyter notebook one cell at a time. \n",
    "To execute a cell, click inside the cell and press `shift+enter`.\n",
    "\n",
    "\n",
    "Let's start learning some Python!"
   ]
  },
  {
   "cell_type": "markdown",
   "metadata": {},
   "source": [
    "## Basic math\n",
    "\n",
    "Any Python interpreter can work just like a calculator using basic arithmetic operators.\n",
    "\n",
    "| Operator | Name           | Example |\n",
    "| -------- | -------------- | ------- |\n",
    "| +        | Addition       | `x + y`   |\n",
    "| -        | Subtraction    | `x - y`   |\n",
    "| *        | Multiplication | `x * y`   |\n",
    "| /        | Division       | `x / y`   |\n",
    "\n",
    "Run the cell below by selecting it and pressing (`Shift + Enter`)."
   ]
  },
  {
   "cell_type": "code",
   "execution_count": 1,
   "metadata": {},
   "outputs": [
    {
     "data": {
      "text/plain": [
       "1789"
      ]
     },
     "execution_count": 1,
     "metadata": {},
     "output_type": "execute_result"
    }
   ],
   "source": [
    "3 * 500 + 289\n"
   ]
  },
  {
   "cell_type": "markdown",
   "metadata": {},
   "source": [
    "<div class=\"alert alert-block alert-warning\"> \n",
    "<h3>Challenge</h3>\n",
    "\n",
    "UNC is obviously better than Dook, but how much better? In the cell below, use the provided values to calculate the recent win rate of UNC basketball.\n",
    "</div>\n",
    "\n",
    "| UNC wins | Duke wins |\n",
    "| :------: | :-------: |\n",
    "|    8     |     6     |\n",
    "\n",
    "\n",
    "win rate = UNC wins / total games\n"
   ]
  },
  {
   "cell_type": "code",
   "execution_count": 3,
   "metadata": {},
   "outputs": [
    {
     "data": {
      "text/plain": [
       "0.5714285714285714"
      ]
     },
     "execution_count": 3,
     "metadata": {},
     "output_type": "execute_result"
    }
   ],
   "source": [
    "8/14\n"
   ]
  },
  {
   "cell_type": "markdown",
   "metadata": {},
   "source": [
    "## Assign a variable\n",
    "\n",
    "To save a value for later use we can assign it as a variable. The syntax for assigning a variable is:\n",
    "\n",
    "```python\n",
    "variable_name = variable_value\n",
    "```\n",
    "\n",
    "Let's define some variables for our calculation."
   ]
  },
  {
   "cell_type": "code",
   "execution_count": 4,
   "metadata": {},
   "outputs": [],
   "source": [
    "unc_motto = 'Beat Duke!'\n",
    "unc_wins = 8 #UNC basketball wins since 2018\n",
    "duke_wins = 6 #Duke basketball wins since 2018\n",
    "\n",
    "# win rate of UNC basketball since 2018\n",
    "win_rate = unc_wins/(unc_wins + duke_wins)"
   ]
  },
  {
   "cell_type": "markdown",
   "metadata": {},
   "source": [
    "### Code comments\n",
    "Notice that some lines in the code above contain a `#` comment line. \n",
    "The computer does not do anything with these comments. \n",
    "Comments are often used to explain what the code is doing or leave information for future people who might use the code."
   ]
  },
  {
   "cell_type": "markdown",
   "metadata": {},
   "source": [
    "<div class=\"alert alert-block alert-warning\"> \n",
    "<h3>Challenge</h3>\n",
    "\n",
    "Calculate how many more NCAA basketball championships UNC has won compared to Dook and save the result as a variable called `championship_difference`. \n",
    "</div>\n",
    "\n",
    "| UNC championships | Duke championships |\n",
    "| :---------------: | :----------------: |\n",
    "|         6         |         5          |"
   ]
  },
  {
   "cell_type": "code",
   "execution_count": 5,
   "metadata": {},
   "outputs": [],
   "source": [
    "championship_difference = 6-5"
   ]
  },
  {
   "cell_type": "markdown",
   "metadata": {},
   "source": [
    "## Using Functions\n",
    "\n",
    "Functions are reusable pieces of code that perform certain tasks. \n",
    "Examples include printing, opening files, performing a calculations, and many others.\n",
    "\n",
    "Functions have a name that is followed by parenthesis containing the function inputs separated by commas (also called *arguments*).\n",
    "\n",
    "```python\n",
    "function_name(argument1, argument2...)\n",
    "```\n",
    "\n",
    "A useful function that is built into python is the `print()` function. Let's print a string (text) and one of our variables."
   ]
  },
  {
   "cell_type": "code",
   "execution_count": 6,
   "metadata": {},
   "outputs": [
    {
     "name": "stdout",
     "output_type": "stream",
     "text": [
      "Beat Duke!\n",
      "1\n"
     ]
    }
   ],
   "source": [
    "print('Beat Duke!')\n",
    "print(championship_difference)"
   ]
  },
  {
   "cell_type": "markdown",
   "metadata": {},
   "source": [
    "## Modify a variable\n",
    "\n",
    "This season UNC will obviously beat Duke twice. \n",
    "\n",
    "We can add 2 points to the variable `unc_wins` to account for these extra wins. However, to permanently change a variable we need to re-save the variable after modifying it. \n",
    "\n",
    "Compare what happens if you do or do NOT re-save a variable after making a change."
   ]
  },
  {
   "cell_type": "code",
   "execution_count": 7,
   "metadata": {},
   "outputs": [
    {
     "name": "stdout",
     "output_type": "stream",
     "text": [
      "Variable NOT re-saved:\n",
      "8\n",
      "8\n",
      "Variable re-saved:\n",
      "8\n",
      "10\n"
     ]
    }
   ],
   "source": [
    "print('Variable NOT re-saved:')\n",
    "print(unc_wins)\n",
    "unc_wins + 2\n",
    "print(unc_wins)\n",
    "\n",
    "print('Variable re-saved:')\n",
    "print(unc_wins)\n",
    "unc_wins = unc_wins + 2\n",
    "print(unc_wins)"
   ]
  },
  {
   "cell_type": "markdown",
   "metadata": {},
   "source": [
    "<div class=\"alert alert-block alert-warning\"> \n",
    "<h3>Challenge</h3>\n",
    "\n",
    "UNC might win a championship this year. Modify the `championship_difference` variable to add an additional championship win and print the result. \n",
    "</div>"
   ]
  },
  {
   "cell_type": "code",
   "execution_count": 9,
   "metadata": {},
   "outputs": [
    {
     "name": "stdout",
     "output_type": "stream",
     "text": [
      "3\n"
     ]
    }
   ],
   "source": [
    "championship_difference = championship_difference + 1\n",
    "print(championship_difference)"
   ]
  },
  {
   "cell_type": "markdown",
   "metadata": {},
   "source": [
    "## Basic Data Types\n",
    "\n",
    "In Python, data types define the kind of data a variable can hold, and they influence how you can use and manipulate that data. Here are three of the most common data types.\n",
    "\n",
    "| Date type (abbreviation)        | Description                          | Example         |\n",
    "| ------------------------------- | ------------------------------------ | --------------- |\n",
    "| string (`str`)                  | plain text                           | `'Hello World'` |\n",
    "| integer (`int`)                 | whole number                         | `23`            |\n",
    "| floating point number (`float`) | rational number with a decimal point | `3.1416`        |\n",
    "\n",
    "You can easily identify the data type of any variable with the `type()` function by inputting a variable as an argument like this:\n",
    "\n",
    "```python\n",
    "type(variable_name)\n",
    "```"
   ]
  },
  {
   "cell_type": "code",
   "execution_count": 10,
   "metadata": {},
   "outputs": [
    {
     "name": "stdout",
     "output_type": "stream",
     "text": [
      "10\n",
      "0.5714285714285714\n",
      "Beat Duke!\n"
     ]
    }
   ],
   "source": [
    "print(unc_wins)\n",
    "print(win_rate)\n",
    "print(unc_motto)"
   ]
  },
  {
   "cell_type": "markdown",
   "metadata": {},
   "source": [
    "<div class=\"alert alert-block alert-warning\"> \n",
    "<h3>Challenge</h3>\n",
    "\n",
    "Try to determine the type of each variable before running the following three cells.\n",
    "</div>"
   ]
  },
  {
   "cell_type": "code",
   "execution_count": 11,
   "metadata": {},
   "outputs": [
    {
     "data": {
      "text/plain": [
       "int"
      ]
     },
     "execution_count": 11,
     "metadata": {},
     "output_type": "execute_result"
    }
   ],
   "source": [
    "type(unc_wins)"
   ]
  },
  {
   "cell_type": "code",
   "execution_count": 12,
   "metadata": {},
   "outputs": [
    {
     "data": {
      "text/plain": [
       "float"
      ]
     },
     "execution_count": 12,
     "metadata": {},
     "output_type": "execute_result"
    }
   ],
   "source": [
    "type(win_rate)"
   ]
  },
  {
   "cell_type": "code",
   "execution_count": 13,
   "metadata": {},
   "outputs": [
    {
     "data": {
      "text/plain": [
       "str"
      ]
     },
     "execution_count": 13,
     "metadata": {},
     "output_type": "execute_result"
    }
   ],
   "source": [
    "type(unc_motto)"
   ]
  },
  {
   "cell_type": "markdown",
   "metadata": {},
   "source": [
    "## Functions that Return Values\n",
    "\n",
    "Most functions do more than just perform tasks—they can also send information back to you. When a function sends back a result, we say it \"returns a value.\" You can then save this returned value as a variable for future use like this:\n",
    "\n",
    "```python\n",
    "variable = function_name(argument1, arguement2...)\n",
    "```\n",
    "\n",
    "Let's run some math related functions that return values."
   ]
  },
  {
   "cell_type": "code",
   "execution_count": 14,
   "metadata": {},
   "outputs": [
    {
     "name": "stdout",
     "output_type": "stream",
     "text": [
      "42.1\n",
      "-13.4\n"
     ]
    }
   ],
   "source": [
    "# max() returns the highest value.\n",
    "max_value = max(-13.4, -2.7, 5.4, 42.1)\n",
    "\n",
    "# min() returns the lowest value.\n",
    "min_value = min(-13.4, -2.7, 5.4, 42.1)\n",
    "\n",
    "print(max_value)\n",
    "print(min_value)"
   ]
  },
  {
   "cell_type": "markdown",
   "metadata": {},
   "source": [
    "## Functions with Additional Arguments\n",
    "Arguments are used to input values into a function, and they can also be used to adjust how the function behaves.\n",
    "\n",
    "To understand how to modify a function, we can look at the documentation for that function.\n",
    "In Jupyter, you can use the `help()` function to see its documentation, which will show available arguments and what each one does.\n",
    "\n",
    "Let's look at the documentation for the `round()` function."
   ]
  },
  {
   "cell_type": "code",
   "execution_count": 15,
   "metadata": {},
   "outputs": [
    {
     "name": "stdout",
     "output_type": "stream",
     "text": [
      "Help on built-in function round in module builtins:\n",
      "\n",
      "round(number, ndigits=None)\n",
      "    Round a number to a given precision in decimal digits.\n",
      "\n",
      "    The return value is an integer if ndigits is omitted or None.  Otherwise\n",
      "    the return value has the same type as the number.  ndigits may be negative.\n",
      "\n"
     ]
    }
   ],
   "source": [
    "help(round)"
   ]
  },
  {
   "cell_type": "markdown",
   "metadata": {},
   "source": [
    "The documentation show us that `round()` takes two arguments:\n",
    "* *number* (inputted value)\n",
    "* *ndigits* (number of digits past the decimal point)\n",
    "\n",
    "Let's see how the *ndigits* argument affects the behavior of the `round()` function."
   ]
  },
  {
   "cell_type": "code",
   "execution_count": 16,
   "metadata": {},
   "outputs": [
    {
     "name": "stdout",
     "output_type": "stream",
     "text": [
      "3\n",
      "3.14\n"
     ]
    }
   ],
   "source": [
    "# First 12 digits of pi\n",
    "pi = 3.14159265359\n",
    "\n",
    "# Round pi using the default precision (ndigits = None).\n",
    "pi_rounded = round(pi)\n",
    "\n",
    "# Round pi to 2 decimal places (ndigits = 2).\n",
    "pi_2_decimal = round(pi, ndigits=2)\n",
    "\n",
    "\n",
    "print(pi_rounded)\n",
    "print(pi_2_decimal)\n"
   ]
  },
  {
   "cell_type": "markdown",
   "metadata": {},
   "source": [
    "## Lists\n",
    "\n",
    "A common data structure in python is the list.\n",
    "\n",
    "Lists in Python are useful when you want to store multiple pieces of data in a single variable.\n",
    "You can think of a list as a collection of values, where each value can be accessed by its position, or index.\n",
    "\n",
    "Lists are defined using square brackets `[ ]` and each element is separated by a commas. \n",
    "\n",
    "```python\n",
    "list_name = [element_1, element_2, element_3]\n",
    "```\n",
    "\n",
    "**Key Features of Lists:**\n",
    "- Ordered: Lists maintain the order of items as you add them.\n",
    "- Mutable: You can change the content of a list (add, remove, or modify items).\n",
    "- Indexable: You can access specific items in a list by their index (position)."
   ]
  },
  {
   "cell_type": "code",
   "execution_count": 32,
   "metadata": {},
   "outputs": [
    {
     "name": "stdout",
     "output_type": "stream",
     "text": [
      "[-13.4, -2.7, 0.0, 5.4, 42.1]\n",
      "[50.1, 82.6, 69.4, 74.8, 52.8, 67.9]\n"
     ]
    }
   ],
   "source": [
    "# This is a list\n",
    "energy_kcal = [-13.4, -2.7, 0.0, 5.4, 42.1]\n",
    "temperature_F = [50.1, 82.6, 69.4, 74.8, 52.8, 67.9]\n",
    "\n",
    "print(energy_kcal)\n",
    "print(temperature_F)"
   ]
  },
  {
   "cell_type": "markdown",
   "metadata": {},
   "source": [
    "Python has several built in functions which can be used on lists. \n",
    "\n",
    "```python\n",
    "function_name(list_name)\n",
    "```\n",
    "\n",
    "The built-in function `len()` can be used to determine the length of a list.\n",
    "\n",
    "The built-in function `sum()` can be used to determine the sum of a list.\n",
    "\n",
    "<div class=\"alert alert-block alert-warning\"> \n",
    "<h3>Challenge</h3>\n",
    "\n",
    "Use the `len()` and `sum()` functions to determine the average of the `energy_kcal` list and print your result.\n",
    "</div>\n",
    "\n",
    "average = sum / number of values"
   ]
  },
  {
   "cell_type": "code",
   "execution_count": 20,
   "metadata": {},
   "outputs": [
    {
     "name": "stdout",
     "output_type": "stream",
     "text": [
      "6.28\n"
     ]
    }
   ],
   "source": [
    "average = (sum(energy_kcal))/ (len(energy_kcal))\n",
    "print(average)\n"
   ]
  },
  {
   "cell_type": "markdown",
   "metadata": {},
   "source": [
    "## Indexing\n",
    "\n",
    "In Python, indexing allows us to access individual elements in a list.\n",
    "\n",
    "```python\n",
    "element = list_name[<position_of_element>]\n",
    "```\n",
    "\n",
    "In python counting starts at zero, so the first element of a list is in position zero:\n",
    "\n",
    "```python\n",
    "first_element = list_name[0]\n",
    "second_element = list_name[1]\n",
    "```"
   ]
  },
  {
   "cell_type": "code",
   "execution_count": 21,
   "metadata": {},
   "outputs": [
    {
     "name": "stdout",
     "output_type": "stream",
     "text": [
      "-13.4\n"
     ]
    }
   ],
   "source": [
    "# Print the first element of the list\n",
    "print(energy_kcal[0])"
   ]
  },
  {
   "cell_type": "markdown",
   "metadata": {},
   "source": [
    "You can use an element of a list as a variable in a calculation."
   ]
  },
  {
   "cell_type": "code",
   "execution_count": 22,
   "metadata": {},
   "outputs": [
    {
     "name": "stdout",
     "output_type": "stream",
     "text": [
      "-11.296800000000001\n"
     ]
    }
   ],
   "source": [
    "# Convert the second list element to kilojoules.\n",
    "energy_kilojoules = energy_kcal[1] * 4.184\n",
    "print(energy_kilojoules)"
   ]
  },
  {
   "cell_type": "markdown",
   "metadata": {},
   "source": [
    "## Define a Function\n",
    "\n",
    "If you plan to perform the same coding task multiple time consider making your own function.\n",
    "\n",
    "To define a function in Python, you use the `def` keyword, followed by the `function_name`, parentheses `( )` (which may contain arguments), and a colon `:`. The function's code block is indented beneath the definition. Finally, use the `return` command (optional) to return a value from the function.\n",
    "\n",
    "```python\n",
    "def function_name(arguments):\n",
    "    # Code to execute\n",
    "    return result  # Optional: returns a value\n",
    "```\n",
    "\n",
    "Let's define our own function and use it."
   ]
  },
  {
   "cell_type": "code",
   "execution_count": 28,
   "metadata": {},
   "outputs": [
    {
     "name": "stdout",
     "output_type": "stream",
     "text": [
      "UNC wins per season: 26.9\n",
      "Duke wins per season: 27.0\n"
     ]
    }
   ],
   "source": [
    "# Define the get_rounded_average() function\n",
    "def get_rounded_average(values, round_ndigits):\n",
    "    average = sum(values) / len(values)\n",
    "    rounded_average = round(average, ndigits = round_ndigits)\n",
    "    return rounded_average\n",
    "\n",
    "# Number of UNC basketball wins per season under head coach Roy Williams\n",
    "roy_williams_wins = [19, 33, 23, 31, 36, 34, 20, 29, 32, 25, 24, 26, 33, 33, 26, 29, 14, 18]\n",
    "\n",
    "# Number of Duke basketball wins per season under head coach Mike Kryzewski\n",
    "mike_krzyzewski_wins =[17, 10, 11, 24, 23, 37, 24, 28, 28, 29, 32, 34, 24, 28, 13, 18, 24, 32,\n",
    "                       37, 29,35, 31, 26, 31, 27, 32, 22, 28, 30, 35, 32, 27, 30, 26, 35, 25,\n",
    "                       28, 29, 32, 25, 13, 32]\n",
    "\n",
    "# Run the get_rounded_average() function\n",
    "unc_avg_wins = get_rounded_average(roy_williams_wins, round_ndigits=1)\n",
    "duke_avg_wins = get_rounded_average(mike_krzyzewski_wins, round_ndigits=1)\n",
    "\n",
    "print('UNC wins per season:', unc_avg_wins)\n",
    "print('Duke wins per season:', duke_avg_wins)"
   ]
  },
  {
   "cell_type": "markdown",
   "metadata": {},
   "source": [
    "I guess Dook is ok...."
   ]
  },
  {
   "cell_type": "markdown",
   "metadata": {},
   "source": [
    "<div class=\"alert alert-block alert-warning\"> \n",
    "<h3>Challenge</h3>\n",
    "\n",
    "Define a function called `convert_fahrenheit_to_celsius` that converts temperature in freedom units (fahrenheit) to celsius and returns the celsius value. Test your function with the value 77.0 degrees fahrenheit, you should get 25 degrees celsius.\n",
    "</div>\n",
    "\n",
    "celsius = (fahrenheit - 32) * 5/9"
   ]
  },
  {
   "cell_type": "code",
   "execution_count": null,
   "metadata": {},
   "outputs": [],
   "source": []
  },
  {
   "cell_type": "markdown",
   "metadata": {},
   "source": [
    "## Repeating an operation many times: `for` loops\n",
    "\n",
    "Often, you will want to repeat a block of code on multiple elements of a list. The structure to do this is called a `for` loop. The general structure of a for loop is:\n",
    "\n",
    "```python\n",
    "\n",
    "for each_item in your_list:\n",
    "    do things using each_item\n",
    "\n",
    "```\n",
    "\n",
    "There are two very important pieces of syntax for the for loop. \n",
    "\n",
    "1) Notice the colon `:` after the word `list`. You will always have a colon at the end of a for statement. If you forget the colon, you will get an error when you try to run your code.\n",
    "\n",
    "2) Notice the lines of code under the for loop (the things you want to do several times) are indented. Indentation is very important in python and consist of 4 spaces. Simply stop indenting to end the code included in the `for` loop.\n",
    "\n",
    "Let’s use a loop to change all of our energies in kcal to kJ.\n"
   ]
  },
  {
   "cell_type": "code",
   "execution_count": 23,
   "metadata": {},
   "outputs": [
    {
     "name": "stdout",
     "output_type": "stream",
     "text": [
      "-56.0656\n",
      "-11.296800000000001\n",
      "0.0\n",
      "22.593600000000002\n",
      "176.1464\n",
      "finished\n"
     ]
    }
   ],
   "source": [
    "# Convert Kcal to KJ\n",
    "for number in energy_kcal:\n",
    "    kJ = number * 4.184\n",
    "    print(kJ)\n",
    "print('finished')"
   ]
  },
  {
   "cell_type": "markdown",
   "metadata": {},
   "source": [
    "Now it seems like we are really getting somewhere with our program!\n",
    "But it would be even better if instead of just printing the values, it saved them in a new list.\n",
    "\n",
    "To do this, we are going to use the `append()` function which adds a new item to the end of an existing list.\n",
    "\n",
    "The general form of the `append()` function is:\n",
    "\n",
    "```python\n",
    "list_name.append(new_thing)\n",
    "```"
   ]
  },
  {
   "cell_type": "code",
   "execution_count": 24,
   "metadata": {},
   "outputs": [
    {
     "name": "stdout",
     "output_type": "stream",
     "text": [
      "[-56.0656, -11.296800000000001, 0.0, 22.593600000000002, 176.1464]\n"
     ]
    }
   ],
   "source": [
    "energy_kJ = []\n",
    "for number in energy_kcal:\n",
    "    kJ = number * 4.184\n",
    "    energy_kJ.append(kJ)\n",
    "\n",
    "print(energy_kJ)"
   ]
  },
  {
   "cell_type": "markdown",
   "metadata": {},
   "source": [
    "## Error messages\n",
    "\n",
    "If you make a mistake in your code or syntax you will likely receive an error message from Python.\n",
    "\n",
    "Let's see what kind of error message we receive if we forget to pre-define the list we are appending to."
   ]
  },
  {
   "cell_type": "code",
   "execution_count": 31,
   "metadata": {},
   "outputs": [
    {
     "ename": "NameError",
     "evalue": "name 'kj_values' is not defined",
     "output_type": "error",
     "traceback": [
      "\u001b[0;31m---------------------------------------------------------------------------\u001b[0m",
      "\u001b[0;31mNameError\u001b[0m                                 Traceback (most recent call last)",
      "Cell \u001b[0;32mIn[31], line 3\u001b[0m\n\u001b[1;32m      1\u001b[0m \u001b[38;5;28;01mfor\u001b[39;00m number \u001b[38;5;129;01min\u001b[39;00m energy_kcal:\n\u001b[1;32m      2\u001b[0m     kJ \u001b[38;5;241m=\u001b[39m number \u001b[38;5;241m*\u001b[39m \u001b[38;5;241m4.184\u001b[39m\n\u001b[0;32m----> 3\u001b[0m     \u001b[43mkj_values\u001b[49m\u001b[38;5;241m.\u001b[39mappend(kJ)\n\u001b[1;32m      5\u001b[0m \u001b[38;5;28mprint\u001b[39m(kj_values)\n",
      "\u001b[0;31mNameError\u001b[0m: name 'kj_values' is not defined"
     ]
    }
   ],
   "source": [
    "for number in energy_kcal:\n",
    "    kJ = number * 4.184\n",
    "    kj_values.append(kJ)\n",
    "\n",
    "print(kj_values)\n"
   ]
  },
  {
   "cell_type": "markdown",
   "metadata": {},
   "source": [
    "This is an example of an error message. If you learn to interrupt these messages they can be extremely helpful for troubleshooting. \n",
    "\n",
    "In Python, read the last line of the error message first to understand what went wrong in the program execution.\n",
    "\n",
    "This code doesn’t work because on the first iteration of our loop, the list `kJ_values` doesn’t exist. To make it work, we have to define the list outside of the loop."
   ]
  },
  {
   "cell_type": "markdown",
   "metadata": {},
   "source": [
    "<div class=\"alert alert-block alert-warning\"> \n",
    "<h3>Challenge</h3>\n",
    "\n",
    "Use a for loop to convert all the fahrenheit temperature values in `temperature_F` list into celsius values. Try to reuse the function that you previously created.\n",
    "</div>\n",
    "\n",
    "celsius = (fahrenheit - 32) * 5/9"
   ]
  },
  {
   "cell_type": "code",
   "execution_count": null,
   "metadata": {},
   "outputs": [],
   "source": []
  },
  {
   "cell_type": "markdown",
   "metadata": {},
   "source": [
    "## Making choices: logic statements\n",
    "\n",
    "Within your code, you may need to evaluate a variable and then do something if the variable has a particular value. This type of logic is handled by an `if` statement. In the following example, we only append the negative numbers to a new list."
   ]
  },
  {
   "cell_type": "code",
   "execution_count": 34,
   "metadata": {},
   "outputs": [
    {
     "name": "stdout",
     "output_type": "stream",
     "text": [
      "[3.5, 0.8, 6.1, 0.4, 2.9, 6.5]\n"
     ]
    }
   ],
   "source": [
    "pH_values = [3.5, 0.8, 7.0, 8.2, 6.1, 7.0, 0.4, 12.4, 2.9, 6.5, 9.1, 13.4, 7.4]\n",
    "acidic_values = []\n",
    "\n",
    "for pH in pH_values:\n",
    "    if pH < 7:\n",
    "        acidic_values.append(pH)\n",
    "        \n",
    "print(acidic_values)"
   ]
  },
  {
   "cell_type": "markdown",
   "metadata": {},
   "source": [
    "Other logic operations include:\n",
    "\n",
    "**Comparison operators**\n",
    "\n",
    "| Operator | Name                     | Example  |\n",
    "| -------- | ------------------------ | -------- |\n",
    "| ==       | Equal                    | `x == y` |\n",
    "| !=       | Not equal                | `x != y` |\n",
    "| >        | Greater than             | `x > y`  |\n",
    "| <        | Less than                | `x < y`  |\n",
    "| >=       | Greater than or equal to | `x >= y` |\n",
    "| <=       | Less than or equal to    | `x <= y` |\n",
    "\n",
    "**Logical operators**\n",
    "\n",
    "| Operator | Description                                             | Example                 |\n",
    "| -------- | ------------------------------------------------------- | ----------------------- |\n",
    "| and      | Returns True if both statements are true                | `x < 5 and  x < 10`     |\n",
    "| or       | Returns True if one of the statements is true           | `x < 5 or x < 4`        |\n",
    "| not      | Reverse the result, returns False if the result is true | `not(x < 5 and x < 10)` |"
   ]
  },
  {
   "cell_type": "code",
   "execution_count": 38,
   "metadata": {},
   "outputs": [
    {
     "name": "stdout",
     "output_type": "stream",
     "text": [
      "[3.5, 6.1, 2.9, 6.5]\n"
     ]
    }
   ],
   "source": [
    "weak_acid = []\n",
    "for pH in pH_values:\n",
    "    if pH > 1 and pH < 7:\n",
    "        weak_acid.append(pH)\n",
    "\n",
    "print(weak_acid)"
   ]
  },
  {
   "cell_type": "markdown",
   "metadata": {},
   "source": [
    "## `if`, `elif`, `else` Statements\n",
    "\n",
    "For more complex logic you may need more options. If `if` isn't enough you can also use `elif` and `else`.\n",
    "\n",
    "- `if`: The `if` statement checks a condition. If the condition is `True`, the code block under `if` runs.\n",
    "- `elif`: Short for \"else if,\" `elif` checks another condition if the previous `if` (or `elif`) condition was `False`. You can use multiple elif statements to check multiple conditions.\n",
    "- `else`: The `else` statement runs if none of the `if` or `elif` conditions are `True`. It’s like a \"catch-all\" for any remaining cases.\n",
    "\n",
    "Let's see an example."
   ]
  },
  {
   "cell_type": "code",
   "execution_count": 42,
   "metadata": {},
   "outputs": [
    {
     "name": "stdout",
     "output_type": "stream",
     "text": [
      "Weak acid: [3.5, 6.1, 2.9, 6.5]\n",
      "Strong acid: [0.8, 0.4]\n",
      "Not_acid: [7.0, 8.2, 7.0, 12.4, 9.1, 13.4, 7.4]\n"
     ]
    }
   ],
   "source": [
    "weak_acid = []\n",
    "strong_acid = []\n",
    "not_acid = []\n",
    "\n",
    "for pH in pH_values:\n",
    "    if pH > 1 and pH < 7:\n",
    "        weak_acid.append(pH)\n",
    "    elif pH <= 1:\n",
    "        strong_acid.append(pH)\n",
    "    else:\n",
    "        not_acid.append(pH)\n",
    "        \n",
    "\n",
    "print('Weak acid:', weak_acid)\n",
    "print('Strong acid:', strong_acid)\n",
    "print('Not_acid:', not_acid)"
   ]
  },
  {
   "cell_type": "markdown",
   "metadata": {},
   "source": [
    "<div class=\"alert alert-block alert-warning\"> \n",
    "<h3>Challenge</h3>\n",
    "\n",
    "Modify the logic statements below to include categories for:\n",
    "- `neutral` (pH 7)\n",
    "- `weak_base` (7.01-12.99)\n",
    "- `strong_base` (pH 13+)\n",
    "\n",
    "Append the pH values to the appropriate lists.\n",
    "</div>"
   ]
  },
  {
   "cell_type": "code",
   "execution_count": null,
   "metadata": {},
   "outputs": [],
   "source": [
    "weak_acid = []\n",
    "strong_acid = []\n",
    "neutral = []\n",
    "weak_base = []\n",
    "strong_base = []\n",
    "\n",
    "for pH in pH_values:\n",
    "    if pH > 1 and pH < 7:\n",
    "        weak_acid.append(pH)\n",
    "    elif pH <= 1:\n",
    "        strong_acid.append(pH)\n",
    "        \n",
    "\n",
    "print('Weak acid:', weak_acid)\n",
    "print('Strong acid:', strong_acid)\n",
    "print('Neutral:', neutral)\n",
    "print('Weak base:', weak_acid)\n",
    "print('Strong base:', strong_acid)"
   ]
  }
 ],
 "metadata": {
  "kernelspec": {
   "display_name": "nmr",
   "language": "python",
   "name": "python3"
  },
  "language_info": {
   "codemirror_mode": {
    "name": "ipython",
    "version": 3
   },
   "file_extension": ".py",
   "mimetype": "text/x-python",
   "name": "python",
   "nbconvert_exporter": "python",
   "pygments_lexer": "ipython3",
   "version": "3.12.5"
  }
 },
 "nbformat": 4,
 "nbformat_minor": 2
}
