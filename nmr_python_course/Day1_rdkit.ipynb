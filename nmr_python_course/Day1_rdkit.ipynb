{
 "cells": [
  {
   "cell_type": "markdown",
   "metadata": {},
   "source": [
    "# Python essentials\n",
    "\n",
    "## Objectives:\n",
    "\n",
    "* Import packages/libraries\n",
    "\n",
    "* Review basic data types\n",
    "    * string (str): text characters\n",
    "    * integer (int): whole number\n",
    "    * floating point number (float): number with a decimal\n",
    "\n",
    "* New data types:\n",
    "    * list\n",
    "    * dictionary\n",
    "    * dataframe\n",
    "\n",
    "* Run and define functions\n",
    "    * `print()`\n",
    "    * `type()`\n",
    "    * `Chem.MolFromSmiles()`\n",
    "    * `Chem.Draw.MolToImage()`\n",
    "    * `Descriptors.ExactMolWt()`\n",
    "    \n",
    "* RDKit library\n",
    "* Pandas library\n"
   ]
  },
  {
   "cell_type": "code",
   "execution_count": 82,
   "metadata": {},
   "outputs": [],
   "source": [
    "import rdkit\n",
    "from rdkit import Chem\n",
    "from rdkit.Chem import rdMolDescriptors"
   ]
  },
  {
   "cell_type": "code",
   "execution_count": 46,
   "metadata": {},
   "outputs": [],
   "source": [
    "ibuprofen = 'CC(Cc1ccc(cc1)C(C(=O)O)C)C'"
   ]
  },
  {
   "cell_type": "code",
   "execution_count": 47,
   "metadata": {},
   "outputs": [
    {
     "name": "stdout",
     "output_type": "stream",
     "text": [
      "CC(Cc1ccc(cc1)C(C(=O)O)C)C\n"
     ]
    },
    {
     "data": {
      "text/plain": [
       "str"
      ]
     },
     "execution_count": 47,
     "metadata": {},
     "output_type": "execute_result"
    }
   ],
   "source": [
    "print(ibuprofen)\n",
    "type(ibuprofen)"
   ]
  },
  {
   "cell_type": "code",
   "execution_count": 48,
   "metadata": {},
   "outputs": [],
   "source": [
    "mol = Chem.MolFromSmiles(ibuprofen)"
   ]
  },
  {
   "cell_type": "code",
   "execution_count": 52,
   "metadata": {},
   "outputs": [
    {
     "name": "stdout",
     "output_type": "stream",
     "text": [
      "<rdkit.Chem.rdchem.Mol object at 0x7fcb77b8d850>\n"
     ]
    },
    {
     "data": {
      "text/plain": [
       "rdkit.Chem.rdchem.Mol"
      ]
     },
     "execution_count": 52,
     "metadata": {},
     "output_type": "execute_result"
    }
   ],
   "source": [
    "print(mol)\n",
    "type(mol)"
   ]
  },
  {
   "cell_type": "code",
   "execution_count": 49,
   "metadata": {},
   "outputs": [
    {
     "data": {
      "image/jpeg": "[encoded data removed]",
      "image/png": "[encoded data removed]",
      "text/plain": [
       "<PIL.PngImagePlugin.PngImageFile image mode=RGB size=300x300>"
      ]
     },
     "execution_count": 49,
     "metadata": {},
     "output_type": "execute_result"
    }
   ],
   "source": [
    "image = Chem.Draw.MolToImage(mol)\n",
    "image"
   ]
  },
  {
   "cell_type": "code",
   "execution_count": 53,
   "metadata": {},
   "outputs": [
    {
     "name": "stdout",
     "output_type": "stream",
     "text": [
      "<PIL.PngImagePlugin.PngImageFile image mode=RGB size=300x300 at 0x7FCB77DCD010>\n"
     ]
    },
    {
     "data": {
      "text/plain": [
       "PIL.PngImagePlugin.PngImageFile"
      ]
     },
     "execution_count": 53,
     "metadata": {},
     "output_type": "execute_result"
    }
   ],
   "source": [
    "print(image)\n",
    "type(image)"
   ]
  },
  {
   "cell_type": "code",
   "execution_count": 71,
   "metadata": {},
   "outputs": [],
   "source": [
    "num_atoms = rdMolDescriptors.CalcNumAtoms(mol)"
   ]
  },
  {
   "cell_type": "code",
   "execution_count": 72,
   "metadata": {},
   "outputs": [
    {
     "name": "stdout",
     "output_type": "stream",
     "text": [
      "33\n"
     ]
    },
    {
     "data": {
      "text/plain": [
       "int"
      ]
     },
     "execution_count": 72,
     "metadata": {},
     "output_type": "execute_result"
    }
   ],
   "source": [
    "print(num_atoms)\n",
    "type(num_atoms)"
   ]
  },
  {
   "cell_type": "code",
   "execution_count": 66,
   "metadata": {},
   "outputs": [],
   "source": [
    "mw = rdMolDescriptors.CalcExactMolWt(mol)"
   ]
  },
  {
   "cell_type": "code",
   "execution_count": 67,
   "metadata": {},
   "outputs": [
    {
     "name": "stdout",
     "output_type": "stream",
     "text": [
      "206.130679816\n"
     ]
    },
    {
     "data": {
      "text/plain": [
       "float"
      ]
     },
     "execution_count": 67,
     "metadata": {},
     "output_type": "execute_result"
    }
   ],
   "source": [
    "print(mw)\n",
    "type(mw)"
   ]
  },
  {
   "cell_type": "code",
   "execution_count": 68,
   "metadata": {},
   "outputs": [],
   "source": [
    "ibprofen_properties = {}"
   ]
  },
  {
   "cell_type": "code",
   "execution_count": 69,
   "metadata": {},
   "outputs": [],
   "source": [
    "ibprofen_properties['num_atoms'] = num_atoms\n",
    "ibprofen_properties['mw'] = mw"
   ]
  },
  {
   "cell_type": "code",
   "execution_count": 70,
   "metadata": {},
   "outputs": [
    {
     "name": "stdout",
     "output_type": "stream",
     "text": [
      "{'num_atoms': 15, 'mw': 206.130679816}\n"
     ]
    },
    {
     "data": {
      "text/plain": [
       "dict"
      ]
     },
     "execution_count": 70,
     "metadata": {},
     "output_type": "execute_result"
    }
   ],
   "source": [
    "print(ibprofen_properties)\n",
    "type(ibprofen_properties)"
   ]
  },
  {
   "cell_type": "markdown",
   "metadata": {},
   "source": [
    "\n",
    "\n",
    "`rdkit.Chem.rdMolDescriptors.CalcExactMolWt((Mol)mol[, (bool)onlyHeavy=False]) → float :`\n",
    "\n",
    "returns the molecule’s exact molecular weight\n",
    "\n",
    "`rdkit.Chem.rdMolDescriptors.CalcNumAtoms((Mol)mol) → int :`\n",
    "\n",
    "returns the total number of atoms for a molecule\n",
    "\n",
    "`rdkit.Chem.rdMolDescriptors.CalcFractionCSP3((Mol)mol) → float :`\n",
    "\n",
    "returns the fraction of C atoms that are SP3 hybridized\n",
    "\n",
    "`rdkit.Chem.rdMolDescriptors.CalcMolFormula((Mol)mol) → str :`\n",
    "\n",
    "returns the molecule’s formula\n",
    "\n",
    "`rdkit.Chem.rdMolDescriptors.CalcNumAliphaticCarbocycles((Mol)mol) → int :`\n",
    "\n",
    "returns the number of aliphatic (containing at least one non-aromatic bond) carbocycles for a molecule\n",
    "\n",
    "`rdkit.Chem.rdMolDescriptors.CalcNumAliphaticHeterocycles((Mol)mol) → int :`\n",
    "\n",
    "returns the number of aliphatic (containing at least one non-aromatic bond) heterocycles for a molecule\n",
    "\n",
    "`rdkit.Chem.rdMolDescriptors.CalcNumAromaticRings((Mol)mol) → int :`\n",
    "\n",
    "returns the number of aromatic rings for a molecule\n",
    "\n",
    "`rdkit.Chem.rdMolDescriptors.CalcNumAtomStereoCenters((Mol)mol) → int :`\n",
    "\n",
    "Returns the total number of atomic stereocenters (specified and unspecified)\n",
    "\n",
    "`rdkit.Chem.rdMolDescriptors.CalcNumHBA((Mol)mol) → int :`\n",
    "\n",
    "returns the number of H-bond acceptors for a molecule\n",
    "\n",
    "`rdkit.Chem.rdMolDescriptors.CalcNumHBD((Mol)mol) → int :`\n",
    "\n",
    "returns the number of H-bond donors for a molecule"
   ]
  },
  {
   "cell_type": "code",
   "execution_count": 81,
   "metadata": {},
   "outputs": [
    {
     "name": "stdout",
     "output_type": "stream",
     "text": [
      "C13H18O2\n"
     ]
    }
   ],
   "source": [
    "print(rdMolDescriptors.CalcMolFormula(mol))"
   ]
  },
  {
   "cell_type": "code",
   "execution_count": 76,
   "metadata": {},
   "outputs": [
    {
     "name": "stdout",
     "output_type": "stream",
     "text": [
      "0\n"
     ]
    }
   ],
   "source": [
    "print(rdMolDescriptors.CalcNumAliphaticCarbocycles(mol))"
   ]
  },
  {
   "cell_type": "code",
   "execution_count": 83,
   "metadata": {},
   "outputs": [],
   "source": [
    "def get_properties(mol : rdkit.Chem.rdchem.Mol, properties : dict):\n",
    "    properties['mw'] = rdMolDescriptors.CalcExactMolWt(mol)\n",
    "    properties['formula'] = rdMolDescriptors.CalcMolFormula(mol)\n",
    "    properties['num_atoms'] = rdMolDescriptors.CalcNumAtoms(mol)\n",
    "    \n",
    "    return properties"
   ]
  },
  {
   "cell_type": "code",
   "execution_count": null,
   "metadata": {},
   "outputs": [],
   "source": []
  },
  {
   "cell_type": "markdown",
   "metadata": {},
   "source": [
    "Working remaining:\n",
    "\n",
    "* prompt student to write a simple function to calculate 2 properties for a molecule\n",
    "* store rdkit data to a dictionary\n",
    "* index a dictionary\n",
    "* Dict -> dataframe\n"
   ]
  }
 ],
 "metadata": {
  "kernelspec": {
   "display_name": "nmr",
   "language": "python",
   "name": "python3"
  },
  "language_info": {
   "codemirror_mode": {
    "name": "ipython",
    "version": 3
   },
   "file_extension": ".py",
   "mimetype": "text/x-python",
   "name": "python",
   "nbconvert_exporter": "python",
   "pygments_lexer": "ipython3",
   "version": "3.12.5"
  }
 },
 "nbformat": 4,
 "nbformat_minor": 2
}
