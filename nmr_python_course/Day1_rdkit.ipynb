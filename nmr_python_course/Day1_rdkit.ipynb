{
 "cells": [
  {
   "cell_type": "markdown",
   "metadata": {},
   "source": [
    "# Intro to cheminformatics with RDkit\n",
    "\n",
    "\n",
    "<div class=\"alert alert-block alert-info\">\n",
    "<h2>Objectives:</h2>\n",
    "\n",
    "* Import packages/libraries\n",
    "\n",
    "* Review basic data types\n",
    "    * string (str): text characters\n",
    "    * integer (int): whole number\n",
    "    * floating point number (float): number with a decimal\n",
    "\n",
    "* New data types:\n",
    "    * dictionary\n",
    "    * dataframe\n",
    "\n",
    "* Run and define functions\n",
    "    * `print()`\n",
    "    * `type()`\n",
    "    * `Chem.MolFromSmiles()`\n",
    "    * `Chem.Draw.MolToImage()`\n",
    "    * `Descriptors.ExactMolWt()`\n",
    "    \n",
    "* RDKit library\n",
    "* Pandas library\n",
    "\n",
    "</div>\n",
    "\n",
    "There are Python libraries that are made for working just with chemical data. One commonly used library in Python for data science (or cheminformatics) is called [RDKit](https://en.wikipedia.org/wiki/RDKit).\n",
    "\n",
    "RDKit provides a molecule object that allows you to manipulate chemical structures. It has capabilities for reading and writing molecular file formats, calculating molecular properties, and performing substructure searches. In addition, it offers a wide range of cheminformatics algorithms such as molecular fingerprint generation, similarity metrics calculation, and molecular descriptor computation. This notebook will only introduce a few RDKit basics.\n",
    "\n",
    "<div class=\"alert alert-block alert-success\"> \n",
    "<strong>Python Skills: Python Objects</strong>\n",
    "\n",
    "Most of this functionality is achieved through the RDKit `mol` object. In Python, we use the word \"object\" to refer to a variable type with associated data and methods. \n",
    "One example of an object we have seen in notebooks is a list - we could also call it a \"list object\". An object has `attributes` (data) and `methods`. \n",
    "You access information about objects with the syntax\n",
    "```python\n",
    "object.data\n",
    "```\n",
    "where data is the attribute name.\n",
    "\n",
    "You acceess object methods with the syntax\n",
    "```python\n",
    "object.method(arguments)\n",
    "```\n",
    "\n",
    "For example, for a list \"`append` is a method that was covered in the introductory lesson.\n",
    "\n",
    "```\n",
    "my_list = []\n",
    "my_list.append(1) # \"append\" is a method\n",
    "```\n",
    "</div>    \n",
    "\n",
    "In this lesson, we will create and manipulate RDKit `mol` objects. RDKit `mol` objects represent molecules and have\n",
    "attributes (data) and methods (actions) associated with molecules.\n",
    "\n",
    "We are going to use a part of RDKit called `Chem`. To use `Chem`, we first have to import it. "
   ]
  },
  {
   "cell_type": "code",
   "execution_count": 27,
   "metadata": {},
   "outputs": [],
   "source": [
    "import rdkit\n",
    "from rdkit import Chem"
   ]
  },
  {
   "cell_type": "markdown",
   "metadata": {},
   "source": [
    "## Creating Molecules with RDKit\n",
    "\n",
    "Throughout this tutorial, it will be helpful to have access to the [RDKit documentation](https://www.rdkit.org/docs/index.html). \n",
    "\n",
    "To get information about molecules in RDKit, we have to first create objects representing molecules. We will use SMILES strings to create our `mol` objects, though RDKit also has methods for creating molecules from the file formats.\n",
    "\n",
    "### Creating molecules using SMILES\n",
    "\n",
    "We can create a representation of ibuprofen using RDKit by using the `MolFromSmiles` function in `rdkit.Chem`."
   ]
  },
  {
   "cell_type": "code",
   "execution_count": 28,
   "metadata": {},
   "outputs": [
    {
     "name": "stdout",
     "output_type": "stream",
     "text": [
      "CC(Cc1ccc(cc1)C(C(=O)O)C)C\n"
     ]
    },
    {
     "data": {
      "text/plain": [
       "str"
      ]
     },
     "execution_count": 28,
     "metadata": {},
     "output_type": "execute_result"
    }
   ],
   "source": [
    "ibuprofen_smiles = 'CC(Cc1ccc(cc1)C(C(=O)O)C)C'\n",
    "\n",
    "print(ibuprofen_smiles)\n",
    "type(ibuprofen_smiles)\n"
   ]
  },
  {
   "cell_type": "code",
   "execution_count": 30,
   "metadata": {},
   "outputs": [],
   "source": [
    "ibuprofen = Chem.MolFromSmiles(ibuprofen_smiles)"
   ]
  },
  {
   "cell_type": "markdown",
   "metadata": {},
   "source": [
    "Let's try to see what the `Chem.MolFromSmiles()` function generated using the `print()` and `type()` functions."
   ]
  },
  {
   "cell_type": "code",
   "execution_count": 21,
   "metadata": {},
   "outputs": [
    {
     "name": "stdout",
     "output_type": "stream",
     "text": [
      "<rdkit.Chem.rdchem.Mol object at 0x7fd402797140>\n"
     ]
    }
   ],
   "source": [
    "print(ibuprofen)"
   ]
  },
  {
   "cell_type": "markdown",
   "metadata": {},
   "source": [
    "The `print()` function doesn't known how to represent this object. Instead it informed us that the variable `ibuprofen` is an RDkit `mol` object that is stored in our computers memory at the address `0x7fd4ec3a69d0`.\n",
    "\n",
    "We need to use the RDkit methods to interact with the `mol` object. We can visualize the molecule using the `Chem.Draw.MolToImage()` function."
   ]
  },
  {
   "cell_type": "code",
   "execution_count": 13,
   "metadata": {},
   "outputs": [
    {
     "data": {
      "image/jpeg": "[encoded data removed]",
      "image/png": "[encoded data removed]",
      "text/plain": [
       "<PIL.PngImagePlugin.PngImageFile image mode=RGB size=300x300>"
      ]
     },
     "execution_count": 13,
     "metadata": {},
     "output_type": "execute_result"
    }
   ],
   "source": [
    "Chem.Draw.MolToImage(ibuprofen)"
   ]
  },
  {
   "cell_type": "markdown",
   "metadata": {},
   "source": [
    "Luckily, Jupyter is smart, so we can also display a `mol` object by putting ia as the last thing in a cell."
   ]
  },
  {
   "cell_type": "code",
   "execution_count": 22,
   "metadata": {},
   "outputs": [
    {
     "data": {
      "image/png": "[encoded data removed]",
      "text/plain": [
       "<rdkit.Chem.rdchem.Mol at 0x7fd4022023b0>"
      ]
     },
     "execution_count": 22,
     "metadata": {},
     "output_type": "execute_result"
    }
   ],
   "source": [
    "acetic_acid = Chem.MolFromSmiles(\"CC(=O)O\")\n",
    "acetic_acid"
   ]
  },
  {
   "cell_type": "markdown",
   "metadata": {},
   "source": [
    "## Working with RDKit Molecules\n",
    "\n",
    "RDKit molecule objects have a number of methods we can use to get more information about the molecule.\n",
    "In the next few cells, we'll look at some methods that can tell us some things about the molecules we've created.\n",
    "\n",
    "<div class=\"alert alert-block alert-success\"> \n",
    "<strong>Jupyter Skills: The Tab Key</strong>\n",
    "\n",
    "When working with Python objects in the Jupyter notebook, you can type a variable or object name to see the methods available on that object.\n",
    "\n",
    "In the cell below, type `ibuprofen.` (include a (`.`) at the end), then press the `tab` key. \n",
    "A list of possible methods and attributes will come up.\n",
    "\n",
    "Look through the methods until you find one that gives you the number of atoms in the molecule.\n",
    "\n",
    "</div>\n",
    "\n",
    "**NOTE:** Methods are functions so they require parentheses at the end.\n",
    "\n",
    "```python\n",
    "object.method()\n",
    "```"
   ]
  },
  {
   "cell_type": "code",
   "execution_count": 27,
   "metadata": {},
   "outputs": [
    {
     "data": {
      "text/plain": [
       "4"
      ]
     },
     "execution_count": 27,
     "metadata": {},
     "output_type": "execute_result"
    }
   ],
   "source": [
    "# Pick a method that will determine the number of atom in ibuprofen.\n",
    "\n",
    "acetic_acid.GetNumAtoms()"
   ]
  },
  {
   "cell_type": "markdown",
   "metadata": {},
   "source": [
    "<div class=\"alert alert-block alert-success\"> \n",
    "<strong>Python Skills: Getting Help</strong>\n",
    "\n",
    "Is this the number of atoms you expected for a acetic_acid molecule? \n",
    "\n",
    "We can use the `help` function on the method you found in the previous step to find a method argument to figure out a method argument to get the number of atoms we expect.\n",
    "\n",
    "</div>"
   ]
  },
  {
   "cell_type": "code",
   "execution_count": 33,
   "metadata": {},
   "outputs": [
    {
     "name": "stdout",
     "output_type": "stream",
     "text": [
      "Help on method GetNumAtoms:\n",
      "\n",
      "GetNumAtoms(...) method of rdkit.Chem.rdchem.Mol instance\n",
      "    GetNumAtoms( (Mol)self [, (int)onlyHeavy=-1 [, (bool)onlyExplicit=True]]) -> int :\n",
      "        Returns the number of atoms in the molecule.\n",
      "\n",
      "          ARGUMENTS:\n",
      "            - onlyExplicit: (optional) include only explicit atoms (atoms in the molecular graph)\n",
      "                            defaults to 1.\n",
      "          NOTE: the onlyHeavy argument is deprecated\n",
      "\n",
      "\n",
      "        C++ signature :\n",
      "            int GetNumAtoms(RDKit::ROMol [,int=-1 [,bool=True]])\n",
      "\n"
     ]
    }
   ],
   "source": [
    "help(acetic_acid.GetNumAtoms)"
   ]
  },
  {
   "cell_type": "code",
   "execution_count": 34,
   "metadata": {},
   "outputs": [
    {
     "data": {
      "text/plain": [
       "8"
      ]
     },
     "execution_count": 34,
     "metadata": {},
     "output_type": "execute_result"
    }
   ],
   "source": [
    "# Add an argument to your function to get the number of \n",
    "# atoms that gives you the total number of atoms in acetic_acid\n",
    "# including hydrogens\n",
    "acetic_acid.GetNumAtoms(onlyExplicit=False)"
   ]
  },
  {
   "cell_type": "markdown",
   "metadata": {},
   "source": [
    "Each molecule is made up of RDKit atom objects and RDKit bond objects.\n",
    "If we want to get the atoms for a particular molecule, we can use the `GetAtoms` method."
   ]
  },
  {
   "cell_type": "markdown",
   "metadata": {},
   "source": [
    "## Molecular Descriptors\n",
    "\n",
    "A molecular descriptor is a numerical value that represents some property of a molecule.\n",
    "\n",
    "Descriptors can be 0 dimensional (molecular weight, number of heavy atoms, etc.), 1 dimensional (counts of atom types, hydrogen bond donors/acceptors), 2 dimensional (fingerprints, other graph representations), 3 dimensional (polar surface area).\n",
    "\n",
    "RDKit supports the calculation of many molecular descriptors. You can see a [full list of RDKit descriptors](https://www.rdkit.org/docs/GettingStartedInPython.html#list-of-available-descriptors) or [see the module documentation](https://www.rdkit.org/docs/source/rdkit.Chem.rdMolDescriptors.html).\n",
    "\n",
    "To get molecular descriptors from RDKit, we import the `rdMolDescriptors` module.\n",
    "\n",
    "```python\n",
    "from rdkit.Chem import rdMolDescriptors\n",
    "```\n",
    "\n",
    "To get a descriptor, you do:\n",
    "\n",
    "```python\n",
    "rdMolDescriptors.descriptor_name(molecule_variable)\n",
    "\n",
    "```\n",
    "\n",
    "For example, we can calculate the molecular weight of our ibuprofen molecule"
   ]
  },
  {
   "cell_type": "code",
   "execution_count": 31,
   "metadata": {},
   "outputs": [
    {
     "name": "stdout",
     "output_type": "stream",
     "text": [
      "206.130679816\n"
     ]
    }
   ],
   "source": [
    "from rdkit.Chem import rdMolDescriptors\n",
    "\n",
    "ibuprofen_mw = rdMolDescriptors.CalcExactMolWt(ibuprofen)\n",
    "print(ibuprofen_mw)"
   ]
  },
  {
   "cell_type": "markdown",
   "metadata": {},
   "source": [
    "Here are some examples of other descriptors that RDkit can calculate.\n",
    "____\n",
    "\n",
    "`rdMolDescriptors.CalcExactMolWt((Mol)mol[, (bool)onlyHeavy=False]) → float :`\n",
    "\n",
    "returns the molecule’s exact molecular weight\n",
    "\n",
    "`rdMolDescriptors.CalcNumAtoms((Mol)mol) → int :`\n",
    "\n",
    "returns the total number of atoms for a molecule\n",
    "\n",
    "`rdMolDescriptors.CalcFractionCSP3((Mol)mol) → float :`\n",
    "\n",
    "returns the fraction of C atoms that are SP3 hybridized\n",
    "\n",
    "`rdMolDescriptors.CalcMolFormula((Mol)mol) → str :`\n",
    "\n",
    "returns the molecule’s formula\n",
    "\n",
    "`rdMolDescriptors.CalcNumAliphaticCarbocycles((Mol)mol) → int :`\n",
    "\n",
    "returns the number of aliphatic (containing at least one non-aromatic bond) carbocycles for a molecule\n",
    "\n",
    "`rdMolDescriptors.CalcNumAliphaticHeterocycles((Mol)mol) → int :`\n",
    "\n",
    "returns the number of aliphatic (containing at least one non-aromatic bond) heterocycles for a molecule\n",
    "\n",
    "`rdMolDescriptors.CalcNumAromaticRings((Mol)mol) → int :`\n",
    "\n",
    "returns the number of aromatic rings for a molecule\n",
    "\n",
    "`rdMolDescriptors.CalcNumAtomStereoCenters((Mol)mol) → int :`\n",
    "\n",
    "Returns the total number of atomic stereocenters (specified and unspecified)\n",
    "\n",
    "`rdMolDescriptors.CalcNumHBA((Mol)mol) → int :`\n",
    "\n",
    "returns the number of H-bond acceptors for a molecule\n",
    "\n",
    "`rdMolDescriptors.CalcNumHBD((Mol)mol) → int :`\n",
    "\n",
    "returns the number of H-bond donors for a molecule\n",
    "```"
   ]
  },
  {
   "cell_type": "markdown",
   "metadata": {},
   "source": [
    "<div class=\"alert alert-block alert-warning\"> \n",
    "<h3>Challenge</h3>\n",
    "\n",
    "Write a function that uses function in the `rdMolDescritors` module to calculate >=3 properties for a molecule. The function should take a `mol` object as an argument and print the properties you calculate.\n",
    "\n",
    "</div>"
   ]
  },
  {
   "cell_type": "code",
   "execution_count": 94,
   "metadata": {},
   "outputs": [],
   "source": [
    "def get_properties(mol : rdkit.Chem.rdchem.Mol):\n",
    "    MW = rdMolDescriptors.CalcExactMolWt(mol)\n",
    "    HBD = rdMolDescriptors.CalcNumHBD(mol)\n",
    "    HBA = rdMolDescriptors.CalcNumHBA(mol)\n",
    "    ALOGP = rdMolDescriptors.CalcCrippenDescriptors(mol)[0]\n",
    "    print(f'MW: {MW}, HBD: {HBD}, HBA: {HBA}, ALogP: {ALOGP}')"
   ]
  },
  {
   "cell_type": "code",
   "execution_count": 95,
   "metadata": {},
   "outputs": [
    {
     "name": "stdout",
     "output_type": "stream",
     "text": [
      "MW: 206.130679816, HBD: 1, HBA: 1, ALogP: 3.073200000000001\n"
     ]
    }
   ],
   "source": [
    "ibuprofen_properties = get_properties(ibuprofen)"
   ]
  },
  {
   "cell_type": "markdown",
   "metadata": {},
   "source": [
    "## Pandas/Dataframes\n",
    "\n",
    "[Pandas](https://pandas.pydata.org/docs/) is a Python library used for data analysis and manipulation. Within the world of data science, it is a ubiquitous and widely used library. If you are learning how to analyze data in Python, it will be almost impossible to avoid pandas. \n",
    "\n",
    "The central data structure of pandas is called a DataFrame. Pandas DataFrames work very closely with NumPy arrays and Pandas dataframes are specifically for data which is two dimensional (rows and columns). NumPy arrays, while similar in some ways, can work with higher dimensional data. \n",
    "\n",
    "Pandas is very powerful. In this session, we'll be learning how to access information in pandas dataframes and how to do some basic manipulation and analysis. We are going to be looking at a dataset which gives information about the elements in the periodic table."
   ]
  },
  {
   "cell_type": "code",
   "execution_count": 21,
   "metadata": {},
   "outputs": [],
   "source": [
    "import pandas as pd\n",
    "from rdkit.Chem import PandasTools, QED\n",
    "\n",
    "\n",
    "### HIDE\n",
    "\n",
    "# Create dataframe populated with SMILES strings for common drugs\n",
    "drugs = {\n",
    "    'name': ['ibuprofen', 'caffeine', 'aspirin', 'penicillin'],\n",
    "    'SMILES': [\n",
    "        'CC(Cc1ccc(cc1)C(C(=O)O)C)C',\n",
    "        'CN1C=NC2=C1C(=O)N(C(=O)N2C)C',\n",
    "        'CC(=O)OC1=CC=CC=C1C(=O)O',\n",
    "        'CC1([C@@H](N2[C@H](S1)[C@@H](C2=O)NC(=O)CC3=CC=CC=C3)C(=O)O)C',\n",
    "        ],\n",
    "}\n",
    "drug_properties = pd.DataFrame.from_dict(drugs)\n",
    "PandasTools.AddMoleculeColumnToFrame(drug_properties, smilesCol='SMILES', molCol='Mol')\n",
    "\n",
    "def get_qed_properties(df : pd.DataFrame, molcol : str):\n",
    "    df['MW'] = df[molcol].apply(lambda x: QED.properties(x)[0])\n",
    "    df['ALOGP'] = df[molcol].apply(lambda x: QED.properties(x)[1])\n",
    "    df['HBA'] = df[molcol].apply(lambda x: QED.properties(x)[2])\n",
    "    df['HBD'] = df[molcol].apply(lambda x: QED.properties(x)[3])\n",
    "    df['PSA'] = df[molcol].apply(lambda x: QED.properties(x)[4])\n",
    "    df['ROTB'] = df[molcol].apply(lambda x: QED.properties(x)[5])\n",
    "    df['AROM'] = df[molcol].apply(lambda x: QED.properties(x)[6])\n",
    "    df['ALERTS'] = df[molcol].apply(lambda x: QED.properties(x)[7])\n",
    "\n",
    "    return df\n",
    "\n",
    "\n",
    "drug_properties = get_qed_properties(drug_properties, 'Mol')\n",
    "###"
   ]
  },
  {
   "cell_type": "markdown",
   "metadata": {},
   "source": [
    "## DataFrame.Head()"
   ]
  },
  {
   "cell_type": "code",
   "execution_count": 24,
   "metadata": {},
   "outputs": [
    {
     "data": {
      "text/html": [
       "<div>\n",
       "<style scoped>\n",
       "    .dataframe tbody tr th:only-of-type {\n",
       "        vertical-align: middle;\n",
       "    }\n",
       "\n",
       "    .dataframe tbody tr th {\n",
       "        vertical-align: top;\n",
       "    }\n",
       "\n",
       "    .dataframe thead th {\n",
       "        text-align: right;\n",
       "    }\n",
       "</style>\n",
       "<table border=\"1\" class=\"dataframe\">\n",
       "  <thead>\n",
       "    <tr style=\"text-align: right;\">\n",
       "      <th></th>\n",
       "      <th>name</th>\n",
       "      <th>SMILES</th>\n",
       "      <th>Mol</th>\n",
       "      <th>MW</th>\n",
       "      <th>ALOGP</th>\n",
       "      <th>HBA</th>\n",
       "      <th>HBD</th>\n",
       "      <th>PSA</th>\n",
       "      <th>ROTB</th>\n",
       "      <th>AROM</th>\n",
       "      <th>ALERTS</th>\n",
       "    </tr>\n",
       "  </thead>\n",
       "  <tbody>\n",
       "    <tr>\n",
       "      <th>0</th>\n",
       "      <td>ibuprofen</td>\n",
       "      <td>CC(Cc1ccc(cc1)C(C(=O)O)C)C</td>\n",
       "      <td style=\"text-align: center;\"><div style=\"width: 200px; height: 200px\" data-content=\"rdkit/molecule\"><img src=\"data:image/png;base64,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\" alt=\"Mol\"/></div></td>\n",
       "      <td>206.285</td>\n",
       "      <td>3.0732</td>\n",
       "      <td>2</td>\n",
       "      <td>1</td>\n",
       "      <td>37.30</td>\n",
       "      <td>4</td>\n",
       "      <td>1</td>\n",
       "      <td>0</td>\n",
       "    </tr>\n",
       "    <tr>\n",
       "      <th>1</th>\n",
       "      <td>caffeine</td>\n",
       "      <td>CN1C=NC2=C1C(=O)N(C(=O)N2C)C</td>\n",
       "      <td style=\"text-align: center;\"><div style=\"width: 200px; height: 200px\" data-content=\"rdkit/molecule\"><img src=\"data:image/png;base64,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\" alt=\"Mol\"/></div></td>\n",
       "      <td>194.194</td>\n",
       "      <td>-1.0293</td>\n",
       "      <td>3</td>\n",
       "      <td>0</td>\n",
       "      <td>61.82</td>\n",
       "      <td>0</td>\n",
       "      <td>2</td>\n",
       "      <td>0</td>\n",
       "    </tr>\n",
       "    <tr>\n",
       "      <th>2</th>\n",
       "      <td>aspirin</td>\n",
       "      <td>CC(=O)OC1=CC=CC=C1C(=O)O</td>\n",
       "      <td style=\"text-align: center;\"><div style=\"width: 200px; height: 200px\" data-content=\"rdkit/molecule\"><img src=\"data:image/png;base64,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\" alt=\"Mol\"/></div></td>\n",
       "      <td>180.159</td>\n",
       "      <td>1.3101</td>\n",
       "      <td>4</td>\n",
       "      <td>1</td>\n",
       "      <td>63.60</td>\n",
       "      <td>2</td>\n",
       "      <td>1</td>\n",
       "      <td>2</td>\n",
       "    </tr>\n",
       "    <tr>\n",
       "      <th>3</th>\n",
       "      <td>penicillin</td>\n",
       "      <td>CC1([C@@H](N2[C@H](S1)[C@@H](C2=O)NC(=O)CC3=CC...</td>\n",
       "      <td style=\"text-align: center;\"><div style=\"width: 200px; height: 200px\" data-content=\"rdkit/molecule\"><img src=\"data:image/png;base64,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\" alt=\"Mol\"/></div></td>\n",
       "      <td>334.397</td>\n",
       "      <td>0.8608</td>\n",
       "      <td>5</td>\n",
       "      <td>2</td>\n",
       "      <td>86.71</td>\n",
       "      <td>4</td>\n",
       "      <td>1</td>\n",
       "      <td>1</td>\n",
       "    </tr>\n",
       "  </tbody>\n",
       "</table>\n",
       "</div>"
      ],
      "text/plain": [
       "         name                                             SMILES  \\\n",
       "0   ibuprofen                         CC(Cc1ccc(cc1)C(C(=O)O)C)C   \n",
       "1    caffeine                       CN1C=NC2=C1C(=O)N(C(=O)N2C)C   \n",
       "2     aspirin                           CC(=O)OC1=CC=CC=C1C(=O)O   \n",
       "3  penicillin  CC1([C@@H](N2[C@H](S1)[C@@H](C2=O)NC(=O)CC3=CC...   \n",
       "\n",
       "                                                Mol       MW   ALOGP  HBA  \\\n",
       "0  <rdkit.Chem.rdchem.Mol object at 0x7fcf3441ace0>  206.285  3.0732    2   \n",
       "1  <rdkit.Chem.rdchem.Mol object at 0x7fcf3441ad50>  194.194 -1.0293    3   \n",
       "2  <rdkit.Chem.rdchem.Mol object at 0x7fcf3441adc0>  180.159  1.3101    4   \n",
       "3  <rdkit.Chem.rdchem.Mol object at 0x7fcf3441ae30>  334.397  0.8608    5   \n",
       "\n",
       "   HBD    PSA  ROTB  AROM  ALERTS  \n",
       "0    1  37.30     4     1       0  \n",
       "1    0  61.82     0     2       0  \n",
       "2    1  63.60     2     1       2  \n",
       "3    2  86.71     4     1       1  "
      ]
     },
     "execution_count": 24,
     "metadata": {},
     "output_type": "execute_result"
    }
   ],
   "source": [
    "drug_properties"
   ]
  },
  {
   "cell_type": "markdown",
   "metadata": {},
   "source": [
    "## DataFrame.describe()"
   ]
  },
  {
   "cell_type": "code",
   "execution_count": 23,
   "metadata": {},
   "outputs": [
    {
     "data": {
      "text/html": [
       "<div>\n",
       "<style scoped>\n",
       "    .dataframe tbody tr th:only-of-type {\n",
       "        vertical-align: middle;\n",
       "    }\n",
       "\n",
       "    .dataframe tbody tr th {\n",
       "        vertical-align: top;\n",
       "    }\n",
       "\n",
       "    .dataframe thead th {\n",
       "        text-align: right;\n",
       "    }\n",
       "</style>\n",
       "<table border=\"1\" class=\"dataframe\">\n",
       "  <thead>\n",
       "    <tr style=\"text-align: right;\">\n",
       "      <th></th>\n",
       "      <th>MW</th>\n",
       "      <th>ALOGP</th>\n",
       "      <th>HBA</th>\n",
       "      <th>HBD</th>\n",
       "      <th>PSA</th>\n",
       "      <th>ROTB</th>\n",
       "      <th>AROM</th>\n",
       "      <th>ALERTS</th>\n",
       "    </tr>\n",
       "  </thead>\n",
       "  <tbody>\n",
       "    <tr>\n",
       "      <th>count</th>\n",
       "      <td>4.000000</td>\n",
       "      <td>4.000000</td>\n",
       "      <td>4.000000</td>\n",
       "      <td>4.000000</td>\n",
       "      <td>4.000000</td>\n",
       "      <td>4.000000</td>\n",
       "      <td>4.00</td>\n",
       "      <td>4.000000</td>\n",
       "    </tr>\n",
       "    <tr>\n",
       "      <th>mean</th>\n",
       "      <td>228.758750</td>\n",
       "      <td>1.053700</td>\n",
       "      <td>3.500000</td>\n",
       "      <td>1.000000</td>\n",
       "      <td>62.357500</td>\n",
       "      <td>2.500000</td>\n",
       "      <td>1.25</td>\n",
       "      <td>0.750000</td>\n",
       "    </tr>\n",
       "    <tr>\n",
       "      <th>std</th>\n",
       "      <td>71.230066</td>\n",
       "      <td>1.685252</td>\n",
       "      <td>1.290994</td>\n",
       "      <td>0.816497</td>\n",
       "      <td>20.188737</td>\n",
       "      <td>1.914854</td>\n",
       "      <td>0.50</td>\n",
       "      <td>0.957427</td>\n",
       "    </tr>\n",
       "    <tr>\n",
       "      <th>min</th>\n",
       "      <td>180.159000</td>\n",
       "      <td>-1.029300</td>\n",
       "      <td>2.000000</td>\n",
       "      <td>0.000000</td>\n",
       "      <td>37.300000</td>\n",
       "      <td>0.000000</td>\n",
       "      <td>1.00</td>\n",
       "      <td>0.000000</td>\n",
       "    </tr>\n",
       "    <tr>\n",
       "      <th>25%</th>\n",
       "      <td>190.685250</td>\n",
       "      <td>0.388275</td>\n",
       "      <td>2.750000</td>\n",
       "      <td>0.750000</td>\n",
       "      <td>55.690000</td>\n",
       "      <td>1.500000</td>\n",
       "      <td>1.00</td>\n",
       "      <td>0.000000</td>\n",
       "    </tr>\n",
       "    <tr>\n",
       "      <th>50%</th>\n",
       "      <td>200.239500</td>\n",
       "      <td>1.085450</td>\n",
       "      <td>3.500000</td>\n",
       "      <td>1.000000</td>\n",
       "      <td>62.710000</td>\n",
       "      <td>3.000000</td>\n",
       "      <td>1.00</td>\n",
       "      <td>0.500000</td>\n",
       "    </tr>\n",
       "    <tr>\n",
       "      <th>75%</th>\n",
       "      <td>238.313000</td>\n",
       "      <td>1.750875</td>\n",
       "      <td>4.250000</td>\n",
       "      <td>1.250000</td>\n",
       "      <td>69.377500</td>\n",
       "      <td>4.000000</td>\n",
       "      <td>1.25</td>\n",
       "      <td>1.250000</td>\n",
       "    </tr>\n",
       "    <tr>\n",
       "      <th>max</th>\n",
       "      <td>334.397000</td>\n",
       "      <td>3.073200</td>\n",
       "      <td>5.000000</td>\n",
       "      <td>2.000000</td>\n",
       "      <td>86.710000</td>\n",
       "      <td>4.000000</td>\n",
       "      <td>2.00</td>\n",
       "      <td>2.000000</td>\n",
       "    </tr>\n",
       "  </tbody>\n",
       "</table>\n",
       "</div>"
      ],
      "text/plain": [
       "               MW     ALOGP       HBA       HBD        PSA      ROTB  AROM  \\\n",
       "count    4.000000  4.000000  4.000000  4.000000   4.000000  4.000000  4.00   \n",
       "mean   228.758750  1.053700  3.500000  1.000000  62.357500  2.500000  1.25   \n",
       "std     71.230066  1.685252  1.290994  0.816497  20.188737  1.914854  0.50   \n",
       "min    180.159000 -1.029300  2.000000  0.000000  37.300000  0.000000  1.00   \n",
       "25%    190.685250  0.388275  2.750000  0.750000  55.690000  1.500000  1.00   \n",
       "50%    200.239500  1.085450  3.500000  1.000000  62.710000  3.000000  1.00   \n",
       "75%    238.313000  1.750875  4.250000  1.250000  69.377500  4.000000  1.25   \n",
       "max    334.397000  3.073200  5.000000  2.000000  86.710000  4.000000  2.00   \n",
       "\n",
       "         ALERTS  \n",
       "count  4.000000  \n",
       "mean   0.750000  \n",
       "std    0.957427  \n",
       "min    0.000000  \n",
       "25%    0.000000  \n",
       "50%    0.500000  \n",
       "75%    1.250000  \n",
       "max    2.000000  "
      ]
     },
     "execution_count": 23,
     "metadata": {},
     "output_type": "execute_result"
    }
   ],
   "source": [
    "drug_properties.describe()"
   ]
  },
  {
   "cell_type": "markdown",
   "metadata": {},
   "source": [
    "## more pandas stuff"
   ]
  },
  {
   "cell_type": "code",
   "execution_count": 87,
   "metadata": {},
   "outputs": [],
   "source": [
    "import pandas as pd\n",
    "\n",
    "caffeine = Chem.MolFromSmiles('CN1C=NC2=C1C(=O)N(C(=O)N2C)C')\n",
    "aspirin = Chem.MolFromSmiles('CC(=O)OC1=CC=CC=C1C(=O)O')\n",
    "penicillin = Chem.MolFromSmiles(\"CC1([C@@H](N2[C@H](S1)[C@@H](C2=O)NC(=O)CC3=CC=CC=C3)C(=O)O)C\")\n",
    "\n",
    "drugs = [ibuprofen, caffeine, aspirin, penicillin]\n",
    "drug_properties = []\n",
    "for drug in drugs:\n",
    "    drug_properties.append(get_properties(drug))\n",
    "\n",
    "df = pd.DataFrame(drug_properties)"
   ]
  },
  {
   "cell_type": "code",
   "execution_count": 88,
   "metadata": {},
   "outputs": [
    {
     "data": {
      "text/html": [
       "<div>\n",
       "<style scoped>\n",
       "    .dataframe tbody tr th:only-of-type {\n",
       "        vertical-align: middle;\n",
       "    }\n",
       "\n",
       "    .dataframe tbody tr th {\n",
       "        vertical-align: top;\n",
       "    }\n",
       "\n",
       "    .dataframe thead th {\n",
       "        text-align: right;\n",
       "    }\n",
       "</style>\n",
       "<table border=\"1\" class=\"dataframe\">\n",
       "  <thead>\n",
       "    <tr style=\"text-align: right;\">\n",
       "      <th></th>\n",
       "      <th>MW</th>\n",
       "      <th>HBD</th>\n",
       "      <th>HBA</th>\n",
       "      <th>ALogP</th>\n",
       "    </tr>\n",
       "  </thead>\n",
       "  <tbody>\n",
       "    <tr>\n",
       "      <th>0</th>\n",
       "      <td>206.130680</td>\n",
       "      <td>1</td>\n",
       "      <td>1</td>\n",
       "      <td>3.0732</td>\n",
       "    </tr>\n",
       "    <tr>\n",
       "      <th>1</th>\n",
       "      <td>194.080376</td>\n",
       "      <td>0</td>\n",
       "      <td>6</td>\n",
       "      <td>-1.0293</td>\n",
       "    </tr>\n",
       "    <tr>\n",
       "      <th>2</th>\n",
       "      <td>180.042259</td>\n",
       "      <td>1</td>\n",
       "      <td>3</td>\n",
       "      <td>1.3101</td>\n",
       "    </tr>\n",
       "    <tr>\n",
       "      <th>3</th>\n",
       "      <td>334.098728</td>\n",
       "      <td>2</td>\n",
       "      <td>4</td>\n",
       "      <td>0.8608</td>\n",
       "    </tr>\n",
       "  </tbody>\n",
       "</table>\n",
       "</div>"
      ],
      "text/plain": [
       "           MW  HBD  HBA   ALogP\n",
       "0  206.130680    1    1  3.0732\n",
       "1  194.080376    0    6 -1.0293\n",
       "2  180.042259    1    3  1.3101\n",
       "3  334.098728    2    4  0.8608"
      ]
     },
     "execution_count": 88,
     "metadata": {},
     "output_type": "execute_result"
    }
   ],
   "source": [
    "df"
   ]
  },
  {
   "cell_type": "code",
   "execution_count": 89,
   "metadata": {},
   "outputs": [
    {
     "data": {
      "text/html": [
       "<div>\n",
       "<style scoped>\n",
       "    .dataframe tbody tr th:only-of-type {\n",
       "        vertical-align: middle;\n",
       "    }\n",
       "\n",
       "    .dataframe tbody tr th {\n",
       "        vertical-align: top;\n",
       "    }\n",
       "\n",
       "    .dataframe thead th {\n",
       "        text-align: right;\n",
       "    }\n",
       "</style>\n",
       "<table border=\"1\" class=\"dataframe\">\n",
       "  <thead>\n",
       "    <tr style=\"text-align: right;\">\n",
       "      <th></th>\n",
       "      <th>MW</th>\n",
       "      <th>HBD</th>\n",
       "      <th>HBA</th>\n",
       "      <th>ALogP</th>\n",
       "    </tr>\n",
       "  </thead>\n",
       "  <tbody>\n",
       "    <tr>\n",
       "      <th>count</th>\n",
       "      <td>4.000000</td>\n",
       "      <td>4.000000</td>\n",
       "      <td>4.000000</td>\n",
       "      <td>4.000000</td>\n",
       "    </tr>\n",
       "    <tr>\n",
       "      <th>mean</th>\n",
       "      <td>228.588011</td>\n",
       "      <td>1.000000</td>\n",
       "      <td>3.500000</td>\n",
       "      <td>1.053700</td>\n",
       "    </tr>\n",
       "    <tr>\n",
       "      <th>std</th>\n",
       "      <td>71.143775</td>\n",
       "      <td>0.816497</td>\n",
       "      <td>2.081666</td>\n",
       "      <td>1.685252</td>\n",
       "    </tr>\n",
       "    <tr>\n",
       "      <th>min</th>\n",
       "      <td>180.042259</td>\n",
       "      <td>0.000000</td>\n",
       "      <td>1.000000</td>\n",
       "      <td>-1.029300</td>\n",
       "    </tr>\n",
       "    <tr>\n",
       "      <th>25%</th>\n",
       "      <td>190.570846</td>\n",
       "      <td>0.750000</td>\n",
       "      <td>2.500000</td>\n",
       "      <td>0.388275</td>\n",
       "    </tr>\n",
       "    <tr>\n",
       "      <th>50%</th>\n",
       "      <td>200.105528</td>\n",
       "      <td>1.000000</td>\n",
       "      <td>3.500000</td>\n",
       "      <td>1.085450</td>\n",
       "    </tr>\n",
       "    <tr>\n",
       "      <th>75%</th>\n",
       "      <td>238.122692</td>\n",
       "      <td>1.250000</td>\n",
       "      <td>4.500000</td>\n",
       "      <td>1.750875</td>\n",
       "    </tr>\n",
       "    <tr>\n",
       "      <th>max</th>\n",
       "      <td>334.098728</td>\n",
       "      <td>2.000000</td>\n",
       "      <td>6.000000</td>\n",
       "      <td>3.073200</td>\n",
       "    </tr>\n",
       "  </tbody>\n",
       "</table>\n",
       "</div>"
      ],
      "text/plain": [
       "               MW       HBD       HBA     ALogP\n",
       "count    4.000000  4.000000  4.000000  4.000000\n",
       "mean   228.588011  1.000000  3.500000  1.053700\n",
       "std     71.143775  0.816497  2.081666  1.685252\n",
       "min    180.042259  0.000000  1.000000 -1.029300\n",
       "25%    190.570846  0.750000  2.500000  0.388275\n",
       "50%    200.105528  1.000000  3.500000  1.085450\n",
       "75%    238.122692  1.250000  4.500000  1.750875\n",
       "max    334.098728  2.000000  6.000000  3.073200"
      ]
     },
     "execution_count": 89,
     "metadata": {},
     "output_type": "execute_result"
    }
   ],
   "source": [
    "df.describe()"
   ]
  },
  {
   "cell_type": "markdown",
   "metadata": {},
   "source": [
    "RDKit provides hundreds of molecular descriptors.\n",
    "You can calculate all of the molecular descriptors for a molecule at once using `Descriptors.CalcMolDescriptors`.\n",
    "\n",
    "As an example of how we can apply molecular descriptors to make predictions, we will consider Lipinski's Rule of 5.\n",
    "Lipinski's Rule of 5 is a **guideline** that helps determine if a drug is likely to be absorbed well by the body. It states that good oral drugs typically have no more than 5 hydrogen bond donors, 10 hydrogen bond acceptors, a molecular weight under 500 daltons, and a log P (measure of solubility) under 5.\n",
    "\n",
    "* Molecular Weight <= 500 Da\n",
    "* No. Hydrogen Bond Donors <= 5\n",
    "* No. Hydrogen Bond Acceptors <= 10\n",
    "* LogP <= 5"
   ]
  },
  {
   "cell_type": "code",
   "execution_count": 58,
   "metadata": {},
   "outputs": [
    {
     "data": {
      "text/plain": [
       "rdkit.Chem.QED.QEDproperties"
      ]
     },
     "execution_count": 58,
     "metadata": {},
     "output_type": "execute_result"
    }
   ],
   "source": [
    "ibuprofen_qed = Chem.QED.properties(ibuprofen)\n",
    "type(ibuprofen_qed)"
   ]
  },
  {
   "cell_type": "code",
   "execution_count": 69,
   "metadata": {},
   "outputs": [],
   "source": [
    "ibprofen_properties['num_atoms'] = num_atoms\n",
    "ibprofen_properties['mw'] = mw"
   ]
  },
  {
   "cell_type": "code",
   "execution_count": 70,
   "metadata": {},
   "outputs": [
    {
     "name": "stdout",
     "output_type": "stream",
     "text": [
      "{'num_atoms': 15, 'mw': 206.130679816}\n"
     ]
    },
    {
     "data": {
      "text/plain": [
       "dict"
      ]
     },
     "execution_count": 70,
     "metadata": {},
     "output_type": "execute_result"
    }
   ],
   "source": [
    "print(ibprofen_properties)\n",
    "type(ibprofen_properties)"
   ]
  },
  {
   "cell_type": "code",
   "execution_count": 81,
   "metadata": {},
   "outputs": [
    {
     "name": "stdout",
     "output_type": "stream",
     "text": [
      "C13H18O2\n"
     ]
    }
   ],
   "source": [
    "print(rdMolDescriptors.CalcMolFormula(mol))"
   ]
  },
  {
   "cell_type": "code",
   "execution_count": 76,
   "metadata": {},
   "outputs": [
    {
     "name": "stdout",
     "output_type": "stream",
     "text": [
      "0\n"
     ]
    }
   ],
   "source": [
    "print(rdMolDescriptors.CalcNumAliphaticCarbocycles(mol))"
   ]
  },
  {
   "cell_type": "code",
   "execution_count": null,
   "metadata": {},
   "outputs": [],
   "source": []
  },
  {
   "cell_type": "code",
   "execution_count": 85,
   "metadata": {},
   "outputs": [],
   "source": [
    "def get_properties(mol : rdkit.Chem.rdchem.Mol):\n",
    "    properties = {}\n",
    "    properties['MW'] = rdMolDescriptors.CalcExactMolWt(mol)\n",
    "    properties['HBD'] = rdMolDescriptors.CalcNumHBD(mol)\n",
    "    properties['HBA'] = rdMolDescriptors.CalcNumHBA(mol)\n",
    "    properties['ALogP'] = rdMolDescriptors.CalcCrippenDescriptors(mol)[0]\n",
    "    return properties"
   ]
  },
  {
   "cell_type": "markdown",
   "metadata": {},
   "source": [
    "# Iterator module\n",
    "\n",
    "Can include if we have enough time"
   ]
  },
  {
   "cell_type": "markdown",
   "metadata": {},
   "source": [
    "<div class=\"alert alert-block alert-success\"> \n",
    "<strong>Python Skills: Iterators</strong>\n",
    "\n",
    "When we look at the results of the `GetAtoms` method, it tells us that we have a `GetAtomsIterator`.\n",
    "In Python, an iterator is an object that contains values that can be looped through and indexed in.\n",
    "\n",
    "Although we haven't used this terminology before, a Python list is an example of an iterator.\n",
    "\n",
    "</div>\n",
    "\n",
    "Like a list, we can also call `len` on the iterator."
   ]
  },
  {
   "cell_type": "code",
   "execution_count": null,
   "metadata": {},
   "outputs": [
    {
     "data": {
      "text/plain": [
       "4"
      ]
     },
     "metadata": {},
     "output_type": "display_data"
    }
   ],
   "source": [
    "len(acetic_acid_atoms)"
   ]
  },
  {
   "cell_type": "markdown",
   "metadata": {},
   "source": [
    "Because `acetic_acid_atoms` is an iterator, we can use indexing to get a particular atom.\n",
    "Atoms in RDKit molecules are represented by Atom objects."
   ]
  },
  {
   "cell_type": "code",
   "execution_count": null,
   "metadata": {},
   "outputs": [
    {
     "data": {
      "text/plain": [
       "<rdkit.Chem.rdchem.Atom at 0x7fd40224c660>"
      ]
     },
     "metadata": {},
     "output_type": "display_data"
    }
   ],
   "source": [
    "atom = acetic_acid_atoms[0]\n",
    "atom"
   ]
  },
  {
   "cell_type": "markdown",
   "metadata": {},
   "source": [
    "When we examine one atom, we see there that there are many methods associated with the atom. \n",
    "For example, we can print the atom element or atom hybridization."
   ]
  },
  {
   "cell_type": "code",
   "execution_count": null,
   "metadata": {},
   "outputs": [
    {
     "name": "stdout",
     "output_type": "stream",
     "text": [
      "O\n",
      "SP2\n"
     ]
    }
   ],
   "source": [
    "print(atom.GetSymbol())\n",
    "print(atom.GetHybridization())"
   ]
  },
  {
   "cell_type": "markdown",
   "metadata": {},
   "source": [
    "We can use a for loop to give information about each atom."
   ]
  },
  {
   "cell_type": "code",
   "execution_count": null,
   "metadata": {},
   "outputs": [
    {
     "name": "stdout",
     "output_type": "stream",
     "text": [
      "Atom C has hybridization SP3\n",
      "Atom C has hybridization SP2\n",
      "Atom O has hybridization SP2\n",
      "Atom O has hybridization SP2\n"
     ]
    }
   ],
   "source": [
    "for atom in acetic_acid_atoms:\n",
    "    print(f\"Atom {atom.GetSymbol()} has hybridization {atom.GetHybridization()}\")"
   ]
  },
  {
   "cell_type": "markdown",
   "metadata": {},
   "source": [
    "Bonds are also objects in RDKit, and we can iterate over them the same way we can iterate over atoms."
   ]
  },
  {
   "cell_type": "code",
   "execution_count": null,
   "metadata": {},
   "outputs": [
    {
     "data": {
      "text/plain": [
       "rdkit.Chem.rdchem.BondType.SINGLE"
      ]
     },
     "metadata": {},
     "output_type": "display_data"
    }
   ],
   "source": [
    "acetic_acid_bonds = acetic_acid.GetBonds()\n",
    "bond = acetic_acid_bonds[0]\n",
    "bond.GetBondType()"
   ]
  },
  {
   "cell_type": "markdown",
   "metadata": {},
   "source": [
    "<div class=\"alert alert-block alert-warning\"> \n",
    "<h3>Challenge</h3>\n",
    "\n",
    "Use a `for` loop to print information about each bond.\n",
    "For each bond, you should print the starting atom symbol, the ending atom symbol,\n",
    "and the bond type. \n",
    "\n",
    "Your output should look like the following:\n",
    "\n",
    "```\n",
    "Bond between C and C is a SINGLE bond.\n",
    "Bond between C and O is a DOUBLE bond.\n",
    "Bond between C and O is a SINGLE bond.\n",
    "```\n",
    "\n",
    "</div>"
   ]
  },
  {
   "cell_type": "code",
   "execution_count": null,
   "metadata": {},
   "outputs": [],
   "source": [
    "for bond in acetic_acid_bonds:\n",
    "    atom1 = bond.GetBeginAtom().GetSymbol()\n",
    "    atom2 = bond.GetEndAtom().GetSymbol()\n",
    "    print(f\"Bond between {atom1} and {atom2} is a {bond.GetBondType()} bond.\")"
   ]
  }
 ],
 "metadata": {
  "kernelspec": {
   "display_name": "nmr",
   "language": "python",
   "name": "python3"
  },
  "language_info": {
   "codemirror_mode": {
    "name": "ipython",
    "version": 3
   },
   "file_extension": ".py",
   "mimetype": "text/x-python",
   "name": "python",
   "nbconvert_exporter": "python",
   "pygments_lexer": "ipython3",
   "version": "3.12.5"
  }
 },
 "nbformat": 4,
 "nbformat_minor": 2
}
