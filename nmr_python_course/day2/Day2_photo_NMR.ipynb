{
 "cells": [
  {
   "cell_type": "markdown",
   "metadata": {},
   "source": [
    "Examining and Visualizing Photo NMR Data\n",
    "=============================\n",
    "\n",
    "<strong>Author(s):</strong> Seth D. Veenbaas, Jessica A. Nash, The Molecular Sciences Software Institute\n",
    "\n",
    "<div class=\"alert alert-block alert-info\"> \n",
    "<h2>Overview</h2>\n",
    "\n",
    "<strong>Questions:</strong>\n",
    "\n",
    "* How can I use pandas to process data?\n",
    "\n",
    "* How can I visualize relationships between different parts of my data?\n",
    "\n",
    "<strong>Objectives:</strong>\n",
    "\n",
    "* Use pandas and seaborn to load and analyze photo NMR data\n",
    "\n",
    "</div>"
   ]
  },
  {
   "cell_type": "markdown",
   "metadata": {},
   "source": [
    "# Azobenzene Photo-NMR: Understanding Rate Constants\n",
    "\n",
    "Azobenzene is a fascinating molecule known for its reversible photoisomerization between **E** and **Z** isomers under UV and visible light. This property makes it a model compound for studying light-induced reactions and their kinetics.\n",
    "\n",
    "![reaction](images/azobenzene_reaction.png)\n",
    "\n",
    "In a Photo-NMR experiment, we can monitor the interconversion of azobenzene isomers by observing the changes in the NMR signal intensity (peak integrations) over time. These integration values correspond to the relative concentrations of each isomer, allowing us to quantify the reaction kinetics.\n",
    "\n",
    "### Objective: Calculating the Rate Constant\n",
    "\n",
    "The goal is to calculate the rate constant \\( k \\) for the photoisomerization process. Here’s the general approach:\n",
    "\n",
    "1. **Reaction Kinetics**:\n",
    "\n",
    "   For a first-order reaction, the rate constant *k* can be calculated using the following equation:\n",
    "   $$ \\ln\\left(\\frac{Z_t}{Z_0}\\right) = -k t $$\n",
    "\n",
    "   Where:  \n",
    "   - *Z<sub>t</sub>*: Fraction of Z-isomer at time *t*  \n",
    "   - *Z<sub>0</sub>*: Initial fraction of Z-isomer before light exposure  \n",
    "   - *t*: Time of exposure  \n",
    "   - *k*: Rate constant  \n",
    "\n",
    "2. **Steps in Python**:\n",
    "   - Import and visualize the NMR data.\n",
    "   - Determine the fraction of Z-isomer over the course of the experiment.\n",
    "   - Fit a first-order kinetic model to calculate the rate constant.\n",
    "\n",
    "\n",
    "Let's dive into the data and compute the rate constant!\n",
    "\n"
   ]
  },
  {
   "cell_type": "markdown",
   "metadata": {},
   "source": [
    "## Pandas\n",
    "\n",
    "[Pandas](https://pandas.pydata.org/docs/) is a is very powerful Python library used for data analysis and manipulation. Pandas is ubiquitous in the world of data science and today we will use it to examine and analyze data from a photo NMR experiment.\n",
    "\n",
    "### Dataframe\n",
    "\n",
    "The central data structure of pandas is called a DataFrame. You can think of a Dataframe as an Excel spreadsheet that contains data in columns and rows.\n",
    "\n",
    "| index | Column_1 | Column_2 | ... |\n",
    "| ----- | -------- | -------- | --- |\n",
    "| 0     | row_1    | row_1    | ... |\n",
    "| 1     | row_2    | row_2    | ... |\n",
    "| 2     | row_3    | row_3    | ... |\n",
    "| ...   | ...      | ...      | ... |"
   ]
  },
  {
   "cell_type": "markdown",
   "metadata": {},
   "source": [
    "## Import packages/libraries\n",
    "\n",
    "We will import `pandas`, `numpy`, and the plotting package `matplotlib` using their standard abbreviations `pd`, `np`, and `plt`."
   ]
  },
  {
   "cell_type": "code",
   "execution_count": 2,
   "metadata": {},
   "outputs": [],
   "source": [
    "import pandas as pd\n",
    "import numpy as np\n",
    "import matplotlib.pyplot as plt"
   ]
  },
  {
   "cell_type": "markdown",
   "metadata": {},
   "source": [
    "## Reading a CSV File\n",
    "\n",
    "Pandas makes it simple to read and work with datasets in spreadsheets (CSV or XLSX format).  \n",
    "The primary function for reading CSV files is `pd.read_csv()`.\n"
   ]
  },
  {
   "cell_type": "code",
   "execution_count": 3,
   "metadata": {},
   "outputs": [],
   "source": [
    "azobenzene_data = pd.read_csv('data/azobenzene_photo_nmr.csv')"
   ]
  },
  {
   "cell_type": "markdown",
   "metadata": {},
   "source": [
    "## Examining Data with `head()`\n",
    "\n",
    "You can see a preview of your Dataframe using the `head()` method. By default `head()` will display the first 5 rows but you can specify any number of rows.\n",
    "\n",
    "Let's look at the first 10 rows of our Dataframe."
   ]
  },
  {
   "cell_type": "code",
   "execution_count": 4,
   "metadata": {},
   "outputs": [
    {
     "data": {
      "text/html": [
       "<div>\n",
       "<style scoped>\n",
       "    .dataframe tbody tr th:only-of-type {\n",
       "        vertical-align: middle;\n",
       "    }\n",
       "\n",
       "    .dataframe tbody tr th {\n",
       "        vertical-align: top;\n",
       "    }\n",
       "\n",
       "    .dataframe thead th {\n",
       "        text-align: right;\n",
       "    }\n",
       "</style>\n",
       "<table border=\"1\" class=\"dataframe\">\n",
       "  <thead>\n",
       "    <tr style=\"text-align: right;\">\n",
       "      <th></th>\n",
       "      <th>time(min)</th>\n",
       "      <th>E_avg_signal</th>\n",
       "      <th>Z_avg_signal</th>\n",
       "    </tr>\n",
       "  </thead>\n",
       "  <tbody>\n",
       "    <tr>\n",
       "      <th>0</th>\n",
       "      <td>0</td>\n",
       "      <td>16575.02917</td>\n",
       "      <td>1.251523</td>\n",
       "    </tr>\n",
       "    <tr>\n",
       "      <th>1</th>\n",
       "      <td>1</td>\n",
       "      <td>16295.40417</td>\n",
       "      <td>231.987333</td>\n",
       "    </tr>\n",
       "    <tr>\n",
       "      <th>2</th>\n",
       "      <td>2</td>\n",
       "      <td>16106.03333</td>\n",
       "      <td>403.315000</td>\n",
       "    </tr>\n",
       "    <tr>\n",
       "      <th>3</th>\n",
       "      <td>3</td>\n",
       "      <td>15960.24583</td>\n",
       "      <td>532.000000</td>\n",
       "    </tr>\n",
       "    <tr>\n",
       "      <th>4</th>\n",
       "      <td>4</td>\n",
       "      <td>15867.68750</td>\n",
       "      <td>658.157500</td>\n",
       "    </tr>\n",
       "    <tr>\n",
       "      <th>5</th>\n",
       "      <td>5</td>\n",
       "      <td>15730.74167</td>\n",
       "      <td>767.407500</td>\n",
       "    </tr>\n",
       "    <tr>\n",
       "      <th>6</th>\n",
       "      <td>6</td>\n",
       "      <td>15640.22083</td>\n",
       "      <td>870.471667</td>\n",
       "    </tr>\n",
       "    <tr>\n",
       "      <th>7</th>\n",
       "      <td>7</td>\n",
       "      <td>15551.18750</td>\n",
       "      <td>994.274167</td>\n",
       "    </tr>\n",
       "    <tr>\n",
       "      <th>8</th>\n",
       "      <td>8</td>\n",
       "      <td>15433.56250</td>\n",
       "      <td>1075.960000</td>\n",
       "    </tr>\n",
       "    <tr>\n",
       "      <th>9</th>\n",
       "      <td>9</td>\n",
       "      <td>15340.89167</td>\n",
       "      <td>1172.388333</td>\n",
       "    </tr>\n",
       "  </tbody>\n",
       "</table>\n",
       "</div>"
      ],
      "text/plain": [
       "   time(min)  E_avg_signal  Z_avg_signal\n",
       "0          0   16575.02917      1.251523\n",
       "1          1   16295.40417    231.987333\n",
       "2          2   16106.03333    403.315000\n",
       "3          3   15960.24583    532.000000\n",
       "4          4   15867.68750    658.157500\n",
       "5          5   15730.74167    767.407500\n",
       "6          6   15640.22083    870.471667\n",
       "7          7   15551.18750    994.274167\n",
       "8          8   15433.56250   1075.960000\n",
       "9          9   15340.89167   1172.388333"
      ]
     },
     "execution_count": 4,
     "metadata": {},
     "output_type": "execute_result"
    }
   ],
   "source": [
    "azobenzene_data.head(10)"
   ]
  },
  {
   "cell_type": "markdown",
   "metadata": {},
   "source": [
    "## Evaluating Expressions with `eval()`\n",
    "\n",
    "The `eval()` method lets you evaluate expressions as strings. This is especially useful when you want to create multiple columns or use complex operations concisely.\n",
    "\n",
    "The following arithmetic operations are supported: `+`, `-`, `*`, `/`, `**`, `%`, `//` along with the following boolean operations: `|` (or), `&` (and), and `~` (not). \n",
    "\n",
    "Let's create new columns for the fraction of each isomer (E or Z) present at each time point."
   ]
  },
  {
   "cell_type": "code",
   "execution_count": 5,
   "metadata": {},
   "outputs": [],
   "source": [
    "azobenzene_data = azobenzene_data.eval(\"\"\"\n",
    "    E_fraction = E_avg_signal / (E_avg_signal + Z_avg_signal)\n",
    "    Z_fraction = Z_avg_signal / (E_avg_signal + Z_avg_signal)\n",
    "\"\"\")"
   ]
  },
  {
   "cell_type": "markdown",
   "metadata": {},
   "source": [
    "<div class=\"alert alert-block alert-warning\">\n",
    "<h3>Exercise</h3>\n",
    "\n",
    "Examine how the `eval()` statement changed our Dataframe.\n",
    "Use the `head()` function to display the first 15 rows of `azobenzene_data`. \n",
    "\n",
    "</div>"
   ]
  },
  {
   "cell_type": "code",
   "execution_count": 6,
   "metadata": {},
   "outputs": [
    {
     "data": {
      "text/html": [
       "<div>\n",
       "<style scoped>\n",
       "    .dataframe tbody tr th:only-of-type {\n",
       "        vertical-align: middle;\n",
       "    }\n",
       "\n",
       "    .dataframe tbody tr th {\n",
       "        vertical-align: top;\n",
       "    }\n",
       "\n",
       "    .dataframe thead th {\n",
       "        text-align: right;\n",
       "    }\n",
       "</style>\n",
       "<table border=\"1\" class=\"dataframe\">\n",
       "  <thead>\n",
       "    <tr style=\"text-align: right;\">\n",
       "      <th></th>\n",
       "      <th>time(min)</th>\n",
       "      <th>E_avg_signal</th>\n",
       "      <th>Z_avg_signal</th>\n",
       "      <th>E_fraction</th>\n",
       "      <th>Z_fraction</th>\n",
       "    </tr>\n",
       "  </thead>\n",
       "  <tbody>\n",
       "    <tr>\n",
       "      <th>0</th>\n",
       "      <td>0</td>\n",
       "      <td>16575.02917</td>\n",
       "      <td>1.251523</td>\n",
       "      <td>0.999924</td>\n",
       "      <td>0.000076</td>\n",
       "    </tr>\n",
       "    <tr>\n",
       "      <th>1</th>\n",
       "      <td>1</td>\n",
       "      <td>16295.40417</td>\n",
       "      <td>231.987333</td>\n",
       "      <td>0.985963</td>\n",
       "      <td>0.014037</td>\n",
       "    </tr>\n",
       "    <tr>\n",
       "      <th>2</th>\n",
       "      <td>2</td>\n",
       "      <td>16106.03333</td>\n",
       "      <td>403.315000</td>\n",
       "      <td>0.975571</td>\n",
       "      <td>0.024429</td>\n",
       "    </tr>\n",
       "    <tr>\n",
       "      <th>3</th>\n",
       "      <td>3</td>\n",
       "      <td>15960.24583</td>\n",
       "      <td>532.000000</td>\n",
       "      <td>0.967742</td>\n",
       "      <td>0.032258</td>\n",
       "    </tr>\n",
       "    <tr>\n",
       "      <th>4</th>\n",
       "      <td>4</td>\n",
       "      <td>15867.68750</td>\n",
       "      <td>658.157500</td>\n",
       "      <td>0.960174</td>\n",
       "      <td>0.039826</td>\n",
       "    </tr>\n",
       "    <tr>\n",
       "      <th>5</th>\n",
       "      <td>5</td>\n",
       "      <td>15730.74167</td>\n",
       "      <td>767.407500</td>\n",
       "      <td>0.953485</td>\n",
       "      <td>0.046515</td>\n",
       "    </tr>\n",
       "    <tr>\n",
       "      <th>6</th>\n",
       "      <td>6</td>\n",
       "      <td>15640.22083</td>\n",
       "      <td>870.471667</td>\n",
       "      <td>0.947278</td>\n",
       "      <td>0.052722</td>\n",
       "    </tr>\n",
       "    <tr>\n",
       "      <th>7</th>\n",
       "      <td>7</td>\n",
       "      <td>15551.18750</td>\n",
       "      <td>994.274167</td>\n",
       "      <td>0.939907</td>\n",
       "      <td>0.060093</td>\n",
       "    </tr>\n",
       "    <tr>\n",
       "      <th>8</th>\n",
       "      <td>8</td>\n",
       "      <td>15433.56250</td>\n",
       "      <td>1075.960000</td>\n",
       "      <td>0.934828</td>\n",
       "      <td>0.065172</td>\n",
       "    </tr>\n",
       "    <tr>\n",
       "      <th>9</th>\n",
       "      <td>9</td>\n",
       "      <td>15340.89167</td>\n",
       "      <td>1172.388333</td>\n",
       "      <td>0.929003</td>\n",
       "      <td>0.070997</td>\n",
       "    </tr>\n",
       "    <tr>\n",
       "      <th>10</th>\n",
       "      <td>10</td>\n",
       "      <td>15248.83333</td>\n",
       "      <td>1265.546667</td>\n",
       "      <td>0.923367</td>\n",
       "      <td>0.076633</td>\n",
       "    </tr>\n",
       "    <tr>\n",
       "      <th>11</th>\n",
       "      <td>11</td>\n",
       "      <td>15186.37083</td>\n",
       "      <td>1369.560000</td>\n",
       "      <td>0.917277</td>\n",
       "      <td>0.082723</td>\n",
       "    </tr>\n",
       "    <tr>\n",
       "      <th>12</th>\n",
       "      <td>12</td>\n",
       "      <td>15059.14583</td>\n",
       "      <td>1422.262500</td>\n",
       "      <td>0.913705</td>\n",
       "      <td>0.086295</td>\n",
       "    </tr>\n",
       "    <tr>\n",
       "      <th>13</th>\n",
       "      <td>13</td>\n",
       "      <td>15016.63750</td>\n",
       "      <td>1499.094167</td>\n",
       "      <td>0.909232</td>\n",
       "      <td>0.090768</td>\n",
       "    </tr>\n",
       "    <tr>\n",
       "      <th>14</th>\n",
       "      <td>14</td>\n",
       "      <td>14953.22500</td>\n",
       "      <td>1549.264167</td>\n",
       "      <td>0.906119</td>\n",
       "      <td>0.093881</td>\n",
       "    </tr>\n",
       "  </tbody>\n",
       "</table>\n",
       "</div>"
      ],
      "text/plain": [
       "    time(min)  E_avg_signal  Z_avg_signal  E_fraction  Z_fraction\n",
       "0           0   16575.02917      1.251523    0.999924    0.000076\n",
       "1           1   16295.40417    231.987333    0.985963    0.014037\n",
       "2           2   16106.03333    403.315000    0.975571    0.024429\n",
       "3           3   15960.24583    532.000000    0.967742    0.032258\n",
       "4           4   15867.68750    658.157500    0.960174    0.039826\n",
       "5           5   15730.74167    767.407500    0.953485    0.046515\n",
       "6           6   15640.22083    870.471667    0.947278    0.052722\n",
       "7           7   15551.18750    994.274167    0.939907    0.060093\n",
       "8           8   15433.56250   1075.960000    0.934828    0.065172\n",
       "9           9   15340.89167   1172.388333    0.929003    0.070997\n",
       "10         10   15248.83333   1265.546667    0.923367    0.076633\n",
       "11         11   15186.37083   1369.560000    0.917277    0.082723\n",
       "12         12   15059.14583   1422.262500    0.913705    0.086295\n",
       "13         13   15016.63750   1499.094167    0.909232    0.090768\n",
       "14         14   14953.22500   1549.264167    0.906119    0.093881"
      ]
     },
     "execution_count": 6,
     "metadata": {},
     "output_type": "execute_result"
    }
   ],
   "source": [
    "azobenzene_data.head(15)"
   ]
  },
  {
   "cell_type": "markdown",
   "metadata": {},
   "source": [
    "# Visualizing Data with `DataFrame.plot()`\n",
    "\n",
    "Pandas makes data visualization easy with its built-in `plot()` method. This method provides a convenient interface to create a variety of plots directly from a DataFrame or Series without needing extensive setup.\n",
    "\n",
    "### Key Features of `DataFrame.plot()`\n",
    "\n",
    "- **Ease of Use**: Quickly create line plots, bar charts, scatter plots, and more.\n",
    "- **Built for DataFrames**: Automatically uses column names as labels and handles indexing seamlessly.\n",
    "\n",
    "### Using the `x` and `y` Arguments\n",
    "\n",
    "- **`x`**: The column to use for the x-axis (independent variable).\n",
    "- **`y`**: The column(s) to use for the y-axis (dependent variable)."
   ]
  },
  {
   "cell_type": "code",
   "execution_count": 24,
   "metadata": {},
   "outputs": [
    {
     "data": {
      "text/plain": [
       "<Axes: xlabel='time(min)'>"
      ]
     },
     "execution_count": 24,
     "metadata": {},
     "output_type": "execute_result"
    },
    {
     "data": {
      "image/png": "[encoded data removed]",
      "text/plain": [
       "<Figure size 640x480 with 1 Axes>"
      ]
     },
     "metadata": {},
     "output_type": "display_data"
    }
   ],
   "source": [
    "azobenzene_data.plot(x='time(min)')"
   ]
  },
  {
   "cell_type": "markdown",
   "metadata": {},
   "source": [
    "## Introduction to Matplotlib\n",
    "\n",
    "Matplotlib is a popular Python library used for creating static, interactive, and animated visualizations. It is especially useful in scientific computing for generating publication-quality graphs and plots. Matplotlib works seamlessly with NumPy, pandas, and other data-handling libraries, making it an excellent choice for visualizing chemical data.\n",
    "\n",
    "\n",
    "### Why Use Matplotlib?\n",
    "\n",
    "- **Versatility:** Supports various types of plots like scatter, line, bar, and histogram.\n",
    "- **Customization:** You can control every aspect of the figure, such as colors, labels, and markers.\n",
    "\n",
    "Let’s start with a brief tutorial on creating a scatter plot.\n"
   ]
  },
  {
   "cell_type": "code",
   "execution_count": null,
   "metadata": {},
   "outputs": [
    {
     "data": {
      "image/png": "[encoded data removed]",
      "text/plain": [
       "<Figure size 800x600 with 1 Axes>"
      ]
     },
     "metadata": {},
     "output_type": "display_data"
    }
   ],
   "source": [
    "# Create a blank figure\n",
    "plt.figure(figsize=(8, 6))  # Set the figure size\n",
    "\n",
    "# Plot E_fraction as a scatter plot\n",
    "plt.scatter(\n",
    "    azobenzene_data['time(min)'],\n",
    "    azobenzene_data['E_fraction'],\n",
    "    color='blue',\n",
    "    label='E Fraction'\n",
    ")\n",
    "\n",
    "# Plot Z_fraction as a scatter plot\n",
    "plt.scatter(\n",
    "    azobenzene_data['time(min)'],\n",
    "    azobenzene_data['Z_fraction'],\n",
    "    color='red',\n",
    "    label='Z Fraction'\n",
    ")\n",
    "\n",
    "# Add labels, title, and legend\n",
    "plt.xlabel('Time (min)', fontsize=14)\n",
    "plt.ylabel('Fraction', fontsize=14)\n",
    "plt.title('Conformational Change of Azobenzene', fontsize=16)\n",
    "\n",
    "# Show the plot\n",
    "plt.grid(True)  # Add a grid for better readability\n",
    "plt.show()\n"
   ]
  },
  {
   "cell_type": "markdown",
   "metadata": {},
   "source": [
    "<div class=\"alert alert-block alert-warning\">\n",
    "<h3>Exercise</h3>\n",
    "\n",
    "Modify the code below to customize the plot to your preference. \n",
    "\n",
    "Ideas of things to change:\n",
    "- figsize\n",
    "- color\n",
    "- labels\n",
    "- title\n",
    "- fontsize\n",
    "- add a legend: `plt.legend(fontsize=12)`\n",
    "- limit the x-axis: `plt.xlim(left=0, right=20)`\n",
    "- grid\n",
    "\n",
    "</div>"
   ]
  },
  {
   "cell_type": "code",
   "execution_count": 19,
   "metadata": {},
   "outputs": [
    {
     "data": {
      "image/png": "[encoded data removed]",
      "text/plain": [
       "<Figure size 800x600 with 1 Axes>"
      ]
     },
     "metadata": {},
     "output_type": "display_data"
    }
   ],
   "source": [
    "# Create a blank figure\n",
    "plt.figure(figsize=(8, 6))  # Set the figure size\n",
    "\n",
    "# Plot E_fraction as a scatter plot\n",
    "plt.scatter(\n",
    "    azobenzene_data['time(min)'],\n",
    "    azobenzene_data['E_fraction'],\n",
    "    color='green',\n",
    "    label='E Fraction'\n",
    ")\n",
    "\n",
    "# Plot Z_fraction as a scatter plot\n",
    "plt.scatter(\n",
    "    azobenzene_data['time(min)'],\n",
    "    azobenzene_data['Z_fraction'],\n",
    "    color='purple',\n",
    "    label='Z Fraction'\n",
    ")\n",
    "\n",
    "# Add labels, title, and legend\n",
    "plt.xlim(left=-0.5, right=25.5)\n",
    "plt.ylim(bottom=-0.1, top=1.1)\n",
    "plt.xlabel('Time (min)', fontsize=14)\n",
    "plt.ylabel('Fraction', fontsize=14)\n",
    "plt.title('Azobenzene photo NMR', fontsize=14)\n",
    "plt.legend(fontsize=12)\n",
    "\n",
    "# Show the plot\n",
    "plt.grid(False)  # Add a grid for better readability\n",
    "plt.show()"
   ]
  },
  {
   "cell_type": "markdown",
   "metadata": {},
   "source": [
    "## Equation for 1<sup>st</sup> Rate Constant Calculation\n",
    "\n",
    "The rate constant *k* can be calculated using the following equation:\n",
    "$$ \\ln\\left(\\frac{Z_t}{Z_0}\\right) = -k t $$\n",
    "\n",
    "Rearranging to solve for *k*:\n",
    "$$ k = -\\frac{\\ln\\left(\\frac{Z_t}{Z_0}\\right)}{t} $$\n",
    "\n",
    "Where:  \n",
    "- *Z<sub>t</sub>*: Fraction of Z-isomer at time *t*  \n",
    "- *Z<sub>0</sub>*: Initial fraction of Z-isomer before light exposure  \n",
    "- *t*: Time of exposure (seconds)\n",
    "- *k*: Rate constant  \n",
    "\n",
    "Let's create new columns in our Dataframe with all the variables we need to determine the instantaneous rate constant for our reaction."
   ]
  },
  {
   "cell_type": "code",
   "execution_count": 20,
   "metadata": {},
   "outputs": [],
   "source": [
    "# t: Time of exposure (seconds)\n",
    "azobenzene_data['seconds'] = azobenzene_data['time(min)'] * 60\n",
    "\n",
    "# ln(Zt/Z0)\n",
    "azobenzene_data['ln_Zt_Z0'] = np.log(azobenzene_data['Z_fraction'] / azobenzene_data['Z_fraction'].iloc[0])\n",
    "\n",
    "# k: Rate constant \n",
    "azobenzene_data['k'] = azobenzene_data['ln_Zt_Z0'] / azobenzene_data['seconds']"
   ]
  },
  {
   "cell_type": "markdown",
   "metadata": {},
   "source": [
    "<div class=\"alert alert-block alert-warning\">\n",
    "<h3>Exercise</h3>\n",
    "\n",
    "The instantaneous rate constant for our reaction should change over time. Use the `Dataframe.plot()` method to plot the instantaneous rate (`k)` vs time (`time(min)` or `seconds`). \n",
    "\n",
    "**Tip**: Use the `x` and `y` arguments.\n",
    "\n",
    "</div>"
   ]
  },
  {
   "cell_type": "code",
   "execution_count": 21,
   "metadata": {},
   "outputs": [
    {
     "data": {
      "text/plain": [
       "<Axes: xlabel='seconds'>"
      ]
     },
     "execution_count": 21,
     "metadata": {},
     "output_type": "execute_result"
    },
    {
     "data": {
      "image/png": "[encoded data removed]",
      "text/plain": [
       "<Figure size 640x480 with 1 Axes>"
      ]
     },
     "metadata": {},
     "output_type": "display_data"
    }
   ],
   "source": [
    "# k: Rate constant \n",
    "azobenzene_data.plot(x='seconds', y='k')"
   ]
  },
  {
   "cell_type": "markdown",
   "metadata": {},
   "source": [
    "## Examining Data Part 2\n",
    "\n",
    "- `.info()`: Provides a summary of the DataFrame, including data types and non-null counts.\n",
    "- `.describe()`: Generates descriptive statistics for numeric columns."
   ]
  },
  {
   "cell_type": "code",
   "execution_count": 27,
   "metadata": {},
   "outputs": [
    {
     "name": "stdout",
     "output_type": "stream",
     "text": [
      "<class 'pandas.core.frame.DataFrame'>\n",
      "RangeIndex: 120 entries, 0 to 119\n",
      "Data columns (total 8 columns):\n",
      " #   Column        Non-Null Count  Dtype  \n",
      "---  ------        --------------  -----  \n",
      " 0   time(min)     120 non-null    int64  \n",
      " 1   E_avg_signal  120 non-null    float64\n",
      " 2   Z_avg_signal  120 non-null    float64\n",
      " 3   E_fraction    120 non-null    float64\n",
      " 4   Z_fraction    120 non-null    float64\n",
      " 5   seconds       120 non-null    int64  \n",
      " 6   ln_Zt_Z0      120 non-null    float64\n",
      " 7   k             119 non-null    float64\n",
      "dtypes: float64(6), int64(2)\n",
      "memory usage: 7.6 KB\n"
     ]
    }
   ],
   "source": [
    "azobenzene_data.info()"
   ]
  },
  {
   "cell_type": "code",
   "execution_count": 25,
   "metadata": {},
   "outputs": [
    {
     "data": {
      "text/html": [
       "<div>\n",
       "<style scoped>\n",
       "    .dataframe tbody tr th:only-of-type {\n",
       "        vertical-align: middle;\n",
       "    }\n",
       "\n",
       "    .dataframe tbody tr th {\n",
       "        vertical-align: top;\n",
       "    }\n",
       "\n",
       "    .dataframe thead th {\n",
       "        text-align: right;\n",
       "    }\n",
       "</style>\n",
       "<table border=\"1\" class=\"dataframe\">\n",
       "  <thead>\n",
       "    <tr style=\"text-align: right;\">\n",
       "      <th></th>\n",
       "      <th>time(min)</th>\n",
       "      <th>E_avg_signal</th>\n",
       "      <th>Z_avg_signal</th>\n",
       "      <th>E_fraction</th>\n",
       "      <th>Z_fraction</th>\n",
       "      <th>seconds</th>\n",
       "      <th>ln_Zt_Z0</th>\n",
       "      <th>k</th>\n",
       "    </tr>\n",
       "  </thead>\n",
       "  <tbody>\n",
       "    <tr>\n",
       "      <th>count</th>\n",
       "      <td>120.000000</td>\n",
       "      <td>120.000000</td>\n",
       "      <td>120.000000</td>\n",
       "      <td>120.000000</td>\n",
       "      <td>120.000000</td>\n",
       "      <td>120.000000</td>\n",
       "      <td>120.000000</td>\n",
       "      <td>119.000000</td>\n",
       "    </tr>\n",
       "    <tr>\n",
       "      <th>mean</th>\n",
       "      <td>59.500000</td>\n",
       "      <td>14176.960034</td>\n",
       "      <td>2339.165164</td>\n",
       "      <td>0.858356</td>\n",
       "      <td>0.141644</td>\n",
       "      <td>3570.000000</td>\n",
       "      <td>7.421994</td>\n",
       "      <td>0.004963</td>\n",
       "    </tr>\n",
       "    <tr>\n",
       "      <th>std</th>\n",
       "      <td>34.785054</td>\n",
       "      <td>665.863470</td>\n",
       "      <td>659.080685</td>\n",
       "      <td>0.039951</td>\n",
       "      <td>0.039951</td>\n",
       "      <td>2087.103256</td>\n",
       "      <td>0.798704</td>\n",
       "      <td>0.009917</td>\n",
       "    </tr>\n",
       "    <tr>\n",
       "      <th>min</th>\n",
       "      <td>0.000000</td>\n",
       "      <td>13579.108330</td>\n",
       "      <td>1.251523</td>\n",
       "      <td>0.823977</td>\n",
       "      <td>0.000076</td>\n",
       "      <td>0.000000</td>\n",
       "      <td>0.000000</td>\n",
       "      <td>0.001086</td>\n",
       "    </tr>\n",
       "    <tr>\n",
       "      <th>25%</th>\n",
       "      <td>29.750000</td>\n",
       "      <td>13688.464583</td>\n",
       "      <td>2021.735625</td>\n",
       "      <td>0.828979</td>\n",
       "      <td>0.122491</td>\n",
       "      <td>1785.000000</td>\n",
       "      <td>7.391640</td>\n",
       "      <td>0.001439</td>\n",
       "    </tr>\n",
       "    <tr>\n",
       "      <th>50%</th>\n",
       "      <td>59.500000</td>\n",
       "      <td>13885.333330</td>\n",
       "      <td>2636.426666</td>\n",
       "      <td>0.840414</td>\n",
       "      <td>0.159586</td>\n",
       "      <td>3570.000000</td>\n",
       "      <td>7.656179</td>\n",
       "      <td>0.002128</td>\n",
       "    </tr>\n",
       "    <tr>\n",
       "      <th>75%</th>\n",
       "      <td>89.250000</td>\n",
       "      <td>14512.470835</td>\n",
       "      <td>2818.604583</td>\n",
       "      <td>0.877509</td>\n",
       "      <td>0.171021</td>\n",
       "      <td>5355.000000</td>\n",
       "      <td>7.725399</td>\n",
       "      <td>0.004042</td>\n",
       "    </tr>\n",
       "    <tr>\n",
       "      <th>max</th>\n",
       "      <td>119.000000</td>\n",
       "      <td>16575.029170</td>\n",
       "      <td>2911.611667</td>\n",
       "      <td>0.999924</td>\n",
       "      <td>0.176023</td>\n",
       "      <td>7140.000000</td>\n",
       "      <td>7.754224</td>\n",
       "      <td>0.087088</td>\n",
       "    </tr>\n",
       "  </tbody>\n",
       "</table>\n",
       "</div>"
      ],
      "text/plain": [
       "        time(min)  E_avg_signal  Z_avg_signal  E_fraction  Z_fraction  \\\n",
       "count  120.000000    120.000000    120.000000  120.000000  120.000000   \n",
       "mean    59.500000  14176.960034   2339.165164    0.858356    0.141644   \n",
       "std     34.785054    665.863470    659.080685    0.039951    0.039951   \n",
       "min      0.000000  13579.108330      1.251523    0.823977    0.000076   \n",
       "25%     29.750000  13688.464583   2021.735625    0.828979    0.122491   \n",
       "50%     59.500000  13885.333330   2636.426666    0.840414    0.159586   \n",
       "75%     89.250000  14512.470835   2818.604583    0.877509    0.171021   \n",
       "max    119.000000  16575.029170   2911.611667    0.999924    0.176023   \n",
       "\n",
       "           seconds    ln_Zt_Z0           k  \n",
       "count   120.000000  120.000000  119.000000  \n",
       "mean   3570.000000    7.421994    0.004963  \n",
       "std    2087.103256    0.798704    0.009917  \n",
       "min       0.000000    0.000000    0.001086  \n",
       "25%    1785.000000    7.391640    0.001439  \n",
       "50%    3570.000000    7.656179    0.002128  \n",
       "75%    5355.000000    7.725399    0.004042  \n",
       "max    7140.000000    7.754224    0.087088  "
      ]
     },
     "execution_count": 25,
     "metadata": {},
     "output_type": "execute_result"
    }
   ],
   "source": [
    "azobenzene_data.describe()"
   ]
  },
  {
   "cell_type": "markdown",
   "metadata": {},
   "source": [
    "## Possible RDkit review\n",
    "\n",
    "Display molecule in 3D to illustrate why chemical shifts change in the E and Z isomers."
   ]
  },
  {
   "cell_type": "code",
   "execution_count": 111,
   "metadata": {},
   "outputs": [],
   "source": [
    "from rdkit import Chem\n",
    "from rdkit.Chem import Draw, AllChem"
   ]
  },
  {
   "cell_type": "code",
   "execution_count": 107,
   "metadata": {},
   "outputs": [
    {
     "name": "stderr",
     "output_type": "stream",
     "text": [
      "<>:1: SyntaxWarning: invalid escape sequence '\\c'\n",
      "<>:1: SyntaxWarning: invalid escape sequence '\\c'\n",
      "/tmp/ipykernel_98835/2324863726.py:1: SyntaxWarning: invalid escape sequence '\\c'\n",
      "  azo_E = Chem.MolFromSmiles('N(=N/c1ccccc1)\\c2ccccc2')\n"
     ]
    }
   ],
   "source": [
    "azo_E = Chem.MolFromSmiles('N(=N/c1ccccc1)\\c2ccccc2')\n",
    "azo_Z = Chem.MolFromSmiles('c1ccc(/N=N\\\\c2ccccc2)cc1')"
   ]
  },
  {
   "cell_type": "code",
   "execution_count": 108,
   "metadata": {},
   "outputs": [
    {
     "data": {
      "image/png": "[encoded data removed]",
      "text/plain": [
       "<IPython.core.display.Image object>"
      ]
     },
     "execution_count": 108,
     "metadata": {},
     "output_type": "execute_result"
    }
   ],
   "source": [
    "Draw.MolsToGridImage(mols=[azo_E, azo_Z], legends=['Azobenzene-(E)', 'Azobenzene-(Z)'], molsPerRow=2)"
   ]
  },
  {
   "cell_type": "code",
   "execution_count": 114,
   "metadata": {},
   "outputs": [
    {
     "data": {
      "text/plain": [
       "0"
      ]
     },
     "execution_count": 114,
     "metadata": {},
     "output_type": "execute_result"
    }
   ],
   "source": [
    "# Add Hydrogen atoms to molecule\n",
    "azo_E = AllChem.AddHs(azo_E)\n",
    "azo_Z = AllChem.AddHs(azo_Z)\n",
    "\n",
    "# Create a 3D molecule\n",
    "AllChem.EmbedMolecule(azo_E)\n",
    "AllChem.EmbedMolecule(azo_Z)\n",
    "\n",
    "# Minimize energy of molecular conformation\n",
    "AllChem.MMFFOptimizeMolecule(azo_E)\n",
    "AllChem.MMFFOptimizeMolecule(azo_Z)"
   ]
  },
  {
   "cell_type": "code",
   "execution_count": 115,
   "metadata": {},
   "outputs": [
    {
     "data": {
      "image/png": "[encoded data removed]",
      "text/plain": [
       "<IPython.core.display.Image object>"
      ]
     },
     "execution_count": 115,
     "metadata": {},
     "output_type": "execute_result"
    }
   ],
   "source": [
    "Draw.MolsToGridImage(mols=[azo_E, azo_Z], legends=['Azobenzene-(E)', 'Azobenzene-(Z)'], molsPerRow=2)"
   ]
  }
 ],
 "metadata": {
  "kernelspec": {
   "display_name": "nmr",
   "language": "python",
   "name": "python3"
  },
  "language_info": {
   "codemirror_mode": {
    "name": "ipython",
    "version": 3
   },
   "file_extension": ".py",
   "mimetype": "text/x-python",
   "name": "python",
   "nbconvert_exporter": "python",
   "pygments_lexer": "ipython3",
   "version": "3.12.5"
  }
 },
 "nbformat": 4,
 "nbformat_minor": 2
}
