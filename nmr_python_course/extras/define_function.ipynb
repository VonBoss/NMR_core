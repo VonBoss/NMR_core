{
 "cells": [
  {
   "cell_type": "markdown",
   "metadata": {},
   "source": [
    "## Define a Function\n",
    "\n",
    "If you plan to perform the same coding task multiple time consider making your own function.\n",
    "\n",
    "To define a function in Python, you use the `def` keyword, followed by the `function_name`, parentheses `( )` (which may contain arguments), and a colon `:`. The function's code block is indented beneath the definition. Finally, use the `return` command (optional) to return a value from the function.\n",
    "\n",
    "```python\n",
    "def function_name(arguments):\n",
    "    # Code to execute\n",
    "    return result  # Optional: returns a value\n",
    "```\n",
    "\n",
    "Let's define our own function and use it."
   ]
  },
  {
   "cell_type": "code",
   "execution_count": null,
   "metadata": {},
   "outputs": [
    {
     "name": "stdout",
     "output_type": "stream",
     "text": [
      "UNC wins per season: 26.9\n",
      "Duke wins per season: 27.0\n"
     ]
    }
   ],
   "source": [
    "# Define the get_rounded_average() function\n",
    "def get_rounded_average(values, round_ndigits):\n",
    "    average = sum(values) / len(values)\n",
    "    rounded_average = round(average, ndigits = round_ndigits)\n",
    "    return rounded_average\n",
    "\n",
    "# Number of UNC basketball wins per season under head coach Roy Williams\n",
    "roy_williams_wins = [19, 33, 23, 31, 36, 34, 20, 29, 32, 25, 24, 26, 33, 33, 26, 29, 14, 18]\n",
    "\n",
    "# Number of Duke basketball wins per season under head coach Mike Kryzewski\n",
    "mike_krzyzewski_wins =[17, 10, 11, 24, 23, 37, 24, 28, 28, 29, 32, 34, 24, 28, 13, 18, 24, 32,\n",
    "                       37, 29,35, 31, 26, 31, 27, 32, 22, 28, 30, 35, 32, 27, 30, 26, 35, 25,\n",
    "                       28, 29, 32, 25, 13, 32]\n",
    "\n",
    "# Run the get_rounded_average() function\n",
    "unc_avg_wins = get_rounded_average(roy_williams_wins, round_ndigits=1)\n",
    "duke_avg_wins = get_rounded_average(mike_krzyzewski_wins, round_ndigits=1)\n",
    "\n",
    "print('UNC wins per season:', unc_avg_wins)\n",
    "print('Duke wins per season:', duke_avg_wins)"
   ]
  },
  {
   "cell_type": "markdown",
   "metadata": {},
   "source": [
    "I guess Dook is ok...."
   ]
  },
  {
   "cell_type": "markdown",
   "metadata": {},
   "source": [
    "<div class=\"alert alert-block alert-warning\"> \n",
    "<h3>Challenge</h3>\n",
    "\n",
    "Define a function called `convert_fahrenheit_to_celsius` that converts temperature in freedom units (fahrenheit) to celsius and returns the celsius value. Test your function with the value 77.0 degrees fahrenheit, you should get 25 degrees celsius.\n",
    "</div>\n",
    "\n",
    "celsius = (fahrenheit - 32) * 5/9"
   ]
  },
  {
   "cell_type": "code",
   "execution_count": null,
   "metadata": {},
   "outputs": [],
   "source": []
  }
 ],
 "metadata": {
  "language_info": {
   "name": "python"
  }
 },
 "nbformat": 4,
 "nbformat_minor": 2
}
