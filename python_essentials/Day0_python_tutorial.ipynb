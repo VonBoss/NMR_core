{
 "cells": [
  {
   "cell_type": "markdown",
   "metadata": {},
   "source": [
    "# Python crashcourse for chemists\n",
    "\n",
    "<div class=\"alert alert-block alert-info\">\n",
    "<h2>Glossary:</h2>\n",
    "\n",
    "**Python:** a popular computer language for science, data science, and general use.\n",
    "\n",
    "**Jupyter notebook:** this file is a jupyter notebook (.ipynb). It is an interactive way to write notes and run python code in the same file.\n",
    "\n",
    "**Longleaf:** UNC research computing compute cluster. (aka: a super computer accessible to UNC researchers)\n",
    "\n",
    "**Longleaf On Demand:** a user-friendly web-portal that provides a graphical interface for apps including Jupyter.\n",
    "\n",
    "</div>"
   ]
  },
  {
   "cell_type": "markdown",
   "metadata": {},
   "source": [
    "Request a Longleaf account at: https://help.rc.unc.edu/request-a-cluster-account/\n",
    "\n",
    "Access Longleaf On Demand at: https://ondemand.rc.unc.edu/pun/sys/dashboard"
   ]
  },
  {
   "cell_type": "markdown",
   "metadata": {},
   "source": [
    "## Basic math\n",
    "\n",
    "Any Python interpreter can work just like a calculator. \n",
    "\n",
    "Run the cell below to calculate the win rate for UNC basketball since 2018 by selecting it and pressing (`Shift + Enter`). \n",
    "\n",
    "| UNC wins | Duke wins |\n",
    "| :------: | :-------: |\n",
    "|    8     |     6     |\n",
    "\n",
    "```python\n",
    "win rate = unc_wins / total_games\n",
    "```"
   ]
  },
  {
   "cell_type": "code",
   "execution_count": 16,
   "metadata": {},
   "outputs": [
    {
     "data": {
      "text/plain": [
       "0.5714285714285714"
      ]
     },
     "execution_count": 16,
     "metadata": {},
     "output_type": "execute_result"
    }
   ],
   "source": [
    "8/(8 + 6)"
   ]
  },
  {
   "cell_type": "markdown",
   "metadata": {},
   "source": [
    "## Assign a variable\n",
    "\n",
    "To save a value for later use we can we can assign it as a variable.\n",
    "The syntax for assigning a variable is:\n",
    "\n",
    "```python\n",
    "descriptive_variable_name = variable_value\n",
    "```"
   ]
  },
  {
   "cell_type": "code",
   "execution_count": 32,
   "metadata": {},
   "outputs": [],
   "source": [
    "unc_motto = 'Beat Duke!'\n",
    "unc_wins = 8\n",
    "duke_wins = 6\n",
    "win_rate = unc_wins/(unc_wins + duke_wins)"
   ]
  },
  {
   "cell_type": "markdown",
   "metadata": {},
   "source": [
    "## Using Functions\n",
    "\n",
    "Functions are reusable pieces of code that performs certain tasks. \n",
    "Examples include printing, opening files, performing a calculations, and many others.\n",
    "\n",
    "Functions have a name that is followed by parenthesis containing the function inputs separated by commas (also called *arguments*).\n",
    "\n",
    "```python\n",
    "function_name(argument1, argument2)\n",
    "```\n",
    "\n",
    "A useful function that is built into python is the `print()` function. Let's print some of our variables."
   ]
  },
  {
   "cell_type": "code",
   "execution_count": 33,
   "metadata": {},
   "outputs": [
    {
     "name": "stdout",
     "output_type": "stream",
     "text": [
      "Beat Duke!\n"
     ]
    }
   ],
   "source": [
    "print(unc_motto)"
   ]
  },
  {
   "cell_type": "code",
   "execution_count": 34,
   "metadata": {},
   "outputs": [
    {
     "name": "stdout",
     "output_type": "stream",
     "text": [
      "UNC basketball wins since 2018:\n",
      "8\n"
     ]
    }
   ],
   "source": [
    "print('UNC basketball wins since 2018:')\n",
    "print(unc_wins)"
   ]
  },
  {
   "cell_type": "markdown",
   "metadata": {},
   "source": [
    "This season UNC will obviously beat Duke twice. \n",
    "\n",
    "To make a change to the `unc_wins` variable we need to re-save the variable after adding 2 wins. \n",
    "\n",
    "Compare what happens if you do or do NOT re-save a variable after making a change."
   ]
  },
  {
   "cell_type": "code",
   "execution_count": 42,
   "metadata": {},
   "outputs": [
    {
     "name": "stdout",
     "output_type": "stream",
     "text": [
      "When we do NOT re-save the varible:\n",
      "12\n",
      "12\n",
      "\n",
      "When we do re-save the varible:\n",
      "12\n",
      "14\n"
     ]
    }
   ],
   "source": [
    "print('When we do NOT re-save the variable:')\n",
    "print(unc_wins)\n",
    "unc_wins + 2\n",
    "print(unc_wins)\n",
    "print()\n",
    "print('When we do re-save the variable:')\n",
    "print(unc_wins)\n",
    "unc_wins = unc_wins + 2\n",
    "print(unc_wins)"
   ]
  },
  {
   "cell_type": "markdown",
   "metadata": {},
   "source": [
    "Python has many built-in assignment operators that are commonly used to assign new values to variables:\n",
    "\n",
    "| Assignment operator | Example  | Equivalent to |\n",
    "| :------------------: | :------: | :-----------: |\n",
    "|          +=          | num += 2 | num = num + 2 |\n",
    "|          -=          | num -= 2 | num = num - 2 |\n",
    "|          *=          | num *= 2 | num = num * 2 |\n",
    "|          /=          | num /= 2 | num = num / 2 |"
   ]
  },
  {
   "cell_type": "code",
   "execution_count": 37,
   "metadata": {},
   "outputs": [
    {
     "name": "stdout",
     "output_type": "stream",
     "text": [
      "8\n",
      "6\n"
     ]
    }
   ],
   "source": [
    "print(unc_wins)\n",
    "unc_wins -= 2\n",
    "print(unc_wins)"
   ]
  },
  {
   "cell_type": "markdown",
   "metadata": {},
   "source": [
    "## Basic Data Types\n",
    "\n",
    "| Date type (abbreviation)        | Description                          | Example        |\n",
    "| ------------------------------- | ------------------------------------ | -------------- |\n",
    "| string (`str`)                  | plain ascii text                     | `'Beat Duke!'` |\n",
    "| integer (`int`)                 | whole number                         | `23`           |\n",
    "| floating point number (`float`) | rational number with a decimal point | `0.571428`     |\n",
    "\n",
    "You can easily identify the data type of any variable with the function `type(variable_name)`."
   ]
  },
  {
   "cell_type": "code",
   "execution_count": 46,
   "metadata": {},
   "outputs": [
    {
     "name": "stdout",
     "output_type": "stream",
     "text": [
      "Beat Duke!\n"
     ]
    },
    {
     "data": {
      "text/plain": [
       "str"
      ]
     },
     "execution_count": 46,
     "metadata": {},
     "output_type": "execute_result"
    }
   ],
   "source": [
    "print(unc_motto)\n",
    "type(unc_motto)"
   ]
  },
  {
   "cell_type": "code",
   "execution_count": 47,
   "metadata": {},
   "outputs": [
    {
     "name": "stdout",
     "output_type": "stream",
     "text": [
      "14\n"
     ]
    },
    {
     "data": {
      "text/plain": [
       "int"
      ]
     },
     "execution_count": 47,
     "metadata": {},
     "output_type": "execute_result"
    }
   ],
   "source": [
    "print(unc_wins)\n",
    "type(unc_wins)"
   ]
  },
  {
   "cell_type": "code",
   "execution_count": 48,
   "metadata": {},
   "outputs": [
    {
     "name": "stdout",
     "output_type": "stream",
     "text": [
      "0.5714285714285714\n"
     ]
    },
    {
     "data": {
      "text/plain": [
       "float"
      ]
     },
     "execution_count": 48,
     "metadata": {},
     "output_type": "execute_result"
    }
   ],
   "source": [
    "print(win_rate)\n",
    "type(win_rate)"
   ]
  },
  {
   "cell_type": "code",
   "execution_count": null,
   "metadata": {},
   "outputs": [],
   "source": []
  },
  {
   "cell_type": "markdown",
   "metadata": {},
   "source": [
    "## Formatted Strings\n",
    "\n",
    "A formatted string is a special type of string that can contain code (E.g. variables and functions).\n",
    "To make a formatted string, you start your string with an `f`, and put variable names in curly braces."
   ]
  },
  {
   "cell_type": "code",
   "execution_count": 50,
   "metadata": {},
   "outputs": [
    {
     "name": "stdout",
     "output_type": "stream",
     "text": [
      "Our motto is to: Beat Duke!\n"
     ]
    }
   ],
   "source": [
    "print(f'Our motto is to: {unc_motto}')"
   ]
  },
  {
   "cell_type": "code",
   "execution_count": null,
   "metadata": {},
   "outputs": [],
   "source": []
  }
 ],
 "metadata": {
  "kernelspec": {
   "display_name": "nmr",
   "language": "python",
   "name": "python3"
  },
  "language_info": {
   "codemirror_mode": {
    "name": "ipython",
    "version": 3
   },
   "file_extension": ".py",
   "mimetype": "text/x-python",
   "name": "python",
   "nbconvert_exporter": "python",
   "pygments_lexer": "ipython3",
   "version": "3.12.5"
  }
 },
 "nbformat": 4,
 "nbformat_minor": 2
}
